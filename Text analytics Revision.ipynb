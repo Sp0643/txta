{
 "cells": [
  {
   "cell_type": "markdown",
   "id": "d1deb64b",
   "metadata": {},
   "source": [
    "# Learn to load data\n",
    "1. Learning how to load Cash suspension project data is top priority.\n",
    "2. Lern to load all kind of data "
   ]
  },
  {
   "cell_type": "markdown",
   "id": "b4723284",
   "metadata": {},
   "source": [
    "#### We have a comment column , which will be used for text analysis== done"
   ]
  },
  {
   "cell_type": "code",
   "execution_count": null,
   "id": "0220bd3d",
   "metadata": {},
   "outputs": [],
   "source": []
  }
 ],
 "metadata": {
  "kernelspec": {
   "display_name": "Python 3 (ipykernel)",
   "language": "python",
   "name": "python3"
  },
  "language_info": {
   "codemirror_mode": {
    "name": "ipython",
    "version": 3
   },
   "file_extension": ".py",
   "mimetype": "text/x-python",
   "name": "python",
   "nbconvert_exporter": "python",
   "pygments_lexer": "ipython3",
   "version": "3.9.7"
  }
 },
 "nbformat": 4,
 "nbformat_minor": 5
}
