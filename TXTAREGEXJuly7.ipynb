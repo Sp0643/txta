{
  "nbformat": 4,
  "nbformat_minor": 0,
  "metadata": {
    "colab": {
      "provenance": [],
      "collapsed_sections": []
    },
    "kernelspec": {
      "name": "python3",
      "display_name": "Python 3"
    },
    "language_info": {
      "name": "python"
    }
  },
  "cells": [
    {
      "cell_type": "code",
      "execution_count": null,
      "metadata": {
        "id": "wZMhpbQMH6vD"
      },
      "outputs": [],
      "source": [
        "import re"
      ]
    },
    {
      "cell_type": "code",
      "source": [
        "s1=\"Phill Collins was travelling with his friend Andrew Symons when he met with the accident\""
      ],
      "metadata": {
        "id": "4BvAtacuICPS"
      },
      "execution_count": null,
      "outputs": []
    },
    {
      "cell_type": "code",
      "source": [
        "re.findall(\"([A-Z]\\w+\\s[A-Z]\\w+)\",s1)"
      ],
      "metadata": {
        "colab": {
          "base_uri": "https://localhost:8080/"
        },
        "id": "uSHci7YhIUgM",
        "outputId": "8fb7b632-bfd1-4ea8-a1d3-59e730d0b959"
      },
      "execution_count": null,
      "outputs": [
        {
          "output_type": "execute_result",
          "data": {
            "text/plain": [
              "['Phill Collins', 'Andrew Symons']"
            ]
          },
          "metadata": {},
          "execution_count": 55
        }
      ]
    },
    {
      "cell_type": "code",
      "source": [
        "s3=\"I have my mobile numbers 0123456890, +91-123456789, 1234567890, 1234-67890 and my building number is 48-25\""
      ],
      "metadata": {
        "id": "2NVySmKgP8bE"
      },
      "execution_count": null,
      "outputs": []
    },
    {
      "cell_type": "code",
      "source": [
        "re.findall(\"[\\d+-]{10,14}\",s3)"
      ],
      "metadata": {
        "colab": {
          "base_uri": "https://localhost:8080/"
        },
        "id": "nBoS9OUQRYkp",
        "outputId": "08362dfd-aa65-4fba-e6cd-4608ac0cbf22"
      },
      "execution_count": null,
      "outputs": [
        {
          "output_type": "execute_result",
          "data": {
            "text/plain": [
              "['0123456890', '+91-123456789', '1234567890', '1234-67890']"
            ]
          },
          "metadata": {},
          "execution_count": 63
        }
      ]
    },
    {
      "cell_type": "code",
      "source": [
        "re.findall(\"[0-9]{10,11}|[+][0-9]{2}-[0-9]{10}|[0-9]{5}-[0-9]{5}\",s3)"
      ],
      "metadata": {
        "colab": {
          "base_uri": "https://localhost:8080/"
        },
        "id": "fM7sw_VcRn09",
        "outputId": "06483b11-c78b-4f3e-923c-393a63772d4a"
      },
      "execution_count": null,
      "outputs": [
        {
          "output_type": "execute_result",
          "data": {
            "text/plain": [
              "['0123456890', '1234567890']"
            ]
          },
          "metadata": {},
          "execution_count": 64
        }
      ]
    },
    {
      "cell_type": "code",
      "source": [
        "s4=\"my email ids are abc@xyz.se, abc_123@xyz.ac.in, abc.123@xyz.edu\""
      ],
      "metadata": {
        "id": "o7JBhZdCTdB1"
      },
      "execution_count": null,
      "outputs": []
    },
    {
      "cell_type": "code",
      "source": [
        "re.findall(\"\\S+@\\w{3}[.\\w]+\",s4)"
      ],
      "metadata": {
        "colab": {
          "base_uri": "https://localhost:8080/"
        },
        "id": "nHWGXiB7VFlS",
        "outputId": "45507a46-1a47-40db-e8f5-c7b7f97a9b72"
      },
      "execution_count": null,
      "outputs": [
        {
          "output_type": "execute_result",
          "data": {
            "text/plain": [
              "['abc@xyz.se', 'abc_123@xyz.ac.in', 'abc.123@xyz.edu']"
            ]
          },
          "metadata": {},
          "execution_count": 91
        }
      ]
    },
    {
      "cell_type": "code",
      "source": [
        "s5=\"The names are Subhasis Dasgupta, Anirban Sengupta, Jaydeep Sen, Rudradeep Dasgupta and Subhashish Sengupta\""
      ],
      "metadata": {
        "id": "UVM1KC60YFSc"
      },
      "execution_count": null,
      "outputs": []
    },
    {
      "cell_type": "markdown",
      "source": [
        "Look ahead assertion"
      ],
      "metadata": {
        "id": "vO215ZKjZPS_"
      }
    },
    {
      "cell_type": "code",
      "source": [
        "re.findall(\"[A-Z][a-z]+(?= Dasgupta)\",s5)"
      ],
      "metadata": {
        "colab": {
          "base_uri": "https://localhost:8080/"
        },
        "id": "EL3k7IUVYa6o",
        "outputId": "68eefffd-2238-461f-a414-8a72d6676c02"
      },
      "execution_count": null,
      "outputs": [
        {
          "output_type": "execute_result",
          "data": {
            "text/plain": [
              "['Subhasis', 'Rudradeep']"
            ]
          },
          "metadata": {},
          "execution_count": 85
        }
      ]
    },
    {
      "cell_type": "code",
      "source": [
        "re.findall(\"(?<=Subhasis )[A-Za-z]+\",s5)"
      ],
      "metadata": {
        "colab": {
          "base_uri": "https://localhost:8080/"
        },
        "id": "c5BvWtI9ZSWw",
        "outputId": "8cfab4c2-fee2-4dd4-e1fa-786f388c99b3"
      },
      "execution_count": null,
      "outputs": [
        {
          "output_type": "execute_result",
          "data": {
            "text/plain": [
              "['Dasgupta']"
            ]
          },
          "metadata": {},
          "execution_count": 90
        }
      ]
    },
    {
      "cell_type": "code",
      "source": [
        "s2=\"agniva 12345678 sertfghiu567\"\n",
        "re.findall(\"(\\s*\\w+\\d+)+\",s2)"
      ],
      "metadata": {
        "colab": {
          "base_uri": "https://localhost:8080/"
        },
        "id": "i68Kzi8UIvTV",
        "outputId": "23f9c911-dd0b-4847-8fec-8668fc4ede97"
      },
      "execution_count": null,
      "outputs": [
        {
          "output_type": "execute_result",
          "data": {
            "text/plain": [
              "[' sertfghiu567']"
            ]
          },
          "metadata": {},
          "execution_count": 28
        }
      ]
    },
    {
      "cell_type": "code",
      "source": [
        "s2=\"agniva sertfghiu567\"\n",
        "re.findall(\"(\\s*\\w+\\d+)+\",s2)"
      ],
      "metadata": {
        "colab": {
          "base_uri": "https://localhost:8080/"
        },
        "id": "V-MI4VwGKKG_",
        "outputId": "4bee8a0d-7ab5-46d4-f8d5-c062fc53848a"
      },
      "execution_count": null,
      "outputs": [
        {
          "output_type": "execute_result",
          "data": {
            "text/plain": [
              "[' sertfghiu567']"
            ]
          },
          "metadata": {},
          "execution_count": 29
        }
      ]
    },
    {
      "cell_type": "code",
      "source": [
        "s2=\"sertfghiu567 agniva \"\n",
        "re.findall(\"(\\s*\\w+\\d+)+\",s2)"
      ],
      "metadata": {
        "colab": {
          "base_uri": "https://localhost:8080/"
        },
        "id": "VFkFet7rL-dA",
        "outputId": "985f2244-1b10-44a5-f964-eb11e5bdd1f6"
      },
      "execution_count": null,
      "outputs": [
        {
          "output_type": "execute_result",
          "data": {
            "text/plain": [
              "['sertfghiu567']"
            ]
          },
          "metadata": {},
          "execution_count": 30
        }
      ]
    },
    {
      "cell_type": "code",
      "source": [
        "def only_alpha_numeric(txt):\n",
        "  alpha_num=set(re.findall(\"[a-z0-9]+\",txt))\n",
        "  only_alpha=set(re.findall(\"[a-z]+\",txt))\n",
        "  only_numeric=set(re.findall(\"[0-9]+\",txt))\n",
        "  s1=alpha_num-only_alpha\n",
        "  s2=s1-only_numeric \n",
        "  return list(s2)"
      ],
      "metadata": {
        "id": "Le7o08ICMBqR"
      },
      "execution_count": null,
      "outputs": []
    },
    {
      "cell_type": "code",
      "source": [
        "s2=\"aafgh 2345678 sgdusbsks83934654shd\""
      ],
      "metadata": {
        "id": "zcQtUdwWNbps"
      },
      "execution_count": null,
      "outputs": []
    },
    {
      "cell_type": "code",
      "source": [
        "only_alpha_numeric(s2)"
      ],
      "metadata": {
        "colab": {
          "base_uri": "https://localhost:8080/"
        },
        "id": "fY7qfSCRMXNu",
        "outputId": "5d66d470-7ceb-426d-b41b-159ee2338c5a"
      },
      "execution_count": null,
      "outputs": [
        {
          "output_type": "execute_result",
          "data": {
            "text/plain": [
              "['sgdusbsks83934654shd']"
            ]
          },
          "metadata": {},
          "execution_count": 41
        }
      ]
    },
    {
      "cell_type": "code",
      "source": [
        "re.search(only_alpha_numeric(s2)[0],s2)"
      ],
      "metadata": {
        "colab": {
          "base_uri": "https://localhost:8080/"
        },
        "id": "VhJTzXLTN2v5",
        "outputId": "67186d28-2682-40a9-ebfc-017299b17acf"
      },
      "execution_count": null,
      "outputs": [
        {
          "output_type": "execute_result",
          "data": {
            "text/plain": [
              "<re.Match object; span=(14, 34), match='sgdusbsks83934654shd'>"
            ]
          },
          "metadata": {},
          "execution_count": 45
        }
      ]
    },
    {
      "cell_type": "code",
      "source": [
        "s2[16:35]"
      ],
      "metadata": {
        "colab": {
          "base_uri": "https://localhost:8080/",
          "height": 35
        },
        "id": "6U-QgjeZOGii",
        "outputId": "b1145452-931c-4766-f633-d609f983b218"
      },
      "execution_count": null,
      "outputs": [
        {
          "output_type": "execute_result",
          "data": {
            "text/plain": [
              "'dusbsks83934654shd'"
            ],
            "application/vnd.google.colaboratory.intrinsic+json": {
              "type": "string"
            }
          },
          "metadata": {},
          "execution_count": 46
        }
      ]
    },
    {
      "cell_type": "code",
      "source": [
        "re.search(only_alpha_numeric(s2)[0],s2).span()"
      ],
      "metadata": {
        "colab": {
          "base_uri": "https://localhost:8080/"
        },
        "id": "cCuknuD7N6Xp",
        "outputId": "7f4a17d4-cfda-42c8-8212-e728aa2a35c0"
      },
      "execution_count": null,
      "outputs": [
        {
          "output_type": "execute_result",
          "data": {
            "text/plain": [
              "(14, 34)"
            ]
          },
          "metadata": {},
          "execution_count": 50
        }
      ]
    },
    {
      "cell_type": "code",
      "source": [
        "for token in re.finditer(only_alpha_numeric(s2)[0],s2):\n",
        "  print(token)"
      ],
      "metadata": {
        "colab": {
          "base_uri": "https://localhost:8080/"
        },
        "id": "MzrxQyvNOYxj",
        "outputId": "3abd71bc-bb8c-4e68-b19c-e615103b5ead"
      },
      "execution_count": null,
      "outputs": [
        {
          "output_type": "stream",
          "name": "stdout",
          "text": [
            "<re.Match object; span=(14, 34), match='sgdusbsks83934654shd'>\n"
          ]
        }
      ]
    },
    {
      "cell_type": "code",
      "source": [],
      "metadata": {
        "id": "J78RmAFDO-Ls"
      },
      "execution_count": null,
      "outputs": []
    },
    {
      "cell_type": "code",
      "source": [],
      "metadata": {
        "id": "O1O_Z6gyO-IB"
      },
      "execution_count": null,
      "outputs": []
    },
    {
      "cell_type": "code",
      "source": [],
      "metadata": {
        "id": "Kv0W_83_O-Ea"
      },
      "execution_count": null,
      "outputs": []
    },
    {
      "cell_type": "code",
      "source": [],
      "metadata": {
        "id": "HK6arsplO-DD"
      },
      "execution_count": null,
      "outputs": []
    },
    {
      "cell_type": "code",
      "source": [],
      "metadata": {
        "id": "mbdXSdTNO9_S"
      },
      "execution_count": null,
      "outputs": []
    },
    {
      "cell_type": "code",
      "source": [],
      "metadata": {
        "id": "7qXWRchHO99v"
      },
      "execution_count": null,
      "outputs": []
    },
    {
      "cell_type": "code",
      "source": [],
      "metadata": {
        "id": "7Z4ArMLHO96X"
      },
      "execution_count": null,
      "outputs": []
    },
    {
      "cell_type": "code",
      "source": [],
      "metadata": {
        "id": "_P9D8icYO94l"
      },
      "execution_count": null,
      "outputs": []
    },
    {
      "cell_type": "code",
      "source": [],
      "metadata": {
        "id": "rGTSZzq0O91E"
      },
      "execution_count": null,
      "outputs": []
    },
    {
      "cell_type": "code",
      "source": [],
      "metadata": {
        "id": "bOKZfiB_O9zB"
      },
      "execution_count": null,
      "outputs": []
    },
    {
      "cell_type": "code",
      "source": [],
      "metadata": {
        "id": "QiuuJZW5O9nM"
      },
      "execution_count": null,
      "outputs": []
    },
    {
      "cell_type": "code",
      "source": [],
      "metadata": {
        "id": "S6wKvxQOO8n2"
      },
      "execution_count": null,
      "outputs": []
    },
    {
      "cell_type": "code",
      "source": [],
      "metadata": {
        "id": "ofK3nuRQO9Jw"
      },
      "execution_count": null,
      "outputs": []
    }
  ]
}