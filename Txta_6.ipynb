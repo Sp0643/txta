{
 "cells": [
  {
   "cell_type": "code",
   "execution_count": 28,
   "metadata": {
    "id": "3jdkgPqte0BW"
   },
   "outputs": [],
   "source": [
    "import pandas as pd\n",
    "import matplotlib.pyplot as plt\n",
    "import numpy as np\n"
   ]
  },
  {
   "cell_type": "code",
   "execution_count": 29,
   "metadata": {
    "id": "liU9GOO0gkfc"
   },
   "outputs": [],
   "source": [
    "data= pd.read_csv('/content/Movie_Compiled.csv')"
   ]
  },
  {
   "cell_type": "code",
   "execution_count": 30,
   "metadata": {
    "colab": {
     "base_uri": "https://localhost:8080/",
     "height": 337
    },
    "id": "6E0-G_W-fIiJ",
    "outputId": "73b8e16e-dc33-43aa-8515-ae941d25a2e5"
   },
   "outputs": [
    {
     "data": {
      "text/html": [
       "\n",
       "  <div id=\"df-2e3d8e5d-6aac-4360-af03-770dca302ee1\">\n",
       "    <div class=\"colab-df-container\">\n",
       "      <div>\n",
       "<style scoped>\n",
       "    .dataframe tbody tr th:only-of-type {\n",
       "        vertical-align: middle;\n",
       "    }\n",
       "\n",
       "    .dataframe tbody tr th {\n",
       "        vertical-align: top;\n",
       "    }\n",
       "\n",
       "    .dataframe thead th {\n",
       "        text-align: right;\n",
       "    }\n",
       "</style>\n",
       "<table border=\"1\" class=\"dataframe\">\n",
       "  <thead>\n",
       "    <tr style=\"text-align: right;\">\n",
       "      <th></th>\n",
       "      <th>Rating</th>\n",
       "      <th>Date</th>\n",
       "      <th>Title</th>\n",
       "      <th>Review</th>\n",
       "    </tr>\n",
       "  </thead>\n",
       "  <tbody>\n",
       "    <tr>\n",
       "      <th>0</th>\n",
       "      <td></td>\n",
       "      <td>12 April 2012</td>\n",
       "      <td>An Unstoppable Force of Awesomeness! All Hail ...</td>\n",
       "      <td>I have got to tell anyone who will listen that...</td>\n",
       "    </tr>\n",
       "    <tr>\n",
       "      <th>1</th>\n",
       "      <td></td>\n",
       "      <td>19 April 2012</td>\n",
       "      <td>They balanced everything masterfully. As Good ...</td>\n",
       "      <td>If you're a fan of epic adventure movies, then...</td>\n",
       "    </tr>\n",
       "    <tr>\n",
       "      <th>2</th>\n",
       "      <td>10.0</td>\n",
       "      <td>20 April 2012</td>\n",
       "      <td>The Avengers assembled flawlessly</td>\n",
       "      <td>I'm sorry to say The Avengers isn't a good mov...</td>\n",
       "    </tr>\n",
       "    <tr>\n",
       "      <th>3</th>\n",
       "      <td>9.0</td>\n",
       "      <td>16 April 2012</td>\n",
       "      <td>LA Review of 'The Avengers' (No spoilers)</td>\n",
       "      <td>LA Review of 'The Avengers' (No spoilers)\\r\\n\\...</td>\n",
       "    </tr>\n",
       "    <tr>\n",
       "      <th>4</th>\n",
       "      <td>10.0</td>\n",
       "      <td>2 July 2017</td>\n",
       "      <td>Bad-ass descent-amazing superhero MCU action f...</td>\n",
       "      <td>Marvel's The Avengers (2012) is an awesome des...</td>\n",
       "    </tr>\n",
       "  </tbody>\n",
       "</table>\n",
       "</div>\n",
       "      <button class=\"colab-df-convert\" onclick=\"convertToInteractive('df-2e3d8e5d-6aac-4360-af03-770dca302ee1')\"\n",
       "              title=\"Convert this dataframe to an interactive table.\"\n",
       "              style=\"display:none;\">\n",
       "        \n",
       "  <svg xmlns=\"http://www.w3.org/2000/svg\" height=\"24px\"viewBox=\"0 0 24 24\"\n",
       "       width=\"24px\">\n",
       "    <path d=\"M0 0h24v24H0V0z\" fill=\"none\"/>\n",
       "    <path d=\"M18.56 5.44l.94 2.06.94-2.06 2.06-.94-2.06-.94-.94-2.06-.94 2.06-2.06.94zm-11 1L8.5 8.5l.94-2.06 2.06-.94-2.06-.94L8.5 2.5l-.94 2.06-2.06.94zm10 10l.94 2.06.94-2.06 2.06-.94-2.06-.94-.94-2.06-.94 2.06-2.06.94z\"/><path d=\"M17.41 7.96l-1.37-1.37c-.4-.4-.92-.59-1.43-.59-.52 0-1.04.2-1.43.59L10.3 9.45l-7.72 7.72c-.78.78-.78 2.05 0 2.83L4 21.41c.39.39.9.59 1.41.59.51 0 1.02-.2 1.41-.59l7.78-7.78 2.81-2.81c.8-.78.8-2.07 0-2.86zM5.41 20L4 18.59l7.72-7.72 1.47 1.35L5.41 20z\"/>\n",
       "  </svg>\n",
       "      </button>\n",
       "      \n",
       "  <style>\n",
       "    .colab-df-container {\n",
       "      display:flex;\n",
       "      flex-wrap:wrap;\n",
       "      gap: 12px;\n",
       "    }\n",
       "\n",
       "    .colab-df-convert {\n",
       "      background-color: #E8F0FE;\n",
       "      border: none;\n",
       "      border-radius: 50%;\n",
       "      cursor: pointer;\n",
       "      display: none;\n",
       "      fill: #1967D2;\n",
       "      height: 32px;\n",
       "      padding: 0 0 0 0;\n",
       "      width: 32px;\n",
       "    }\n",
       "\n",
       "    .colab-df-convert:hover {\n",
       "      background-color: #E2EBFA;\n",
       "      box-shadow: 0px 1px 2px rgba(60, 64, 67, 0.3), 0px 1px 3px 1px rgba(60, 64, 67, 0.15);\n",
       "      fill: #174EA6;\n",
       "    }\n",
       "\n",
       "    [theme=dark] .colab-df-convert {\n",
       "      background-color: #3B4455;\n",
       "      fill: #D2E3FC;\n",
       "    }\n",
       "\n",
       "    [theme=dark] .colab-df-convert:hover {\n",
       "      background-color: #434B5C;\n",
       "      box-shadow: 0px 1px 3px 1px rgba(0, 0, 0, 0.15);\n",
       "      filter: drop-shadow(0px 1px 2px rgba(0, 0, 0, 0.3));\n",
       "      fill: #FFFFFF;\n",
       "    }\n",
       "  </style>\n",
       "\n",
       "      <script>\n",
       "        const buttonEl =\n",
       "          document.querySelector('#df-2e3d8e5d-6aac-4360-af03-770dca302ee1 button.colab-df-convert');\n",
       "        buttonEl.style.display =\n",
       "          google.colab.kernel.accessAllowed ? 'block' : 'none';\n",
       "\n",
       "        async function convertToInteractive(key) {\n",
       "          const element = document.querySelector('#df-2e3d8e5d-6aac-4360-af03-770dca302ee1');\n",
       "          const dataTable =\n",
       "            await google.colab.kernel.invokeFunction('convertToInteractive',\n",
       "                                                     [key], {});\n",
       "          if (!dataTable) return;\n",
       "\n",
       "          const docLinkHtml = 'Like what you see? Visit the ' +\n",
       "            '<a target=\"_blank\" href=https://colab.research.google.com/notebooks/data_table.ipynb>data table notebook</a>'\n",
       "            + ' to learn more about interactive tables.';\n",
       "          element.innerHTML = '';\n",
       "          dataTable['output_type'] = 'display_data';\n",
       "          await google.colab.output.renderOutput(dataTable, element);\n",
       "          const docLink = document.createElement('div');\n",
       "          docLink.innerHTML = docLinkHtml;\n",
       "          element.appendChild(docLink);\n",
       "        }\n",
       "      </script>\n",
       "    </div>\n",
       "  </div>\n",
       "  "
      ],
      "text/plain": [
       "  Rating           Date                                              Title  \\\n",
       "0         12 April 2012  An Unstoppable Force of Awesomeness! All Hail ...   \n",
       "1         19 April 2012  They balanced everything masterfully. As Good ...   \n",
       "2   10.0  20 April 2012                  The Avengers assembled flawlessly   \n",
       "3    9.0  16 April 2012          LA Review of 'The Avengers' (No spoilers)   \n",
       "4   10.0    2 July 2017  Bad-ass descent-amazing superhero MCU action f...   \n",
       "\n",
       "                                              Review  \n",
       "0  I have got to tell anyone who will listen that...  \n",
       "1  If you're a fan of epic adventure movies, then...  \n",
       "2  I'm sorry to say The Avengers isn't a good mov...  \n",
       "3  LA Review of 'The Avengers' (No spoilers)\\r\\n\\...  \n",
       "4  Marvel's The Avengers (2012) is an awesome des...  "
      ]
     },
     "execution_count": 30,
     "metadata": {},
     "output_type": "execute_result"
    }
   ],
   "source": [
    "data.head()"
   ]
  },
  {
   "cell_type": "code",
   "execution_count": 31,
   "metadata": {
    "id": "l6aEe6Ijgtr3"
   },
   "outputs": [],
   "source": [
    "from sklearn.decomposition import TruncatedSVD\n",
    "from sklearn.feature_extraction.text import TfidfVectorizer\n",
    "from sklearn.linear_model import LogisticRegression\n",
    "from sklearn.ensemble import GradientBoostingClassifier\n",
    "from sklearn.model_selection import train_test_split, cross_val_score\n",
    "from sklearn.metrics import cohen_kappa_score"
   ]
  },
  {
   "cell_type": "code",
   "execution_count": 41,
   "metadata": {
    "colab": {
     "base_uri": "https://localhost:8080/"
    },
    "id": "6nuLazSHjAtN",
    "outputId": "a606f5d6-d46d-475c-845f-8c12fbb4fbc0"
   },
   "outputs": [
    {
     "data": {
      "text/plain": [
       "(4402, 4)"
      ]
     },
     "execution_count": 41,
     "metadata": {},
     "output_type": "execute_result"
    }
   ],
   "source": [
    "data_1 = data[~data['Review'].isnull()]\n",
    "data_1.shape"
   ]
  },
  {
   "cell_type": "code",
   "execution_count": 42,
   "metadata": {
    "colab": {
     "base_uri": "https://localhost:8080/"
    },
    "id": "wc2OEeXTicUP",
    "outputId": "4434e6a4-f753-469d-fe96-c201ec14bf83"
   },
   "outputs": [
    {
     "name": "stdout",
     "output_type": "stream",
     "text": [
      "<class 'pandas.core.frame.DataFrame'>\n",
      "Int64Index: 4402 entries, 0 to 4501\n",
      "Data columns (total 4 columns):\n",
      " #   Column  Non-Null Count  Dtype \n",
      "---  ------  --------------  ----- \n",
      " 0   Rating  4075 non-null   object\n",
      " 1   Date    4402 non-null   object\n",
      " 2   Title   4402 non-null   object\n",
      " 3   Review  4402 non-null   object\n",
      "dtypes: object(4)\n",
      "memory usage: 172.0+ KB\n"
     ]
    }
   ],
   "source": [
    "data_1.info()"
   ]
  },
  {
   "cell_type": "code",
   "execution_count": 43,
   "metadata": {
    "colab": {
     "base_uri": "https://localhost:8080/"
    },
    "id": "QibQvWoaivf9",
    "outputId": "8d88d67d-84f8-4732-9a06-8e7abcbc4a55"
   },
   "outputs": [
    {
     "data": {
      "text/plain": [
       "10.0    1143\n",
       "1.0      719\n",
       "9.0      428\n",
       "8.0      301\n",
       "7.0      288\n",
       "6.0      252\n",
       "5.0      232\n",
       "3.0      225\n",
       "2.0      218\n",
       "4.0      202\n",
       "          67\n",
       "Name: Rating, dtype: int64"
      ]
     },
     "execution_count": 43,
     "metadata": {},
     "output_type": "execute_result"
    }
   ],
   "source": [
    "data_1.Rating.value_counts()"
   ]
  },
  {
   "cell_type": "code",
   "execution_count": 44,
   "metadata": {
    "colab": {
     "base_uri": "https://localhost:8080/",
     "height": 337
    },
    "id": "QNgnf9W2i2es",
    "outputId": "058c8e55-ae10-4491-853b-8773d2699e56"
   },
   "outputs": [
    {
     "data": {
      "text/html": [
       "\n",
       "  <div id=\"df-30f2ecf5-427f-4a2b-9784-f4b89e6b70fa\">\n",
       "    <div class=\"colab-df-container\">\n",
       "      <div>\n",
       "<style scoped>\n",
       "    .dataframe tbody tr th:only-of-type {\n",
       "        vertical-align: middle;\n",
       "    }\n",
       "\n",
       "    .dataframe tbody tr th {\n",
       "        vertical-align: top;\n",
       "    }\n",
       "\n",
       "    .dataframe thead th {\n",
       "        text-align: right;\n",
       "    }\n",
       "</style>\n",
       "<table border=\"1\" class=\"dataframe\">\n",
       "  <thead>\n",
       "    <tr style=\"text-align: right;\">\n",
       "      <th></th>\n",
       "      <th>Rating</th>\n",
       "      <th>Date</th>\n",
       "      <th>Title</th>\n",
       "      <th>Review</th>\n",
       "    </tr>\n",
       "  </thead>\n",
       "  <tbody>\n",
       "    <tr>\n",
       "      <th>0</th>\n",
       "      <td>NaN</td>\n",
       "      <td>12 April 2012</td>\n",
       "      <td>An Unstoppable Force of Awesomeness! All Hail ...</td>\n",
       "      <td>I have got to tell anyone who will listen that...</td>\n",
       "    </tr>\n",
       "    <tr>\n",
       "      <th>1</th>\n",
       "      <td>NaN</td>\n",
       "      <td>19 April 2012</td>\n",
       "      <td>They balanced everything masterfully. As Good ...</td>\n",
       "      <td>If you're a fan of epic adventure movies, then...</td>\n",
       "    </tr>\n",
       "    <tr>\n",
       "      <th>2</th>\n",
       "      <td>10.0</td>\n",
       "      <td>20 April 2012</td>\n",
       "      <td>The Avengers assembled flawlessly</td>\n",
       "      <td>I'm sorry to say The Avengers isn't a good mov...</td>\n",
       "    </tr>\n",
       "    <tr>\n",
       "      <th>3</th>\n",
       "      <td>9.0</td>\n",
       "      <td>16 April 2012</td>\n",
       "      <td>LA Review of 'The Avengers' (No spoilers)</td>\n",
       "      <td>LA Review of 'The Avengers' (No spoilers)\\r\\n\\...</td>\n",
       "    </tr>\n",
       "    <tr>\n",
       "      <th>4</th>\n",
       "      <td>10.0</td>\n",
       "      <td>2 July 2017</td>\n",
       "      <td>Bad-ass descent-amazing superhero MCU action f...</td>\n",
       "      <td>Marvel's The Avengers (2012) is an awesome des...</td>\n",
       "    </tr>\n",
       "  </tbody>\n",
       "</table>\n",
       "</div>\n",
       "      <button class=\"colab-df-convert\" onclick=\"convertToInteractive('df-30f2ecf5-427f-4a2b-9784-f4b89e6b70fa')\"\n",
       "              title=\"Convert this dataframe to an interactive table.\"\n",
       "              style=\"display:none;\">\n",
       "        \n",
       "  <svg xmlns=\"http://www.w3.org/2000/svg\" height=\"24px\"viewBox=\"0 0 24 24\"\n",
       "       width=\"24px\">\n",
       "    <path d=\"M0 0h24v24H0V0z\" fill=\"none\"/>\n",
       "    <path d=\"M18.56 5.44l.94 2.06.94-2.06 2.06-.94-2.06-.94-.94-2.06-.94 2.06-2.06.94zm-11 1L8.5 8.5l.94-2.06 2.06-.94-2.06-.94L8.5 2.5l-.94 2.06-2.06.94zm10 10l.94 2.06.94-2.06 2.06-.94-2.06-.94-.94-2.06-.94 2.06-2.06.94z\"/><path d=\"M17.41 7.96l-1.37-1.37c-.4-.4-.92-.59-1.43-.59-.52 0-1.04.2-1.43.59L10.3 9.45l-7.72 7.72c-.78.78-.78 2.05 0 2.83L4 21.41c.39.39.9.59 1.41.59.51 0 1.02-.2 1.41-.59l7.78-7.78 2.81-2.81c.8-.78.8-2.07 0-2.86zM5.41 20L4 18.59l7.72-7.72 1.47 1.35L5.41 20z\"/>\n",
       "  </svg>\n",
       "      </button>\n",
       "      \n",
       "  <style>\n",
       "    .colab-df-container {\n",
       "      display:flex;\n",
       "      flex-wrap:wrap;\n",
       "      gap: 12px;\n",
       "    }\n",
       "\n",
       "    .colab-df-convert {\n",
       "      background-color: #E8F0FE;\n",
       "      border: none;\n",
       "      border-radius: 50%;\n",
       "      cursor: pointer;\n",
       "      display: none;\n",
       "      fill: #1967D2;\n",
       "      height: 32px;\n",
       "      padding: 0 0 0 0;\n",
       "      width: 32px;\n",
       "    }\n",
       "\n",
       "    .colab-df-convert:hover {\n",
       "      background-color: #E2EBFA;\n",
       "      box-shadow: 0px 1px 2px rgba(60, 64, 67, 0.3), 0px 1px 3px 1px rgba(60, 64, 67, 0.15);\n",
       "      fill: #174EA6;\n",
       "    }\n",
       "\n",
       "    [theme=dark] .colab-df-convert {\n",
       "      background-color: #3B4455;\n",
       "      fill: #D2E3FC;\n",
       "    }\n",
       "\n",
       "    [theme=dark] .colab-df-convert:hover {\n",
       "      background-color: #434B5C;\n",
       "      box-shadow: 0px 1px 3px 1px rgba(0, 0, 0, 0.15);\n",
       "      filter: drop-shadow(0px 1px 2px rgba(0, 0, 0, 0.3));\n",
       "      fill: #FFFFFF;\n",
       "    }\n",
       "  </style>\n",
       "\n",
       "      <script>\n",
       "        const buttonEl =\n",
       "          document.querySelector('#df-30f2ecf5-427f-4a2b-9784-f4b89e6b70fa button.colab-df-convert');\n",
       "        buttonEl.style.display =\n",
       "          google.colab.kernel.accessAllowed ? 'block' : 'none';\n",
       "\n",
       "        async function convertToInteractive(key) {\n",
       "          const element = document.querySelector('#df-30f2ecf5-427f-4a2b-9784-f4b89e6b70fa');\n",
       "          const dataTable =\n",
       "            await google.colab.kernel.invokeFunction('convertToInteractive',\n",
       "                                                     [key], {});\n",
       "          if (!dataTable) return;\n",
       "\n",
       "          const docLinkHtml = 'Like what you see? Visit the ' +\n",
       "            '<a target=\"_blank\" href=https://colab.research.google.com/notebooks/data_table.ipynb>data table notebook</a>'\n",
       "            + ' to learn more about interactive tables.';\n",
       "          element.innerHTML = '';\n",
       "          dataTable['output_type'] = 'display_data';\n",
       "          await google.colab.output.renderOutput(dataTable, element);\n",
       "          const docLink = document.createElement('div');\n",
       "          docLink.innerHTML = docLinkHtml;\n",
       "          element.appendChild(docLink);\n",
       "        }\n",
       "      </script>\n",
       "    </div>\n",
       "  </div>\n",
       "  "
      ],
      "text/plain": [
       "  Rating           Date                                              Title  \\\n",
       "0    NaN  12 April 2012  An Unstoppable Force of Awesomeness! All Hail ...   \n",
       "1    NaN  19 April 2012  They balanced everything masterfully. As Good ...   \n",
       "2   10.0  20 April 2012                  The Avengers assembled flawlessly   \n",
       "3    9.0  16 April 2012          LA Review of 'The Avengers' (No spoilers)   \n",
       "4   10.0    2 July 2017  Bad-ass descent-amazing superhero MCU action f...   \n",
       "\n",
       "                                              Review  \n",
       "0  I have got to tell anyone who will listen that...  \n",
       "1  If you're a fan of epic adventure movies, then...  \n",
       "2  I'm sorry to say The Avengers isn't a good mov...  \n",
       "3  LA Review of 'The Avengers' (No spoilers)\\r\\n\\...  \n",
       "4  Marvel's The Avengers (2012) is an awesome des...  "
      ]
     },
     "execution_count": 44,
     "metadata": {},
     "output_type": "execute_result"
    }
   ],
   "source": [
    "data_2 = data_1.replace(' ', np.nan)\n",
    "data_2.head()"
   ]
  },
  {
   "cell_type": "code",
   "execution_count": 45,
   "metadata": {
    "colab": {
     "base_uri": "https://localhost:8080/"
    },
    "id": "WjwCRzpWqhbE",
    "outputId": "16ce57e1-bab3-4370-b8ec-944fe83ef285"
   },
   "outputs": [
    {
     "name": "stdout",
     "output_type": "stream",
     "text": [
      "<class 'pandas.core.frame.DataFrame'>\n",
      "Int64Index: 4402 entries, 0 to 4501\n",
      "Data columns (total 4 columns):\n",
      " #   Column  Non-Null Count  Dtype \n",
      "---  ------  --------------  ----- \n",
      " 0   Rating  4008 non-null   object\n",
      " 1   Date    4402 non-null   object\n",
      " 2   Title   4402 non-null   object\n",
      " 3   Review  4402 non-null   object\n",
      "dtypes: object(4)\n",
      "memory usage: 172.0+ KB\n"
     ]
    }
   ],
   "source": [
    "data_2.info()"
   ]
  },
  {
   "cell_type": "code",
   "execution_count": 47,
   "metadata": {
    "colab": {
     "base_uri": "https://localhost:8080/"
    },
    "id": "s8G8sf-zjeqf",
    "outputId": "077864e7-b98e-4511-d48c-642623b21703"
   },
   "outputs": [
    {
     "name": "stdout",
     "output_type": "stream",
     "text": [
      "<class 'pandas.core.frame.DataFrame'>\n",
      "Int64Index: 4402 entries, 0 to 4501\n",
      "Data columns (total 4 columns):\n",
      " #   Column  Non-Null Count  Dtype  \n",
      "---  ------  --------------  -----  \n",
      " 0   Rating  4008 non-null   float64\n",
      " 1   Date    4402 non-null   object \n",
      " 2   Title   4402 non-null   object \n",
      " 3   Review  4402 non-null   object \n",
      "dtypes: float64(1), object(3)\n",
      "memory usage: 172.0+ KB\n"
     ]
    }
   ],
   "source": [
    "data_2['Rating'] = data_2['Rating'].astype(float)\n",
    "#data_2[\"Rating\"] = data_2['Rating'].str.replace(' ', '').astype(float)\n",
    "data_2.info()"
   ]
  },
  {
   "cell_type": "code",
   "execution_count": 49,
   "metadata": {
    "id": "2Y9XDERnj801"
   },
   "outputs": [],
   "source": [
    "train_data = data_2[~data_2['Rating'].isnull()]\n",
    "test_data = data_2[data_2['Rating'].isnull()]"
   ]
  },
  {
   "cell_type": "code",
   "execution_count": 50,
   "metadata": {
    "colab": {
     "base_uri": "https://localhost:8080/"
    },
    "id": "dTjrgoE-tF1U",
    "outputId": "25906cda-45f4-4939-ade1-dab1fe8e061f"
   },
   "outputs": [
    {
     "data": {
      "text/plain": [
       "((4008, 4), (394, 4))"
      ]
     },
     "execution_count": 50,
     "metadata": {},
     "output_type": "execute_result"
    }
   ],
   "source": [
    "(train_data.shape, test_data.shape)"
   ]
  },
  {
   "cell_type": "code",
   "execution_count": 51,
   "metadata": {
    "id": "d6Kbee_ItQxo"
   },
   "outputs": [],
   "source": [
    "x_train, x_val, y_train, y_val = train_test_split(train_data.iloc[:,1:], \n",
    "                                                  train_data.iloc[:,0],\n",
    "                                                  test_size=0.4,\n",
    "                                                  random_state=123456)"
   ]
  },
  {
   "cell_type": "code",
   "execution_count": 52,
   "metadata": {
    "colab": {
     "base_uri": "https://localhost:8080/"
    },
    "id": "BXQl8kKAtS-b",
    "outputId": "951f8585-3872-489a-845d-4d8993878aec"
   },
   "outputs": [
    {
     "data": {
      "text/plain": [
       "(2404, 3)"
      ]
     },
     "execution_count": 52,
     "metadata": {},
     "output_type": "execute_result"
    }
   ],
   "source": [
    "x_train.shape"
   ]
  },
  {
   "cell_type": "code",
   "execution_count": 53,
   "metadata": {
    "id": "nm92KxzDtVsV"
   },
   "outputs": [],
   "source": [
    "from wordcloud import STOPWORDS"
   ]
  },
  {
   "cell_type": "code",
   "execution_count": 54,
   "metadata": {
    "id": "qLh2AHm8tXuf"
   },
   "outputs": [],
   "source": [
    "tfidf = TfidfVectorizer(stop_words = STOPWORDS, token_pattern = \"[a-z]+\", \n",
    "                        max_df=0.55, min_df=10)"
   ]
  },
  {
   "cell_type": "code",
   "execution_count": 55,
   "metadata": {
    "colab": {
     "base_uri": "https://localhost:8080/"
    },
    "id": "rGmNAwfgtZUy",
    "outputId": "e1de8494-f3f8-4912-dacc-727d0edebd3f"
   },
   "outputs": [
    {
     "name": "stderr",
     "output_type": "stream",
     "text": [
      "/usr/local/lib/python3.7/dist-packages/sklearn/feature_extraction/text.py:401: UserWarning: Your stop_words may be inconsistent with your preprocessing. Tokenizing the stop words generated tokens ['aren', 'couldn', 'd', 'didn', 'doesn', 'don', 'hadn', 'hasn', 'haven', 'isn', 'let', 'll', 'm', 'mustn', 're', 's', 'shan', 'shouldn', 't', 've', 'wasn', 'weren', 'won', 'wouldn'] not in stop_words.\n",
      "  % sorted(inconsistent)\n"
     ]
    }
   ],
   "source": [
    "tfidf_mat_train = tfidf.fit_transform(x_train['Review'])\n",
    "tfidf_mat_val = tfidf.transform(x_val['Review'])\n",
    "tfidf_mat_test = tfidf.transform(test_data['Review'])"
   ]
  },
  {
   "cell_type": "code",
   "execution_count": 55,
   "metadata": {
    "id": "Sfmud2QXtbJT"
   },
   "outputs": [],
   "source": [
    "tfidf_mat_train.shape"
   ]
  },
  {
   "cell_type": "code",
   "execution_count": 56,
   "metadata": {
    "colab": {
     "base_uri": "https://localhost:8080/"
    },
    "id": "rrAqPVBLtdpe",
    "outputId": "96dafc79-081b-456f-aa49-75b422b1ad95"
   },
   "outputs": [
    {
     "data": {
      "text/plain": [
       "LogisticRegression()"
      ]
     },
     "execution_count": 56,
     "metadata": {},
     "output_type": "execute_result"
    }
   ],
   "source": [
    "lr_model_1 = LogisticRegression()\n",
    "lr_model_1.fit(X=tfidf_mat_train, y=y_train)"
   ]
  },
  {
   "cell_type": "code",
   "execution_count": 57,
   "metadata": {
    "colab": {
     "base_uri": "https://localhost:8080/"
    },
    "id": "vLNyTtE7tggA",
    "outputId": "110e7ba5-5cbc-4ab8-a393-e7b4a87fc6a4"
   },
   "outputs": [
    {
     "data": {
      "text/plain": [
       "0.24658814864487189"
      ]
     },
     "execution_count": 57,
     "metadata": {},
     "output_type": "execute_result"
    }
   ],
   "source": [
    "pred_val_lr = lr_model_1.predict(tfidf_mat_val)\n",
    "cohen_kappa_score(pred_val_lr, y_val)"
   ]
  },
  {
   "cell_type": "code",
   "execution_count": 58,
   "metadata": {
    "id": "95Eom2g_tinT"
   },
   "outputs": [],
   "source": [
    "N = 150\n",
    "svd = TruncatedSVD(n_components = N)\n",
    "svd_mat_train = svd.fit_transform(tfidf_mat_train)\n",
    "svd_mat_val = svd.transform(tfidf_mat_val)\n",
    "svd_mat_test = svd.transform(tfidf_mat_test)"
   ]
  },
  {
   "cell_type": "code",
   "execution_count": 59,
   "metadata": {
    "colab": {
     "base_uri": "https://localhost:8080/"
    },
    "id": "8RVxAn3HtkrD",
    "outputId": "aea8eb49-5bf1-4cb3-b135-d48f7828897f"
   },
   "outputs": [
    {
     "data": {
      "text/plain": [
       "0.25370457098603894"
      ]
     },
     "execution_count": 59,
     "metadata": {},
     "output_type": "execute_result"
    }
   ],
   "source": [
    "lr_model_2 = LogisticRegression()\n",
    "lr_model_2.fit(X=svd_mat_train, y=y_train)\n",
    "pred_val_lr2 = lr_model_2.predict(svd_mat_val)\n",
    "cohen_kappa_score(pred_val_lr2, y_val)"
   ]
  },
  {
   "cell_type": "code",
   "execution_count": 60,
   "metadata": {
    "id": "VJBamA_VtnMz"
   },
   "outputs": [],
   "source": [
    "gbm = GradientBoostingClassifier(learning_rate = 0.01, \n",
    "                                 n_estimators=2000, \n",
    "                                 max_depth=1)"
   ]
  },
  {
   "cell_type": "code",
   "execution_count": 61,
   "metadata": {
    "colab": {
     "base_uri": "https://localhost:8080/"
    },
    "id": "kx0A70SKtpez",
    "outputId": "d11e32dd-1e8c-4bb9-e303-27637498a28c"
   },
   "outputs": [
    {
     "data": {
      "text/plain": [
       "0.2370045711349491"
      ]
     },
     "execution_count": 61,
     "metadata": {},
     "output_type": "execute_result"
    }
   ],
   "source": [
    "gbm_1 = gbm.fit(X=svd_mat_train, y=y_train)\n",
    "pred_val_gbm1 = gbm_1.predict(svd_mat_val)\n",
    "cohen_kappa_score(pred_val_gbm1, y_val)"
   ]
  },
  {
   "cell_type": "code",
   "execution_count": 62,
   "metadata": {
    "id": "HtVGVO9ktrV1"
   },
   "outputs": [],
   "source": [
    "svd_new = TruncatedSVD(n_components=150)"
   ]
  },
  {
   "cell_type": "code",
   "execution_count": 63,
   "metadata": {
    "id": "FuxHezsjvyMh"
   },
   "outputs": [],
   "source": [
    "word_vec = svd_new.fit_transform(tfidf_mat_train.T)"
   ]
  },
  {
   "cell_type": "code",
   "execution_count": 63,
   "metadata": {
    "id": "hItTnF2zvyyM"
   },
   "outputs": [],
   "source": [
    "word_vec.shape"
   ]
  },
  {
   "cell_type": "code",
   "execution_count": 64,
   "metadata": {
    "colab": {
     "base_uri": "https://localhost:8080/"
    },
    "id": "nPQQkbkpv1XW",
    "outputId": "9062d2f2-943c-4ab1-8b19-53d53f9e027d"
   },
   "outputs": [
    {
     "data": {
      "text/plain": [
       "1557"
      ]
     },
     "execution_count": 64,
     "metadata": {},
     "output_type": "execute_result"
    }
   ],
   "source": [
    "tfidf.vocabulary_['hulk']\n"
   ]
  },
  {
   "cell_type": "code",
   "execution_count": 65,
   "metadata": {
    "id": "7Urjrdp_ybvQ"
   },
   "outputs": [],
   "source": [
    "from sklearn.metrics import pairwise_distances\n"
   ]
  },
  {
   "cell_type": "code",
   "execution_count": 67,
   "metadata": {
    "id": "no_-gQEUyeLi"
   },
   "outputs": [],
   "source": [
    "dist_hulk = pairwise_distances(X = word_vec, \n",
    "                               Y=word_vec[1557, :].reshape(1,-1),\n",
    "                               metric='cosine')\n"
   ]
  },
  {
   "cell_type": "code",
   "execution_count": 68,
   "metadata": {
    "colab": {
     "base_uri": "https://localhost:8080/"
    },
    "id": "RSL00ptHyggY",
    "outputId": "227a2d7c-869f-4c6a-d9b6-8c409d795454"
   },
   "outputs": [
    {
     "data": {
      "text/plain": [
       "array([1557, 3260, 1475, ..., 3354, 2203,  955])"
      ]
     },
     "execution_count": 68,
     "metadata": {},
     "output_type": "execute_result"
    }
   ],
   "source": [
    "dist_hulk.flatten().argsort()\n"
   ]
  },
  {
   "cell_type": "code",
   "execution_count": 69,
   "metadata": {
    "id": "FiCLORopylSI"
   },
   "outputs": [],
   "source": [
    "id_to_word = {v:k for k,v in tfidf.vocabulary_.items()}\n"
   ]
  },
  {
   "cell_type": "code",
   "execution_count": 71,
   "metadata": {
    "colab": {
     "base_uri": "https://localhost:8080/",
     "height": 35
    },
    "id": "XScGSy2ZyneC",
    "outputId": "996ef961-6692-40b6-8dc2-f498074534b4"
   },
   "outputs": [
    {
     "data": {
      "application/vnd.google.colaboratory.intrinsic+json": {
       "type": "string"
      },
      "text/plain": [
       "'dry'"
      ]
     },
     "execution_count": 71,
     "metadata": {},
     "output_type": "execute_result"
    }
   ],
   "source": [
    "id_to_word[955]\n"
   ]
  },
  {
   "cell_type": "code",
   "execution_count": null,
   "metadata": {
    "id": "sRDWE9WdyqIi"
   },
   "outputs": [],
   "source": []
  }
 ],
 "metadata": {
  "colab": {
   "collapsed_sections": [],
   "name": "Txta_6.ipynb",
   "provenance": []
  },
  "kernelspec": {
   "display_name": "Python 3 (ipykernel)",
   "language": "python",
   "name": "python3"
  },
  "language_info": {
   "codemirror_mode": {
    "name": "ipython",
    "version": 3
   },
   "file_extension": ".py",
   "mimetype": "text/x-python",
   "name": "python",
   "nbconvert_exporter": "python",
   "pygments_lexer": "ipython3",
   "version": "3.9.7"
  }
 },
 "nbformat": 4,
 "nbformat_minor": 1
}
