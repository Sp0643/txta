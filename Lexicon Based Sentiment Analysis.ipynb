{
 "cells": [
  {
   "cell_type": "markdown",
   "metadata": {},
   "source": [
    "# Sentiment Analysis"
   ]
  },
  {
   "cell_type": "markdown",
   "metadata": {},
   "source": [
    "Sentiment Analysis or Opinion Mining, is a sub-field of Natural Language Processing (NLP) that tries to identify and extract opinions within a given text. The aim of sentiment analysis is to gauge the attitude, sentiments, and emotions of a customer based on the computational treatment of subjectivity in a text. The two common methods for sentiment classification are lexicon/rule-based and machine learning-based."
   ]
  },
  {
   "cell_type": "markdown",
   "metadata": {},
   "source": [
    "## TextBlob"
   ]
  },
  {
   "cell_type": "markdown",
   "metadata": {},
   "source": [
    "TextBlob is a Python library for processing textual data. It provides a simple API for diving into common\n",
    "natural language processing (NLP) tasks such as part-of-speech tagging, noun phrase extraction, sentiment analysis,\n",
    "classification, translation, and more.\n",
    "\n",
    "The textblob sentiments module contains two sentiment analysis implementations - PatternAnalyzer\n",
    "(lexicon-based) and NaiveBayesAnalyzer (an NLTK classifier pre-trained on a movie reviews corpus).\n",
    "\n",
    "The default implementation is PatternAnalyzer. It returns two values: subjectivity score and sentiment polarity\n",
    "\n",
    "You can override the default implementation by passing another implementation into a TextBlob’s constructor. The NaiveBayesAnalyzer returns its result as a namedtuple of the form: Sentiment(classification, p_pos, p_neg)."
   ]
  },
  {
   "cell_type": "code",
   "execution_count": 1,
   "metadata": {},
   "outputs": [
    {
     "data": {
      "text/plain": [
       "Sentiment(polarity=0.0, subjectivity=0.0)"
      ]
     },
     "execution_count": 1,
     "metadata": {},
     "output_type": "execute_result"
    }
   ],
   "source": [
    "from textblob import TextBlob\n",
    "TextBlob(\"I flew from LA to SFO\").sentiment"
   ]
  },
  {
   "cell_type": "code",
   "execution_count": 2,
   "metadata": {},
   "outputs": [
    {
     "data": {
      "text/plain": [
       "Sentiment(polarity=0.375, subjectivity=0.75)"
      ]
     },
     "execution_count": 2,
     "metadata": {},
     "output_type": "execute_result"
    }
   ],
   "source": [
    "TextBlob(\"I am excited to binge watch a tv show today\").sentiment"
   ]
  },
  {
   "cell_type": "code",
   "execution_count": 3,
   "metadata": {},
   "outputs": [
    {
     "data": {
      "text/plain": [
       "Sentiment(polarity=0.4375, subjectivity=0.875)"
      ]
     },
     "execution_count": 3,
     "metadata": {},
     "output_type": "execute_result"
    }
   ],
   "source": [
    "#Handles emoticons\n",
    "TextBlob(\"I am excited to binge watch a tv show today :)\").sentiment"
   ]
  },
  {
   "cell_type": "code",
   "execution_count": 4,
   "metadata": {},
   "outputs": [
    {
     "data": {
      "text/plain": [
       "Sentiment(polarity=0.7, subjectivity=0.6000000000000001)"
      ]
     },
     "execution_count": 4,
     "metadata": {},
     "output_type": "execute_result"
    }
   ],
   "source": [
    "#The pattern analyser in textblob is not very good at handling negations\n",
    "TextBlob(\"The popcorn did not taste good\").sentiment"
   ]
  },
  {
   "cell_type": "code",
   "execution_count": 5,
   "metadata": {},
   "outputs": [
    {
     "data": {
      "text/plain": [
       "Sentiment(classification='neg', p_pos=0.46931692651161244, p_neg=0.530683073488388)"
      ]
     },
     "execution_count": 5,
     "metadata": {},
     "output_type": "execute_result"
    }
   ],
   "source": [
    "# Using Naive Bayes instead of Pattern Analyzer\n",
    "from textblob.sentiments import NaiveBayesAnalyzer\n",
    "blob = TextBlob(\"The popcorn did not taste good\", analyzer=NaiveBayesAnalyzer())\n",
    "blob.sentiment"
   ]
  },
  {
   "cell_type": "markdown",
   "metadata": {},
   "source": [
    "## AFINN "
   ]
  },
  {
   "cell_type": "markdown",
   "metadata": {},
   "source": [
    "AFINN is a lexicon of English words rated for valence with an integer between minus five (negative) and plus five (positive). The words have been manually labeled by Finn Årup Nielsen in 2009-2011."
   ]
  },
  {
   "cell_type": "code",
   "execution_count": 8,
   "metadata": {},
   "outputs": [
    {
     "data": {
      "text/plain": [
       "3.0"
      ]
     },
     "execution_count": 8,
     "metadata": {},
     "output_type": "execute_result"
    }
   ],
   "source": [
    "from afinn import Afinn\n",
    "afinn = Afinn()\n",
    "afinn.score('I am excited to plan my trip to Orlando')"
   ]
  },
  {
   "cell_type": "code",
   "execution_count": 9,
   "metadata": {},
   "outputs": [
    {
     "data": {
      "text/plain": [
       "0.0"
      ]
     },
     "execution_count": 9,
     "metadata": {},
     "output_type": "execute_result"
    }
   ],
   "source": [
    "#Captures neutral or objective statements in most cases\n",
    "afinn.score('I went to Disneyland')"
   ]
  },
  {
   "cell_type": "code",
   "execution_count": 10,
   "metadata": {},
   "outputs": [
    {
     "data": {
      "text/plain": [
       "2.0"
      ]
     },
     "execution_count": 10,
     "metadata": {},
     "output_type": "execute_result"
    }
   ],
   "source": [
    "# Can handle emoticons when activated\n",
    "afinn = Afinn(emoticons = True)\n",
    "afinn.score('I went to Disneyland :)')\n",
    "\n"
   ]
  },
  {
   "cell_type": "code",
   "execution_count": 11,
   "metadata": {},
   "outputs": [
    {
     "data": {
      "text/plain": [
       "3.0"
      ]
     },
     "execution_count": 11,
     "metadata": {},
     "output_type": "execute_result"
    }
   ],
   "source": [
    "#Accounts for slangs like \"gr8\"\n",
    "afinn.score('Had a gr8 experience at the theme park')"
   ]
  },
  {
   "cell_type": "code",
   "execution_count": 12,
   "metadata": {},
   "outputs": [
    {
     "data": {
      "text/plain": [
       "-2.0"
      ]
     },
     "execution_count": 12,
     "metadata": {},
     "output_type": "execute_result"
    }
   ],
   "source": [
    "#Handles negation\n",
    "afinn.score('The food at the themepark was not good')"
   ]
  },
  {
   "cell_type": "markdown",
   "metadata": {},
   "source": [
    "## VADER Sentiment Analyser"
   ]
  },
  {
   "cell_type": "markdown",
   "metadata": {},
   "source": [
    "VADER (Valence Aware Dictionary for sEntiment Reasoning) is a lexicon and rule-based sentiment analysis tool that is specifically attuned to sentiments expressed in social media. A sentiment lexicon is a list of lexical features (e.g., words) which are generally labelled according to their semantic orientation as either positive or negative.\n",
    "\n",
    "VADER has been found to be quite successful when dealing with social media texts, NY Times editorials, movie reviews, and product reviews. This is because VADER not only tells about the Positivity and Negativity score but also tells us about how positive or negative a sentiment is."
   ]
  },
  {
   "cell_type": "markdown",
   "metadata": {},
   "source": [
    "The VADER algorithm outputs sentiment scores to 4 classes of sentiments\n",
    "\n",
    "neg: Negative probability\n",
    "neu: Neutral probability\n",
    "pos: Positive probability\n",
    "compound: normalized aggregated sentiment score between - 1 and +1)"
   ]
  },
  {
   "cell_type": "code",
   "execution_count": 14,
   "metadata": {},
   "outputs": [
    {
     "name": "stdout",
     "output_type": "stream",
     "text": [
      "{'neg': 0.0, 'neu': 0.417, 'pos': 0.583, 'compound': 0.6808}\n"
     ]
    }
   ],
   "source": [
    "#import the library for VADER\n",
    "from vaderSentiment.vaderSentiment import SentimentIntensityAnalyzer\n",
    "\n",
    "#initialize vader\n",
    "VADER_analyser = SentimentIntensityAnalyzer()\n",
    "\n",
    "sentiment_score = VADER_analyser.polarity_scores(\"The flight was clean and good\")\n",
    "print(sentiment_score)"
   ]
  },
  {
   "cell_type": "code",
   "execution_count": 15,
   "metadata": {},
   "outputs": [
    {
     "name": "stdout",
     "output_type": "stream",
     "text": [
      "{'neg': 0.0, 'neu': 0.361, 'pos': 0.639, 'compound': 0.7944}\n"
     ]
    }
   ],
   "source": [
    "#VADER handles emphasis in setences \n",
    "sentiment_score = VADER_analyser.polarity_scores(\"The flight was CLEAN and GOOD\")\n",
    "print(sentiment_score)"
   ]
  },
  {
   "cell_type": "code",
   "execution_count": 16,
   "metadata": {},
   "outputs": [
    {
     "name": "stdout",
     "output_type": "stream",
     "text": [
      "{'neg': 0.467, 'neu': 0.533, 'pos': 0.0, 'compound': -0.5423}\n"
     ]
    }
   ],
   "source": [
    "#VADER example 2\n",
    "sentiment_score = VADER_analyser.polarity_scores(\"We had a bad experience\")\n",
    "print(sentiment_score)"
   ]
  },
  {
   "cell_type": "code",
   "execution_count": 17,
   "metadata": {},
   "outputs": [
    {
     "name": "stdout",
     "output_type": "stream",
     "text": [
      "{'neg': 0.615, 'neu': 0.385, 'pos': 0.0, 'compound': -0.7506}\n"
     ]
    }
   ],
   "source": [
    "#VADER handles emojis\n",
    "sentiment_score = VADER_analyser.polarity_scores(\"We had a bad experience :(\")\n",
    "print(sentiment_score)"
   ]
  },
  {
   "cell_type": "code",
   "execution_count": 18,
   "metadata": {},
   "outputs": [
    {
     "name": "stdout",
     "output_type": "stream",
     "text": [
      "{'neg': 0.0, 'neu': 1.0, 'pos': 0.0, 'compound': 0.0}\n"
     ]
    }
   ],
   "source": [
    "#VADER handles objective sentences\n",
    "sentiment_score = VADER_analyser.polarity_scores(\"We took a flight from LA to NY\")\n",
    "print(sentiment_score)"
   ]
  },
  {
   "cell_type": "code",
   "execution_count": 19,
   "metadata": {},
   "outputs": [
    {
     "name": "stdout",
     "output_type": "stream",
     "text": [
      "-0.3875\n"
     ]
    }
   ],
   "source": [
    "#VADER handles negation in sentences\n",
    "sentiment_score = VADER_analyser.polarity_scores(\"The flight attendants were not friendly\")\n",
    "print(sentiment_score['compound'])"
   ]
  },
  {
   "cell_type": "markdown",
   "metadata": {},
   "source": [
    "##  Sentiments can be misclassified"
   ]
  },
  {
   "cell_type": "markdown",
   "metadata": {},
   "source": [
    "While TextBlob, AFINN and VADER are found to perform well on an average compared to many other lexicon-based methods, they do NOT provide 100% accurate sentiment classification. Given the same sentence, the sentiment classification by each of these methods can be different. In addition, it is also possible for the three methods to misclassify a given sentence. Nevertheless, these methods produce highly accurate results on an average when applied to large text corpus, especially on social media text."
   ]
  },
  {
   "cell_type": "code",
   "execution_count": 20,
   "metadata": {},
   "outputs": [
    {
     "name": "stdout",
     "output_type": "stream",
     "text": [
      "Sentiment(polarity=0.125, subjectivity=0.30000000000000004)\n",
      "6.0\n",
      "{'neg': 0.169, 'neu': 0.696, 'pos': 0.136, 'compound': -0.1318}\n"
     ]
    }
   ],
   "source": [
    "#Example 1: Different Classification Produced by Different Methods\n",
    "print(TextBlob(\"The rides were fun, but I did not like the long wait time\").sentiment)\n",
    "print(afinn.score('The rides were fun, but I did not like the long wait time'))\n",
    "print(VADER_analyser.polarity_scores('The rides were fun, but I did not like the long wait time'))"
   ]
  },
  {
   "cell_type": "code",
   "execution_count": 22,
   "metadata": {},
   "outputs": [
    {
     "name": "stdout",
     "output_type": "stream",
     "text": [
      "Sentiment(polarity=0.125, subjectivity=0.30000000000000004)\n",
      "6.0\n",
      "{'neg': 0.129, 'neu': 0.67, 'pos': 0.201, 'compound': 0.2937}\n"
     ]
    }
   ],
   "source": [
    "#Example 2: Potential missclassifcation by all 3 methods\n",
    "print(TextBlob(\"Even though the rides were fun, I did not like the long wait time\").sentiment)\n",
    "print(afinn.score('Even though  rides were fun, I did not like the long wait time'))\n",
    "print(VADER_analyser.polarity_scores('Even though  rides were fun, I did not like the long wait time'))"
   ]
  },
  {
   "cell_type": "markdown",
   "metadata": {},
   "source": [
    "## Sentiment Analysis for Large Datasets"
   ]
  },
  {
   "cell_type": "markdown",
   "metadata": {},
   "source": [
    "### Import the data"
   ]
  },
  {
   "cell_type": "code",
   "execution_count": 2,
   "metadata": {
    "scrolled": true
   },
   "outputs": [
    {
     "name": "stdout",
     "output_type": "stream",
     "text": [
      "                                           UA Tweets            DateTime  \\\n",
      "0                                     @united thanks 2015-02-24 11:42:48   \n",
      "1  @united Thanks for taking care of that MR!! Ha... 2015-02-24 11:42:41   \n",
      "2  @united still no refund or word via DM. Please... 2015-02-24 11:39:45   \n",
      "3  @united Delayed due to lack of crew and now de... 2015-02-24 11:39:25   \n",
      "4  @united thanks -- we filled it out. How's our ... 2015-02-24 11:38:15   \n",
      "\n",
      "  Time_created  \n",
      "0     11:42:48  \n",
      "1     11:42:41  \n",
      "2     11:39:45  \n",
      "3     11:39:25  \n",
      "4     11:38:15  \n"
     ]
    }
   ],
   "source": [
    "import numpy as np\n",
    "\n",
    "#Load the dataset containing the sentences\n",
    "import pandas as pd #Needed to load excel files\n",
    "\n",
    "# Load first sheet of excel file to a data frame called df\n",
    "\n",
    "\n",
    "# Import required packages\n",
    "import pandas as pd\n",
    "import datetime\n",
    "import numpy as np\n",
    "\n",
    "\n",
    "UA_TweetData = pd.ExcelFile('UA_Tweets_Small.xlsx').parse('Sheet1')\n",
    "\n",
    "\n",
    "print(UA_TweetData.head())"
   ]
  },
  {
   "cell_type": "markdown",
   "metadata": {},
   "source": [
    "### Remove Twitter Handles"
   ]
  },
  {
   "cell_type": "code",
   "execution_count": 3,
   "metadata": {},
   "outputs": [
    {
     "name": "stderr",
     "output_type": "stream",
     "text": [
      "<ipython-input-3-1b697dc2774d>:4: FutureWarning: The default value of regex will change from True to False in a future version.\n",
      "  UA_TweetData['UA Tweets'] = UA_TweetData['UA Tweets'].str.replace('(@[a-z0-9]+)\\w+',' ')\n"
     ]
    },
    {
     "name": "stdout",
     "output_type": "stream",
     "text": [
      "                                           UA Tweets            DateTime  \\\n",
      "0                                             thanks 2015-02-24 11:42:48   \n",
      "1    Thanks for taking care of that MR!! Happy cu... 2015-02-24 11:42:41   \n",
      "2    still no refund or word via DM. Please resol... 2015-02-24 11:39:45   \n",
      "3    Delayed due to lack of crew and now delayed ... 2015-02-24 11:39:25   \n",
      "4    thanks -- we filled it out. How's our luck w... 2015-02-24 11:38:15   \n",
      "\n",
      "  Time_created  \n",
      "0     11:42:48  \n",
      "1     11:42:41  \n",
      "2     11:39:45  \n",
      "3     11:39:25  \n",
      "4     11:38:15  \n"
     ]
    }
   ],
   "source": [
    "#Remove duplicates, if needed\n",
    "#UA_TweetData.drop_duplicates(subset='UA Tweets',inplace=True)\n",
    "\n",
    "UA_TweetData['UA Tweets'] = UA_TweetData['UA Tweets'].str.replace('(@[a-z0-9]+)\\w+',' ')\n",
    "print(UA_TweetData.head())"
   ]
  },
  {
   "cell_type": "markdown",
   "metadata": {},
   "source": [
    "### Convert Tweets to Python Lists"
   ]
  },
  {
   "cell_type": "code",
   "execution_count": 4,
   "metadata": {},
   "outputs": [
    {
     "name": "stdout",
     "output_type": "stream",
     "text": [
      "['  thanks', '  Thanks for taking care of that MR!! Happy customer.', \"  still no refund or word via DM. Please resolve this issue as your Cancelled Flightled flight was useless to my assistant's trip.\", \"  Delayed due to lack of crew and now delayed again because there's a long line for deicing... Still need to improve service #united\", \"  thanks -- we filled it out. How's our luck with this? Is it common?\", '  Your ERI-ORD express connections are hugely popular .. now if only we could have an ERI-EWR hop! :)', '  even on international flight Glasgow to the U.S.? Then what about orlando to Newark? All 90 mins?', '  you think you boarded flight AU1066 too early? I think so.', \"  I understand, but it's tough when there is no way to get to the airport w/o serious risk of an accident. It's a steep price.\", '  Gate agent hooked me up with alternate flights. If you have a way to PREVENT the constant issues, that would rock.', '  flying gla-mco in a few weeks. How long do we have to be at airport for before departure for both international and domestic? Ta', '  thanks', '  Thanks. It is on the same ticket.', '  why not? Is it a law or a policy?', '  is the worst. Nonrefundable First class tickets? Oh because when you select Global/FC their system auto selects economy w/upgrade.', \"  @CheerTymeDad So I can buy tix 3 days before flight but can't transfer the tix.  Flawed security logic. Flawed customer service\", '  I did start a claim but 8-10 weeks is unrealistic, am I really supposed to go that long with out a car seat for my child.Ridiculous!', '  follow me please this airline is beautifull ‚ô•', \"  no I don't, but I'm sure United have my info on its system.\", \"  if the car seat is lost   should just reimburse me for a new one, this is not a pair of shoes, it's a necessity for my child\"]\n"
     ]
    }
   ],
   "source": [
    "#Extract column containg reviews and store it to Review Text as a list\n",
    "Tweets = UA_TweetData['UA Tweets'].tolist()\n",
    "\n",
    "print(Tweets[0:20])\n",
    "\n"
   ]
  },
  {
   "cell_type": "markdown",
   "metadata": {},
   "source": [
    "### Pre-Process Tweets"
   ]
  },
  {
   "cell_type": "markdown",
   "metadata": {},
   "source": [
    "#### Example of preprocessor package"
   ]
  },
  {
   "cell_type": "code",
   "execution_count": 5,
   "metadata": {},
   "outputs": [
    {
     "name": "stdout",
     "output_type": "stream",
     "text": [
      "Preprocessor is\n",
      "Preprocessor is $HASHTAG$ $SMILEY$ $URL$\n",
      "Preprocessor is #awesome\n"
     ]
    }
   ],
   "source": [
    "#for first time  pip install tweet-preprocessor\n",
    "import preprocessor as p\n",
    "\n",
    "#The 'clean' function will remove URLs, Hashtags, Mentions, Reserved words (RT, FAV), Emojis, Smileys\n",
    "print(p.clean('Preprocessor is #awesome 👍 https://github.com/s/preprocessor'))\n",
    "\n",
    "#The 'tokenize' function will replace HASHTAG EMOJI URLs as text within $ sign\n",
    "print(p.tokenize('Preprocessor is #awesome :) https://github.com/s/preprocessor'))\n",
    "\n",
    "#The 'set_options' function will allow you to customize the aspects to be removed\n",
    "p.set_options(p.OPT.URL, p.OPT.EMOJI)\n",
    "print(p.clean('Preprocessor is #awesome 👍 https://github.com/s/preprocessor'))"
   ]
  },
  {
   "cell_type": "markdown",
   "metadata": {},
   "source": [
    "#Options available for customizing pre-processing\n",
    "Remove URL =>\tp.OPT.URL <br> \n",
    "Remove Mention  =>\tp.OPT.MENTION <br> \n",
    "Remove Hashtag  =>\tp.OPT.HASHTAG <br> \n",
    "Remove Reserved Words  =>\tp.OPT.RESERVED <br> \n",
    "Remove Emoji  =>\tp.OPT.EMOJI <br> \n",
    "Remove Smiley  =>\tp.OPT.SMILEY <br> \n",
    "Remove Number  =>\tp.OPT.NUMBER<br> "
   ]
  },
  {
   "cell_type": "markdown",
   "metadata": {},
   "source": [
    "#### Pre-processing UA Tweets"
   ]
  },
  {
   "cell_type": "code",
   "execution_count": 6,
   "metadata": {},
   "outputs": [
    {
     "name": "stdout",
     "output_type": "stream",
     "text": [
      "  thanks\n",
      "  Thanks for taking care of that MR!! Happy customer.\n",
      "  still no refund or word via DM. Please resolve this issue as your Cancelled Flightled flight was useless to my assistant's trip.\n",
      "  Delayed due to lack of crew and now delayed again because there's a long line for deicing... Still need to improve service #united\n",
      "  thanks -- we filled it out. How's our luck with this? Is it common?\n",
      "  Your ERI-ORD express connections are hugely popular .. now if only we could have an ERI-EWR hop! :)\n",
      "  even on international flight Glasgow to the U.S.? Then what about orlando to Newark? All 90 mins?\n",
      "  you think you boarded flight AU1066 too early? I think so.\n",
      "  I understand, but it's tough when there is no way to get to the airport w/o serious risk of an accident. It's a steep price.\n",
      "  Gate agent hooked me up with alternate flights. If you have a way to PREVENT the constant issues, that would rock.\n",
      "  flying gla-mco in a few weeks. How long do we have to be at airport for before departure for both international and domestic? Ta\n",
      "  thanks\n",
      "  Thanks. It is on the same ticket.\n",
      "  why not? Is it a law or a policy?\n",
      "  is the worst. Nonrefundable First class tickets? Oh because when you select Global/FC their system auto selects economy w/upgrade.\n",
      "  @CheerTymeDad So I can buy tix 3 days before flight but can't transfer the tix.  Flawed security logic. Flawed customer service\n",
      "  I did start a claim but 8-10 weeks is unrealistic, am I really supposed to go that long with out a car seat for my child.Ridiculous!\n",
      "  follow me please this airline is beautifull ‚ô•\n",
      "  no I don't, but I'm sure United have my info on its system.\n",
      "  if the car seat is lost   should just reimburse me for a new one, this is not a pair of shoes, it's a necessity for my child\n",
      "  Just submitted my response on the link you sent.\n",
      "  yes, David Allan send an email with this number (KMM24999563V99860L0KM) and case#8719519\n",
      "    that totally sucks my cousin worked at PHL said  \n",
      "  just wanted to let you know how wonderful Rosetta the gate agent was working flight 6457 Dan to Ase. Let her know she wasappreciated\n",
      "  yes, a paper voucher that I got on January 26th 2015\n",
      "  beginning of Feb I called United they said they would send another voucher by mail. Never got anything. #tiredofwaiting\n",
      "@United the internet is a great thing.  I am emailing executives in your company, maybe they will respond to me in a timely manner.\n",
      "  Do I need to use a Chase United Club pass for my 8yr old son, or can he come in with me on my pass?\n",
      "  and what am I suppose to do with that number?\n",
      "  I flew back w other company since United didnt have an earlier flight\n",
      "  I lost a voucher that I was given in Miami aeroport on jan 26. I did not use it.\n",
      "  I am trying to book awards for September and need flights on   but they will not show even w/ many award seats availab\n",
      "  I sure did.   I had to drive a total of 3 hours to get my own bag.  I'd like to explain that debacle but no one wants to talk to me.\n",
      "  @CheerTymeDad Gee that's like almost caring about ppl more than $$.  Think I'm more int in having a trusted adult w/ daughter .\n",
      "  See? We were told repeatedly that the pilot was Late Flight and kept getting Late Flightr.  After we boarded, there was a defibrillator issue.\n",
      "  why no preferred security line anymore. My TSA pre-check didn't pull on my @SilverAirways partner flight! #Platinum #spoiled\n",
      "  #Newarkliberty Airport need to indicate different gate#'s for terminals A&amp;C. #Flyingainteasy\n",
      "  yes please! I am newly married and trying to update my last name on a preexisting international flight! It seems so easy, but...\n",
      "  How does United refuse to reissue a $400 lost voucher when their plane didn't take off due to mechanics? #badcustomerservice\n",
      "  also during the run I was instructed to do, I shattered my computer. http://t.co/oAflfr7WXB\n",
      "  yes, we've been with the agents for the last 50 minutes. One of the agents have been very rude, but thankfully Ladan has been nice.\n",
      "  that's right- with an overnight Miami.\n",
      "  Have clients with an 11 hr layover at IAH (during the day). Will they have to claim &amp; recheck luggage. Or will it be taken care of?\n",
      "  I am trying to find out if the loaner seat is new or used, a used car seat is illegal according to safety regulations\n",
      "  i DMed you the details\n",
      "  iah to charlotte. Baggage claim rep latrice h. #customerservice non existent, Ignored customer then inappropriately touched customer\n",
      "  Kewl. Will also let them know the overhead bin over my row was \"Inop\". I love a good abbreve.\n",
      "  - thanks for your help...got me what I need, but its an issue with @_austrian . I guess I sit awhile longer.\n",
      "  @UCtraveladvisor - I would have loved to respond to your website until I saw the really long form. In business the new seats are bad\n",
      "  A refund and flight vouchers or another flight on a different airline at your expense for today. 8 hour drive is very inconvenient\n",
      "  then why have I not received my call back its been 3 days...it's an infant car seat how am I supposed to go anywhere with my child\n",
      "  thanks again for your concern. I will contact customer care upon our return from Australia.\n",
      "@United well sitting on the ground 'on time' but waiting for a gate....again #tiredofthis\n",
      "  No, I need you guys to not over book planes. It's not a concern, I'll just travel with someone else moving forward.\n",
      "  A measly $50 e-certificate is not how you appreciate loyal customers after they wait 3hrs on the tarmac during UA1116. #unacceptable\n",
      "  When will email address/username sign-on be available? It's been a while.\n",
      "  Thank you for that. Am I able to claim any interim expenses or is the cost of the stuff up on me?\n",
      "  rude rude\n",
      "  - Why can't I get a boarding pass for my Austrian Airlines codeshare flight. Rebook incls a 6 hour layover &amp; I am stuck outside sec\n",
      " . ..I received on other flights. #united  truly breaks guitars. #unitedbreaksguitars #wantmymoneyback\n",
      "  just flew to #TelAviv paid $100 from a third suitcase which didn't even make it on the plane! Besides for the impolite service...\n",
      "@United  My bag is still in Colo Springs. I am disabled and have to search an unfamiliar airport and look for my bag. Not a good outcome\n",
      "  Shame that there's no flex to tickets transfer rules.  Even calling from Neurosurgery ICU isn't enough!\n",
      "  No. Denver said they don't handle baggage that made it to Colo. Springs.  They gave me an 800 number to call. No help there either.\n",
      "  you guys need some serious training in customer service. Too many better options to put up with the way you guys handle ur mistakes\n",
      "  6533 ORD to DCA\n",
      "  once he found out we had a problem he avoided me like the plague. Was told \"we can't find a supervisor.\"\n",
      "  ZCC82U Cancelled Flight flight 16h in advance??? Need connect flight reschedule so the link isn't helping. Help!? Gf waited months to see me.\n",
      "  I will not be flying you again\n",
      "  in addition, my first flight was delayed an hour and I'm arriving at my destination 8 hrs Late Flight.\n",
      "  Cancelled Flighted our flight, didn't rebook us on added flight, now have to drive from a Denver to KC....thanks!\n",
      "  your announcement for pre boarding only addresses mobility. My disability requires me to travel with a lot of stuff. Do I preboard?\n",
      "  I flew United last month and the experience was AWESOME!\n",
      "  our travel booked thru United group dept. Okc ticket agent less than willing to help with our connection in LAX.\n",
      "  v upset with your disability  \"services\". When I told one of your employees I was carrying medical equipment she was very rude.\n",
      "  thnx for quick reply but don't think you can assist. Our intl grp will be put to considerable inconvenience today.\n",
      "  wont transfer flight ticket to accompany an 11 yr old who's active military mom had to have emergency brain surgery? WOW!!\n",
      "    7 WEEKS Late FlightR AND I STILL HAVE NOT RECEIVED MY MILES FROM THE MileagePlus Gift Card $150 STARBUCKS CARD I HANDED OVER!!!\n",
      "  as a 1k, I'm always hoping for improvement.\n",
      "  not yet. I complained about the guy who checked my luggage in as he was throwing the bags around. Unfortunate coincidence I hope?\n",
      "  OKC ticket agent Roger McLarren(sp?) LESS than helpful with our Intl group travel problems Can't find a supervisor for help.\n",
      "  mobile apps need construction from the ground up for each OS category.  It's expensive to get right .\n",
      "  another fail for the United ticket agents in OKC. LESS than helpful and could care less about our problems. American here we come.\n",
      "  441, which also had 1 working WC in coach. Good thing this bird landed ahead of schedule. I have to use the WC stat.\n",
      "  the os isn't controlled by me but rather @VerizonWireless .  App is new.\n",
      "  I just sent an email to Customer Care, telling them I may have to break up with you üò¢. I sincerely hope they can help me!!\n",
      "  silly I'm flying delta today. Your united club staff and attendants are surly and unhelpful and always seem bothered by pesky folk\n",
      "  What is your phone number. I can't find who to call about a flight reservation.\n",
      "  well, you can't fix me missing my buddies 30th bday because of negligence but you can attempt to make up for it.\n",
      "  why am I to believe they will help when customer service couldn't? Like I said, I want a number to someone who can fix what you did.\n",
      "  they helped me at the baggage service desk.  Said bc TSA screening was down in FLL not all bags made it but bag will be in EWR @ 12\n",
      "  Mobile boarding pass disappeared from phone while standing in line to board. Second time this week... Hmm.\n",
      "  for the record- Rozana at Newark was lovely and helpful. #choosekind\n",
      "  It was last night's 1235/ORD-LGA.\n",
      "  thx for update\n",
      "  thank you !\n",
      "  dm these nuts\n",
      "  Had to explain to a very over eager flight attendant trying to ask about my vision that my   was not a guide dog!\n",
      "  what's the point of asking for details about a #servicedog when you book if your flight crew doesn't read them? (Continued)\n"
     ]
    }
   ],
   "source": [
    "for tweet in Tweets:\n",
    "    print(tweet)"
   ]
  },
  {
   "cell_type": "code",
   "execution_count": 7,
   "metadata": {},
   "outputs": [
    {
     "name": "stdout",
     "output_type": "stream",
     "text": [
      "['thanks', 'Thanks for taking care of that MR!! Happy customer.', \"still no refund or word via DM. Please resolve this issue as your Cancelled Flightled flight was useless to my assistant's trip.\", \"Delayed due to lack of crew and now delayed again because there's a long line for deicing... Still need to improve service #united\", \"thanks -- we filled it out. How's our luck with this? Is it common?\", 'Your ERI-ORD express connections are hugely popular .. now if only we could have an ERI-EWR hop! :)', 'even on international flight Glasgow to the U.S.? Then what about orlando to Newark? All 90 mins?', 'you think you boarded flight AU1066 too early? I think so.', \"I understand, but it's tough when there is no way to get to the airport w/o serious risk of an accident. It's a steep price.\", 'Gate agent hooked me up with alternate flights. If you have a way to PREVENT the constant issues, that would rock.', 'flying gla-mco in a few weeks. How long do we have to be at airport for before departure for both international and domestic? Ta', 'thanks', 'Thanks. It is on the same ticket.', 'why not? Is it a law or a policy?', 'is the worst. Nonrefundable First class tickets? Oh because when you select Global/FC their system auto selects economy w/upgrade.', \"@CheerTymeDad So I can buy tix 3 days before flight but can't transfer the tix. Flawed security logic. Flawed customer service\", 'I did start a claim but 8-10 weeks is unrealistic, am I really supposed to go that long with out a car seat for my child.Ridiculous!', 'follow me please this airline is beautifull', \"no I don't, but I'm sure United have my info on its system.\", \"if the car seat is lost should just reimburse me for a new one, this is not a pair of shoes, it's a necessity for my child\", 'Just submitted my response on the link you sent.', 'yes, David Allan send an email with this number (KMM24999563V99860L0KM) and case#8719519', 'that totally sucks my cousin worked at PHL said', 'just wanted to let you know how wonderful Rosetta the gate agent was working flight 6457 Dan to Ase. Let her know she wasappreciated', 'yes, a paper voucher that I got on January 26th 2015', 'beginning of Feb I called United they said they would send another voucher by mail. Never got anything. #tiredofwaiting', '@United the internet is a great thing. I am emailing executives in your company, maybe they will respond to me in a timely manner.', 'Do I need to use a Chase United Club pass for my 8yr old son, or can he come in with me on my pass?', 'and what am I suppose to do with that number?', 'I flew back w other company since United didnt have an earlier flight', 'I lost a voucher that I was given in Miami aeroport on jan 26. I did not use it.', 'I am trying to book awards for September and need flights on but they will not show even w/ many award seats availab', \"I sure did. I had to drive a total of 3 hours to get my own bag. I'd like to explain that debacle but no one wants to talk to me.\", \"@CheerTymeDad Gee that's like almost caring about ppl more than $$. Think I'm more int in having a trusted adult w/ daughter .\", 'See? We were told repeatedly that the pilot was Late Flight and kept getting Late Flightr. After we boarded, there was a defibrillator issue.', \"why no preferred security line anymore. My TSA pre-check didn't pull on my @SilverAirways partner flight! #Platinum #spoiled\", \"#Newarkliberty Airport need to indicate different gate#'s for terminals A&amp;C. #Flyingainteasy\", 'yes please! I am newly married and trying to update my last name on a preexisting international flight! It seems so easy, but...', \"How does United refuse to reissue a $400 lost voucher when their plane didn't take off due to mechanics? #badcustomerservice\", 'also during the run I was instructed to do, I shattered my computer.', \"yes, we've been with the agents for the last 50 minutes. One of the agents have been very rude, but thankfully Ladan has been nice.\", \"that's right- with an overnight Miami.\", 'Have clients with an 11 hr layover at IAH (during the day). Will they have to claim &amp; recheck luggage. Or will it be taken care of?', 'I am trying to find out if the loaner seat is new or used, a used car seat is illegal according to safety regulations', 'i DMed you the details', 'iah to charlotte. Baggage claim rep latrice h. #customerservice non existent, Ignored customer then inappropriately touched customer', 'Kewl. Will also let them know the overhead bin over my row was \"Inop\". I love a good abbreve.', '- thanks for your help...got me what I need, but its an issue with @_austrian . I guess I sit awhile longer.', '@UCtraveladvisor - I would have loved to respond to your website until I saw the really long form. In business the new seats are bad', 'A refund and flight vouchers or another flight on a different airline at your expense for today. 8 hour drive is very inconvenient', \"then why have I not received my call back its been 3 days...it's an infant car seat how am I supposed to go anywhere with my child\", 'thanks again for your concern. I will contact customer care upon our return from Australia.', \"@United well sitting on the ground 'on time' but waiting for a gate....again #tiredofthis\", \"No, I need you guys to not over book planes. It's not a concern, I'll just travel with someone else moving forward.\", 'A measly $50 e-certificate is not how you appreciate loyal customers after they wait 3hrs on the tarmac during UA1116. #unacceptable', \"When will email address/username sign-on be available? It's been a while.\", 'Thank you for that. Am I able to claim any interim expenses or is the cost of the stuff up on me?', 'rude rude', \"- Why can't I get a boarding pass for my Austrian Airlines codeshare flight. Rebook incls a 6 hour layover &amp; I am stuck outside sec\", '. ..I received on other flights. #united truly breaks guitars. #unitedbreaksguitars #wantmymoneyback', \"just flew to #TelAviv paid $100 from a third suitcase which didn't even make it on the plane! Besides for the impolite service...\", '@United My bag is still in Colo Springs. I am disabled and have to search an unfamiliar airport and look for my bag. Not a good outcome', \"Shame that there's no flex to tickets transfer rules. Even calling from Neurosurgery ICU isn't enough!\", \"No. Denver said they don't handle baggage that made it to Colo. Springs. They gave me an 800 number to call. No help there either.\", 'you guys need some serious training in customer service. Too many better options to put up with the way you guys handle ur mistakes', '6533 ORD to DCA', 'once he found out we had a problem he avoided me like the plague. Was told \"we can\\'t find a supervisor.\"', \"ZCC82U Cancelled Flight flight 16h in advance??? Need connect flight reschedule so the link isn't helping. Help!? Gf waited months to see me.\", 'I will not be flying you again', \"in addition, my first flight was delayed an hour and I'm arriving at my destination 8 hrs Late Flight.\", \"Cancelled Flighted our flight, didn't rebook us on added flight, now have to drive from a Denver to KC....thanks!\", 'your announcement for pre boarding only addresses mobility. My disability requires me to travel with a lot of stuff. Do I preboard?', 'I flew United last month and the experience was AWESOME!', 'our travel booked thru United group dept. Okc ticket agent less than willing to help with our connection in LAX.', 'v upset with your disability \"services\". When I told one of your employees I was carrying medical equipment she was very rude.', \"thnx for quick reply but don't think you can assist. Our intl grp will be put to considerable inconvenience today.\", \"wont transfer flight ticket to accompany an 11 yr old who's active military mom had to have emergency brain surgery? WOW!!\", '7 WEEKS Late FlightR AND I STILL HAVE NOT RECEIVED MY MILES FROM THE MileagePlus Gift Card $150 STARBUCKS CARD I HANDED OVER!!!', \"as a 1k, I'm always hoping for improvement.\", 'not yet. I complained about the guy who checked my luggage in as he was throwing the bags around. Unfortunate coincidence I hope?', \"OKC ticket agent Roger McLarren(sp?) LESS than helpful with our Intl group travel problems Can't find a supervisor for help.\", \"mobile apps need construction from the ground up for each OS category. It's expensive to get right .\", 'another fail for the United ticket agents in OKC. LESS than helpful and could care less about our problems. American here we come.', '441, which also had 1 working WC in coach. Good thing this bird landed ahead of schedule. I have to use the WC stat.', \"the os isn't controlled by me but rather @VerizonWireless . App is new.\", 'I just sent an email to Customer Care, telling them I may have to break up with you . I sincerely hope they can help me!!', \"silly I'm flying delta today. Your united club staff and attendants are surly and unhelpful and always seem bothered by pesky folk\", \"What is your phone number. I can't find who to call about a flight reservation.\", \"well, you can't fix me missing my buddies 30th bday because of negligence but you can attempt to make up for it.\", \"why am I to believe they will help when customer service couldn't? Like I said, I want a number to someone who can fix what you did.\", 'they helped me at the baggage service desk. Said bc TSA screening was down in FLL not all bags made it but bag will be in EWR @ 12', 'Mobile boarding pass disappeared from phone while standing in line to board. Second time this week... Hmm.', 'for the record- Rozana at Newark was lovely and helpful. #choosekind', \"It was last night's 1235/ORD-LGA.\", 'thx for update', 'thank you !', 'dm these nuts', 'Had to explain to a very over eager flight attendant trying to ask about my vision that my was not a guide dog!', \"what's the point of asking for details about a #servicedog when you book if your flight crew doesn't read them? (Continued)\"]\n"
     ]
    }
   ],
   "source": [
    "cleaned_tweet = []\n",
    "for tweet in Tweets:\n",
    "    cleaned_tweet.append(p.clean(tweet))\n",
    "\n",
    "print(cleaned_tweet)"
   ]
  },
  {
   "cell_type": "markdown",
   "metadata": {},
   "source": [
    "### Classify Sentiment on PreProcessed Tweets"
   ]
  },
  {
   "cell_type": "code",
   "execution_count": 8,
   "metadata": {},
   "outputs": [
    {
     "name": "stdout",
     "output_type": "stream",
     "text": [
      "Text Blob Sentiment Scores\n",
      "[0.2, 0.55625, -0.5, -0.0875, 0.10000000000000003, 0.3666666666666667, 0.0, 0.1, -0.3611111111111111, 0.0, -0.0625, 0.2, 0.1, 0.0, -0.375, -0.5, -0.12083333333333333, 0.0, 0.5, 0.13636363636363635, 0.0, 0.0, -0.3, 1.0, 0.0, 0.0, 0.8, 0.1, 0.0, -0.041666666666666664, 0.0, 0.5, 0.325, 0.3666666666666667, -0.3, 0.0, 0.0, 0.17083333333333334, -0.125, 0.0, 0.06999999999999999, 0.2857142857142857, 0.0, -0.18181818181818182, 0.0, 0.0, 0.6, 0.2, 0.021590909090909105, -0.39, 0.0, 0.2, 0.0, 0.0, -0.11666666666666672, 0.4, 0.5, -0.3, -0.05, -0.125, 0.0, -0.275, 0.0, 0.0, 0.22222222222222224, 0.0, 0.0, 0.0, 0.0, -0.024999999999999994, 0.0, 0.0, 0.5, 0.04166666666666667, -0.195, 0.21666666666666667, 0.005729166666666667, -0.5859375, 0.0, -0.4, -0.16666666666666666, -0.10714285714285715, -0.20833333333333331, 0.7, 0.13636363636363635, 0.78125, -0.5, 0.0, -0.2, 0.0, -0.15555555555555559, 0.0, 0.5, 0.0, 0.0, 0.0, 0.0, 0.225, 0.0]\n",
      "AFINN Sentiment Scores\n",
      "[2.0, 7.0, -1.0, -1.0, 5.0, 3.0, 0.0, 0.0, -5.0, -1.0, 0.0, 2.0, 2.0, 0.0, -3.0, -6.0, -3.0, 1.0, 0.0, -3.0, 0.0, 1.0, -3.0, 4.0, 1.0, 1.0, 4.0, 1.0, 0.0, 1.0, -3.0, 6.0, 1.0, 6.0, 0.0, -3.0, 0.0, 3.0, -4.0, -2.0, 2.0, 0.0, 2.0, -2.0, 0.0, -2.0, 6.0, 4.0, 0.0, -2.0, 0.0, 4.0, 1.0, -1.0, 3.0, 0.0, 2.0, -4.0, -2.0, 1.0, 0.0, 4.0, -3.0, 0.0, 0.0, 0.0, -4.0, 3.0, 0.0, -1.0, 1.0, -2.0, 5.0, 3.0, -6.0, -2.0, 3.0, 2.0, 4.0, 0.0, 2.0, 0.0, 1.0, 3.0, 0.0, 8.0, -4.0, 0.0, -2.0, 5.0, 0.0, -1.0, 5.0, 0.0, 0.0, 2.0, -3.0, 3.0, 0.0]\n",
      "VADER Sentiment Scores\n",
      "[0.4404, 0.8856, -0.2732, 0.1531, 0.7399, 0.7495, 0.0, 0.0, -0.8957, 0.2103, 0.0, 0.4404, 0.4404, 0.0, -0.6249, -0.7351, 0.0, 0.3182, 0.1672, -0.3182, 0.0, 0.4723, -0.4201, 0.5719, 0.4019, 0.4215, 0.7845, 0.4215, 0.0772, 0.4215, -0.3182, 0.775, -0.1027, 0.818, 0.0, -0.5466, 0.0, 0.6657, -0.1779, -0.4767, 0.8176, 0.0, 0.4939, -0.2023, 0.0, -0.3182, 0.8555, 0.2382, 0.1027, -0.4005, 0.0, 0.7269, 0.3506, 0.0, -0.2865, 0.0, 0.3612, -0.7184, -0.25, 0.6908, -0.4389, 0.1012, -0.68, -0.2401, 0.0258, 0.0, -0.3818, -0.7505, 0.0, -0.2263, -0.3164, 0.0, 0.837, 0.6705, -0.7089, -0.5704, 0.7365, 0.5826, 0.7003, 0.2865, 0.497, 0.0, 0.5076, 0.4404, 0.0, 0.9097, -0.1531, 0.0772, 0.2486, 0.2937, 0.0, -0.2263, 0.765, 0.0, 0.3612, 0.4199, -0.3182, 0.6212, 0.0]\n"
     ]
    }
   ],
   "source": [
    "from vaderSentiment.vaderSentiment import SentimentIntensityAnalyzer\n",
    "from afinn import Afinn\n",
    "from textblob import TextBlob\n",
    "\n",
    "#initialize vader\n",
    "VADER_analyser = SentimentIntensityAnalyzer()\n",
    "afinn_analyser = Afinn()\n",
    "\n",
    "\n",
    "\n",
    "\n",
    "#Create a empty list to store review sentiment score\n",
    "TB_review_sentiment = []\n",
    "AFINN_review_sentiment = []\n",
    "VADER_review_sentiment = []\n",
    "\n",
    "#For each sentence in the review\n",
    "for tweet in cleaned_tweet:\n",
    "    #Cacluate the sentiment score\n",
    "    TB_sentiment_score = TextBlob(tweet).sentiment.polarity\n",
    "    AFINN_sentiment_score = afinn_analyser.score(tweet)\n",
    "    VADER_sentiment_score = VADER_analyser.polarity_scores(tweet)\n",
    "    \n",
    "    #Store the compound sentiment score for that sentence\n",
    "    TB_review_sentiment.append(TB_sentiment_score)\n",
    "    AFINN_review_sentiment.append(AFINN_sentiment_score)\n",
    "    VADER_review_sentiment.append(VADER_sentiment_score['compound'])\n",
    "\n",
    "\n",
    "print(\"Text Blob Sentiment Scores\")\n",
    "print(TB_review_sentiment)\n",
    "\n",
    "print(\"AFINN Sentiment Scores\")\n",
    "print(AFINN_review_sentiment)\n",
    "\n",
    "\n",
    "print(\"VADER Sentiment Scores\")\n",
    "print(VADER_review_sentiment)"
   ]
  },
  {
   "cell_type": "markdown",
   "metadata": {},
   "source": [
    "### Calculate Overall Sentiments from Tweet"
   ]
  },
  {
   "cell_type": "code",
   "execution_count": 44,
   "metadata": {},
   "outputs": [
    {
     "name": "stdout",
     "output_type": "stream",
     "text": [
      "The average review sentiment based on VADER Analyzer is:  0.12140606060606061\n",
      "The median review sentiment based on VADER Analyzer is:  0.0\n",
      "The SD of review sentiment based on VADER Analyzer is:  0.44530178300009876\n",
      "The 25th percentile of review sentiment based on VADER Analyzer is:  -0.2143\n",
      "The 75th percentile of review sentiment based on VADER Analyzer is:  0.4404\n"
     ]
    }
   ],
   "source": [
    "#Calculating Overall Sentiment Summary for VADER Analyzer\n",
    "\n",
    "print(\"The average review sentiment based on VADER Analyzer is: \", \n",
    "                        np.mean(VADER_review_sentiment))\n",
    "\n",
    "print(\"The median review sentiment based on VADER Analyzer is: \",  \n",
    "                       np.median(VADER_review_sentiment))\n",
    "\n",
    "print(\"The SD of review sentiment based on VADER Analyzer is: \", \n",
    "                          np.std(VADER_review_sentiment))\n",
    "\n",
    "\n",
    "print(\"The 25th percentile of review sentiment based on VADER Analyzer is: \", \n",
    "                    np.percentile(VADER_review_sentiment,25))\n",
    "\n",
    "print(\"The 75th percentile of review sentiment based on VADER Analyzer is: \", \n",
    "                     np.percentile(VADER_review_sentiment,75))"
   ]
  },
  {
   "cell_type": "markdown",
   "metadata": {},
   "source": [
    "### Converting Sentiment Scores to Class Labels"
   ]
  },
  {
   "cell_type": "markdown",
   "metadata": {},
   "source": [
    "We can use cut-offs to convert the sentiment scores to class labels. For instance, the sentiment scores for VADER is between -1 and 1. We can have the following thresholds to convert the scores to class labels:\n",
    "\n",
    "If Sentiment Scores is between -1 and -0.05 then classify as \"Negative\"\n",
    "If Sentiment Scores is between -0.05 and +0.05 then classify as \"Neutral\"\n",
    "If Sentiment Scores is between +0.05 and +1 then classify as \"Positive\""
   ]
  },
  {
   "cell_type": "code",
   "execution_count": 45,
   "metadata": {},
   "outputs": [
    {
     "name": "stdout",
     "output_type": "stream",
     "text": [
      "['Positive', 'Positive', 'Negative', 'Positive', 'Positive', 'Positive', 'Neutral', 'Neutral', 'Negative', 'Positive', 'Neutral', 'Positive', 'Positive', 'Neutral', 'Negative', 'Negative', 'Neutral', 'Positive', 'Positive', 'Negative', 'Neutral', 'Positive', 'Negative', 'Positive', 'Positive', 'Positive', 'Positive', 'Positive', 'Positive', 'Positive', 'Negative', 'Positive', 'Negative', 'Positive', 'Neutral', 'Negative', 'Neutral', 'Positive', 'Negative', 'Negative', 'Positive', 'Neutral', 'Positive', 'Negative', 'Neutral', 'Negative', 'Positive', 'Positive', 'Positive', 'Negative', 'Neutral', 'Positive', 'Positive', 'Neutral', 'Negative', 'Neutral', 'Positive', 'Negative', 'Negative', 'Positive', 'Negative', 'Positive', 'Negative', 'Negative', 'Neutral', 'Neutral', 'Negative', 'Negative', 'Neutral', 'Negative', 'Negative', 'Neutral', 'Positive', 'Positive', 'Negative', 'Negative', 'Positive', 'Positive', 'Positive', 'Positive', 'Positive', 'Neutral', 'Positive', 'Positive', 'Neutral', 'Positive', 'Negative', 'Positive', 'Positive', 'Positive', 'Neutral', 'Negative', 'Positive', 'Neutral', 'Positive', 'Positive', 'Negative', 'Positive', 'Neutral']\n"
     ]
    }
   ],
   "source": [
    "#Illustration for classifying sentiment score to class label\n",
    "\n",
    "VADER_sentiment_category = []\n",
    "\n",
    "for score in VADER_review_sentiment:\n",
    "    if score <= -0.05:\n",
    "        VADER_sentiment_category.append('Negative')\n",
    "    \n",
    "    if score > -0.05 and score <= 0.05:\n",
    "        VADER_sentiment_category.append('Neutral')\n",
    "        \n",
    "    if score > 0.05:\n",
    "        VADER_sentiment_category.append('Positive')\n",
    "        \n",
    "\n",
    "print(VADER_sentiment_category)"
   ]
  },
  {
   "cell_type": "markdown",
   "metadata": {},
   "source": [
    "### Opinion Summary"
   ]
  },
  {
   "cell_type": "code",
   "execution_count": 46,
   "metadata": {},
   "outputs": [
    {
     "name": "stdout",
     "output_type": "stream",
     "text": [
      "Counter({'Positive': 48, 'Negative': 29, 'Neutral': 22})\n"
     ]
    }
   ],
   "source": [
    "from collections import Counter\n",
    "\n",
    "VADER_SentimentSummary = Counter(VADER_sentiment_category)\n",
    "print(VADER_SentimentSummary)"
   ]
  },
  {
   "cell_type": "code",
   "execution_count": 47,
   "metadata": {},
   "outputs": [
    {
     "data": {
      "text/plain": [
       "([<matplotlib.patches.Wedge at 0x2301051af10>,\n",
       "  <matplotlib.patches.Wedge at 0x23010524670>,\n",
       "  <matplotlib.patches.Wedge at 0x23010524bb0>],\n",
       " [Text(0.052340057528404794, 1.098754075477276, 'Positive'),\n",
       "  Text(-0.7463602824070158, -0.8080509444616223, 'Negative'),\n",
       "  Text(0.8426489499534077, -0.7070662961437348, 'Neutral')],\n",
       " [Text(0.028549122288220794, 0.5993204048057869, '48.5%'),\n",
       "  Text(-0.407105608585645, -0.4407550606154303, '29.3%'),\n",
       "  Text(0.45962669997458594, -0.3856725251693099, '22.2%')])"
      ]
     },
     "execution_count": 47,
     "metadata": {},
     "output_type": "execute_result"
    },
    {
     "data": {
      "image/png": "[encoded data removed]",
      "text/plain": [
       "<Figure size 432x288 with 1 Axes>"
      ]
     },
     "metadata": {},
     "output_type": "display_data"
    }
   ],
   "source": [
    "import matplotlib.pyplot as plt\n",
    "plt.pie([val for val in VADER_SentimentSummary.values()], labels=[cat for cat in VADER_SentimentSummary],\n",
    "           autopct='%1.1f%%')"
   ]
  },
  {
   "cell_type": "markdown",
   "metadata": {},
   "source": [
    "# Exporting Sentiment Scores and Category to Excel"
   ]
  },
  {
   "cell_type": "code",
   "execution_count": 50,
   "metadata": {
    "scrolled": true
   },
   "outputs": [],
   "source": [
    "from openpyxl import *\n",
    "\n",
    "file = load_workbook(\"C:/Users/Sharan/OneDrive - University of Missouri/Teaching/IIM Trichy - International Week/Winter 2021/Sessions/Dec 27 - Session 2/UA_Tweets_Small.xlsx\")\n",
    "sheet = file[\"Sheet1\"]\n",
    "\n",
    "sheet.cell(1,4).value = \"SentimentScore\"\n",
    "sheet.cell(1,5).value = \"SentimentCategory\"\n",
    "\n",
    "for row in range(2, 101):\n",
    "    sheet.cell(row,4).value = VADER_review_sentiment[row-2]\n",
    "    sheet.cell(row,5).value = VADER_sentiment_category[row-2]\n",
    "             \n",
    "file.save(\"C:/Users/Sharan/OneDrive - University of Missouri/Teaching/IIM Trichy - International Week/Winter 2021/Sessions/Dec 27 - Session 2/UA_Tweets_SmallOutput.xlsx\")"
   ]
  },
  {
   "cell_type": "markdown",
   "metadata": {},
   "source": [
    "# Visualizing Sentiment over Time"
   ]
  },
  {
   "cell_type": "code",
   "execution_count": 51,
   "metadata": {},
   "outputs": [
    {
     "name": "stdout",
     "output_type": "stream",
     "text": [
      "                     SentimentScore  Negative  Neutral  Positive\n",
      "DateTime                                                        \n",
      "2015-02-24 08:00:00          3.9469         3        4        10\n",
      "2015-02-24 09:00:00         -0.0788        12        7        10\n",
      "2015-02-24 10:00:00          6.4532         9        5        18\n",
      "2015-02-24 11:00:00          1.6979         5        6        10\n"
     ]
    },
    {
     "data": {
      "text/plain": [
       "([<matplotlib.axis.XTick at 0x2300bee7ee0>,\n",
       "  <matplotlib.axis.XTick at 0x2300bee7be0>,\n",
       "  <matplotlib.axis.XTick at 0x2300b35e340>,\n",
       "  <matplotlib.axis.XTick at 0x23010481100>],\n",
       " [Text(0.25, 0, '8AM'),\n",
       "  Text(1.25, 0, '9AM'),\n",
       "  Text(2.25, 0, '10AM'),\n",
       "  Text(3.25, 0, '11AM')])"
      ]
     },
     "execution_count": 51,
     "metadata": {},
     "output_type": "execute_result"
    },
    {
     "data": {
      "image/png": "[encoded data removed]",
      "text/plain": [
       "<Figure size 432x288 with 1 Axes>"
      ]
     },
     "metadata": {
      "needs_background": "light"
     },
     "output_type": "display_data"
    }
   ],
   "source": [
    "# Import required packages\n",
    "import pandas as pd\n",
    "import datetime\n",
    "import numpy as np\n",
    "\n",
    "#Extract Output Data\n",
    "UA_TweetData = pd.ExcelFile('UA_Tweets_SmallOutput.xlsx').parse('Sheet1')\n",
    "\n",
    "\n",
    "#Get one-hot encoding of SentimentCategory Column\n",
    "code_SentimentCategory = pd.get_dummies(UA_TweetData.SentimentCategory)\n",
    "\n",
    "# Drop column as it is now encoded\n",
    "UA_TweetData = UA_TweetData.drop('SentimentCategory',axis = 1)\n",
    "\n",
    "# Join the encoded df\n",
    "UA_TweetData = UA_TweetData.join(code_SentimentCategory)\n",
    "\n",
    "#Set Datetime as index\n",
    "UA_TweetData = UA_TweetData.set_index('DateTime')\n",
    "\n",
    "#Group By Time period (h for hour, d for day, m for months)\n",
    "Opinion_over_Time = UA_TweetData.resample('h').sum()\n",
    "\n",
    "print(Opinion_over_Time)\n",
    "import matplotlib.pyplot as plt\n",
    "\n",
    "X = np.arange(4)\n",
    "# Make the plot\n",
    "plt.bar(X + 0.00, Opinion_over_Time['Positive'], color='g', width=0.25, edgecolor='black', label='Positive')\n",
    "plt.bar(X + 0.25, Opinion_over_Time['Neutral'], color='b', width=0.25, edgecolor='black', label='Neutral')\n",
    "plt.bar(X + 0.50, Opinion_over_Time['Negative'], color='r', width=0.25, edgecolor='black', label='Negative')\n",
    "plt.legend()\n",
    "\n",
    "plt.xlabel('Hour of Day', fontweight='bold')\n",
    "plt.xticks([r + 0.25 for r in range(len(Opinion_over_Time['Positive']))], ['8AM', '9AM', '10AM', '11AM'])\n",
    "\n"
   ]
  },
  {
   "cell_type": "code",
   "execution_count": 52,
   "metadata": {},
   "outputs": [
    {
     "data": {
      "text/plain": [
       "[<matplotlib.lines.Line2D at 0x23010699af0>]"
      ]
     },
     "execution_count": 52,
     "metadata": {},
     "output_type": "execute_result"
    },
    {
     "data": {
      "text/plain": [
       "<Figure size 432x288 with 0 Axes>"
      ]
     },
     "metadata": {},
     "output_type": "display_data"
    },
    {
     "data": {
      "image/png": "[encoded data removed]",
      "text/plain": [
       "<Figure size 432x288 with 2 Axes>"
      ]
     },
     "metadata": {
      "needs_background": "light"
     },
     "output_type": "display_data"
    }
   ],
   "source": [
    "import matplotlib.pyplot as plt\n",
    "fig = plt.figure()\n",
    "fill_colors = ['g','b','r']\n",
    "ax = Opinion_over_Time[['Positive','Neutral','Negative']].plot(kind='bar', color = fill_colors, edgecolor = 'black',use_index=True)\n",
    "ax2 = ax.twinx()\n",
    "ax2.plot(Opinion_over_Time[['SentimentScore']].values, linestyle='-', marker='o', color = 'orange',linewidth=2.0)"
   ]
  }
 ],
 "metadata": {
  "kernelspec": {
   "display_name": "Python 3 (ipykernel)",
   "language": "python",
   "name": "python3"
  },
  "language_info": {
   "codemirror_mode": {
    "name": "ipython",
    "version": 3
   },
   "file_extension": ".py",
   "mimetype": "text/x-python",
   "name": "python",
   "nbconvert_exporter": "python",
   "pygments_lexer": "ipython3",
   "version": "3.9.7"
  }
 },
 "nbformat": 4,
 "nbformat_minor": 4
}
