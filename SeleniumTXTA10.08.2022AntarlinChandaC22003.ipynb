{
  "nbformat": 4,
  "nbformat_minor": 0,
  "metadata": {
    "colab": {
      "name": "TXTA10.05.2022AntarlinChandaC22003.ipynb",
      "provenance": [],
      "collapsed_sections": []
    },
    "kernelspec": {
      "name": "python3",
      "display_name": "Python 3"
    },
    "language_info": {
      "name": "python"
    }
  },
  "cells": [
    {
      "cell_type": "code",
      "execution_count": null,
      "metadata": {
        "colab": {
          "base_uri": "https://localhost:8080/"
        },
        "id": "UNRytD3Ol0Ks",
        "outputId": "40ba1ed7-8395-4982-b9fe-bdc96c86653a"
      },
      "outputs": [
        {
          "output_type": "stream",
          "name": "stdout",
          "text": [
            "\u001b[?25l\r\u001b[K     |█████▊                          | 10 kB 24.6 MB/s eta 0:00:01\r\u001b[K     |███████████▍                    | 20 kB 22.8 MB/s eta 0:00:01\r\u001b[K     |█████████████████               | 30 kB 12.8 MB/s eta 0:00:01\r\u001b[K     |██████████████████████▊         | 40 kB 4.8 MB/s eta 0:00:01\r\u001b[K     |████████████████████████████▍   | 51 kB 5.3 MB/s eta 0:00:01\r\u001b[K     |████████████████████████████████| 57 kB 2.7 MB/s \n",
            "\u001b[?25hLooking in indexes: https://pypi.org/simple, https://us-python.pkg.dev/colab-wheels/public/simple/\n",
            "Collecting selenium\n",
            "  Downloading selenium-4.4.0-py3-none-any.whl (985 kB)\n",
            "\u001b[K     |████████████████████████████████| 985 kB 4.7 MB/s \n",
            "\u001b[?25hCollecting urllib3[secure,socks]~=1.26\n",
            "  Downloading urllib3-1.26.11-py2.py3-none-any.whl (139 kB)\n",
            "\u001b[K     |████████████████████████████████| 139 kB 48.6 MB/s \n",
            "\u001b[?25hCollecting trio~=0.17\n",
            "  Downloading trio-0.21.0-py3-none-any.whl (358 kB)\n",
            "\u001b[K     |████████████████████████████████| 358 kB 49.0 MB/s \n",
            "\u001b[?25hCollecting trio-websocket~=0.9\n",
            "  Downloading trio_websocket-0.9.2-py3-none-any.whl (16 kB)\n",
            "Requirement already satisfied: attrs>=19.2.0 in /usr/local/lib/python3.7/dist-packages (from trio~=0.17->selenium) (22.1.0)\n",
            "Collecting sniffio\n",
            "  Downloading sniffio-1.2.0-py3-none-any.whl (10 kB)\n",
            "Collecting outcome\n",
            "  Downloading outcome-1.2.0-py2.py3-none-any.whl (9.7 kB)\n",
            "Requirement already satisfied: sortedcontainers in /usr/local/lib/python3.7/dist-packages (from trio~=0.17->selenium) (2.4.0)\n",
            "Requirement already satisfied: idna in /usr/local/lib/python3.7/dist-packages (from trio~=0.17->selenium) (2.10)\n",
            "Collecting async-generator>=1.9\n",
            "  Downloading async_generator-1.10-py3-none-any.whl (18 kB)\n",
            "Collecting wsproto>=0.14\n",
            "  Downloading wsproto-1.1.0-py3-none-any.whl (24 kB)\n",
            "Collecting cryptography>=1.3.4\n",
            "  Downloading cryptography-37.0.4-cp36-abi3-manylinux_2_24_x86_64.whl (4.1 MB)\n",
            "\u001b[K     |████████████████████████████████| 4.1 MB 34.4 MB/s \n",
            "\u001b[?25hRequirement already satisfied: certifi in /usr/local/lib/python3.7/dist-packages (from urllib3[secure,socks]~=1.26->selenium) (2022.6.15)\n",
            "Collecting pyOpenSSL>=0.14\n",
            "  Downloading pyOpenSSL-22.0.0-py2.py3-none-any.whl (55 kB)\n",
            "\u001b[K     |████████████████████████████████| 55 kB 3.6 MB/s \n",
            "\u001b[?25hRequirement already satisfied: PySocks!=1.5.7,<2.0,>=1.5.6 in /usr/local/lib/python3.7/dist-packages (from urllib3[secure,socks]~=1.26->selenium) (1.7.1)\n",
            "Requirement already satisfied: cffi>=1.12 in /usr/local/lib/python3.7/dist-packages (from cryptography>=1.3.4->urllib3[secure,socks]~=1.26->selenium) (1.15.1)\n",
            "Requirement already satisfied: pycparser in /usr/local/lib/python3.7/dist-packages (from cffi>=1.12->cryptography>=1.3.4->urllib3[secure,socks]~=1.26->selenium) (2.21)\n",
            "Collecting h11<1,>=0.9.0\n",
            "  Downloading h11-0.13.0-py3-none-any.whl (58 kB)\n",
            "\u001b[K     |████████████████████████████████| 58 kB 5.5 MB/s \n",
            "\u001b[?25hRequirement already satisfied: typing-extensions in /usr/local/lib/python3.7/dist-packages (from h11<1,>=0.9.0->wsproto>=0.14->trio-websocket~=0.9->selenium) (4.1.1)\n",
            "Installing collected packages: sniffio, outcome, h11, cryptography, async-generator, wsproto, urllib3, trio, pyOpenSSL, trio-websocket, selenium\n",
            "  Attempting uninstall: urllib3\n",
            "    Found existing installation: urllib3 1.24.3\n",
            "    Uninstalling urllib3-1.24.3:\n",
            "      Successfully uninstalled urllib3-1.24.3\n",
            "\u001b[31mERROR: pip's dependency resolver does not currently take into account all the packages that are installed. This behaviour is the source of the following dependency conflicts.\n",
            "requests 2.23.0 requires urllib3!=1.25.0,!=1.25.1,<1.26,>=1.21.1, but you have urllib3 1.26.11 which is incompatible.\u001b[0m\n",
            "Successfully installed async-generator-1.10 cryptography-37.0.4 h11-0.13.0 outcome-1.2.0 pyOpenSSL-22.0.0 selenium-4.4.0 sniffio-1.2.0 trio-0.21.0 trio-websocket-0.9.2 urllib3-1.26.11 wsproto-1.1.0\n"
          ]
        }
      ],
      "source": [
        "!pip install kora -q\n",
        "!pip install selenium"
      ]
    },
    {
      "cell_type": "code",
      "source": [
        "from kora.selenium import wd as browser\n",
        "from selenium.webdriver.common.by import By\n",
        "import pandas as pd\n",
        "import numpy as np\n",
        "import time"
      ],
      "metadata": {
        "id": "AgPUXgJqmXH9"
      },
      "execution_count": null,
      "outputs": []
    },
    {
      "cell_type": "code",
      "source": [
        "url = 'https://www.imdb.com/title/tt0468569/reviews?ref_=tt_urv'"
      ],
      "metadata": {
        "id": "sYMk7B6WnWPB"
      },
      "execution_count": null,
      "outputs": []
    },
    {
      "cell_type": "code",
      "source": [
        "browser.get(url)"
      ],
      "metadata": {
        "id": "ETGEWrv9oH70"
      },
      "execution_count": null,
      "outputs": []
    },
    {
      "cell_type": "code",
      "source": [
        "for _ in range(20):\n",
        "  browser.find_element(By.XPATH,\"//button[@class='ipl-load-more__button']\").click()\n",
        "  time.sleep(4)"
      ],
      "metadata": {
        "id": "NuxxGjHqpbzl"
      },
      "execution_count": null,
      "outputs": []
    },
    {
      "cell_type": "code",
      "source": [
        "xx = browser.find_elements(By.XPATH,\"//div[@class='expander-icon-wrapper show-more__control']\")\n",
        "len(xx)"
      ],
      "metadata": {
        "colab": {
          "base_uri": "https://localhost:8080/"
        },
        "id": "6cyxu7pBq60H",
        "outputId": "e4355f9e-7619-49c3-f7d6-e876df9f830d"
      },
      "execution_count": null,
      "outputs": [
        {
          "output_type": "execute_result",
          "data": {
            "text/plain": [
              "471"
            ]
          },
          "metadata": {},
          "execution_count": 30
        }
      ]
    },
    {
      "cell_type": "code",
      "source": [
        "yy = browser.find_elements(By.XPATH,\"//div[@class='expander-icon-wrapper spoiler-warning__control']\")\n",
        "len(yy)"
      ],
      "metadata": {
        "colab": {
          "base_uri": "https://localhost:8080/"
        },
        "id": "BguUwjqbspb_",
        "outputId": "7b2b5693-0cc7-4701-d299-ec380182fe1b"
      },
      "execution_count": null,
      "outputs": [
        {
          "output_type": "execute_result",
          "data": {
            "text/plain": [
              "152"
            ]
          },
          "metadata": {},
          "execution_count": 31
        }
      ]
    },
    {
      "cell_type": "code",
      "source": [
        "def click(p):\n",
        "  try:\n",
        "    p.click()\n",
        "  except:\n",
        "    pass"
      ],
      "metadata": {
        "id": "HPOloQoutwCJ"
      },
      "execution_count": null,
      "outputs": []
    },
    {
      "cell_type": "code",
      "source": [
        "d_x = [click(x) for x in xx]\n",
        "d_y = [click(y) for y in yy]"
      ],
      "metadata": {
        "id": "-1vpfZ8duDzB"
      },
      "execution_count": null,
      "outputs": []
    },
    {
      "cell_type": "code",
      "source": [
        "containers = [x.get_attribute('innerHTML') for x in browser.find_elements(By.XPATH,\"//div[@class='review-container']\")]"
      ],
      "metadata": {
        "id": "RUgZBtuDuevZ"
      },
      "execution_count": null,
      "outputs": []
    },
    {
      "cell_type": "code",
      "source": [
        "len(containers)"
      ],
      "metadata": {
        "colab": {
          "base_uri": "https://localhost:8080/"
        },
        "id": "b97_qpjnvpza",
        "outputId": "e5885f2d-6484-4025-af4d-1b61e014298b"
      },
      "execution_count": null,
      "outputs": [
        {
          "output_type": "execute_result",
          "data": {
            "text/plain": [
              "650"
            ]
          },
          "metadata": {},
          "execution_count": 35
        }
      ]
    },
    {
      "cell_type": "code",
      "source": [
        "containers[0]"
      ],
      "metadata": {
        "colab": {
          "base_uri": "https://localhost:8080/"
        },
        "id": "jNexjlKnwU67",
        "outputId": "d1f9cfe2-ea66-4929-b69c-22f25c43f8ae"
      },
      "execution_count": null,
      "outputs": [
        {
          "output_type": "execute_result",
          "data": {
            "text/plain": [
              "'\\n        <div class=\"lister-item-content\">\\n    <div class=\"ipl-ratings-bar\">\\n            <span class=\"rating-other-user-rating\">\\n            <svg class=\"ipl-icon ipl-star-icon  \" xmlns=\"http://www.w3.org/2000/svg\" fill=\"#000000\" height=\"24\" viewBox=\"0 0 24 24\" width=\"24\">\\n                <path d=\"M0 0h24v24H0z\" fill=\"none\"></path>\\n                <path d=\"M12 17.27L18.18 21l-1.64-7.03L22 9.24l-7.19-.61L12 2 9.19 8.63 2 9.24l5.46 4.73L5.82 21z\"></path>\\n                <path d=\"M0 0h24v24H0z\" fill=\"none\"></path>\\n            </svg>\\n                <span>10</span><span class=\"point-scale\">/10</span>\\n            </span>\\n    </div>\\n<a href=\"/review/rw5478826/?ref_=tt_urv\" class=\"title\"> The Dark Knight\\n</a>            <div class=\"display-name-date\">\\n                    <span class=\"display-name-link\"><a href=\"/user/ur87850731/?ref_=tt_urv\">MR_Heraclius</a></span><span class=\"review-date\">12 February 2020</span>\\n            </div>\\n            <div class=\"content\">\\n                <div class=\"text show-more__control\">Confidently directed, dark, brooding, and packed with impressive action sequences and a complex story, The Dark Knight includes a career-defining turn from Heath Ledger as well as other Oscar worthy performances, TDK remains not only the best Batman movie, but comic book movie ever created.</div>\\n                <div class=\"actions text-muted\">\\n                    470 out of 530 found this helpful.\\n                        <span>\\n                            Was this review helpful? <a href=\"/registration/signin?ref_=urv\"> Sign in</a> to vote.\\n                        </span>\\n                        <br>\\n                    <a href=\"/review/rw5478826/?ref_=tt_urv\">Permalink</a>\\n                </div>\\n            </div>\\n        </div>\\n        <div class=\"clear\"></div>\\n    '"
            ],
            "application/vnd.google.colaboratory.intrinsic+json": {
              "type": "string"
            }
          },
          "metadata": {},
          "execution_count": 36
        }
      ]
    },
    {
      "cell_type": "code",
      "source": [
        "from bs4 import BeautifulSoup\n",
        "import re"
      ],
      "metadata": {
        "id": "r7Xd7vetvwHO"
      },
      "execution_count": null,
      "outputs": []
    },
    {
      "cell_type": "code",
      "source": [
        "reviews = []\n",
        "ratings = []\n",
        "for container in containers[:10]:\n",
        "  bsObj = BeautifulSoup(container)\n",
        "  rev = bsObj.find('div',attrs={'class':'text show-more__control'}).text\n",
        "  reviews.append(rev)\n",
        "\n",
        "  try:\n",
        "    r = bsObj.find('span',attrs={'class':'rating-other-user-rating'}).text\n",
        "    print(r)\n",
        "    r = re.sub(\"\\\\n\",'',r)\n",
        "    print(r)\n",
        "    r = re.sub(\"/10\",'',r)\n",
        "    print(r)\n",
        "    ratings.append(float(r))\n",
        "  except:\n",
        "    ratings.append(np.nan)"
      ],
      "metadata": {
        "id": "3MuQL1Cov1r5",
        "colab": {
          "base_uri": "https://localhost:8080/"
        },
        "outputId": "df540dd4-f1ad-48ab-d41d-691093f0a9a8"
      },
      "execution_count": null,
      "outputs": [
        {
          "output_type": "stream",
          "name": "stdout",
          "text": [
            "\n",
            "\n",
            "\n",
            "\n",
            "\n",
            "\n",
            "10/10\n",
            "\n",
            "10/10\n",
            "10\n",
            "\n",
            "\n",
            "\n",
            "\n",
            "\n",
            "\n",
            "10/10\n",
            "\n",
            "10/10\n",
            "10\n",
            "\n",
            "\n",
            "\n",
            "\n",
            "\n",
            "\n",
            "10/10\n",
            "\n",
            "10/10\n",
            "10\n",
            "\n",
            "\n",
            "\n",
            "\n",
            "\n",
            "\n",
            "10/10\n",
            "\n",
            "10/10\n",
            "10\n",
            "\n",
            "\n",
            "\n",
            "\n",
            "\n",
            "\n",
            "10/10\n",
            "\n",
            "10/10\n",
            "10\n",
            "\n",
            "\n",
            "\n",
            "\n",
            "\n",
            "\n",
            "10/10\n",
            "\n",
            "10/10\n",
            "10\n",
            "\n",
            "\n",
            "\n",
            "\n",
            "\n",
            "\n",
            "9/10\n",
            "\n",
            "9/10\n",
            "9\n",
            "\n",
            "\n",
            "\n",
            "\n",
            "\n",
            "\n",
            "10/10\n",
            "\n",
            "10/10\n",
            "10\n",
            "\n",
            "\n",
            "\n",
            "\n",
            "\n",
            "\n",
            "10/10\n",
            "\n",
            "10/10\n",
            "10\n",
            "\n",
            "\n",
            "\n",
            "\n",
            "\n",
            "\n",
            "10/10\n",
            "\n",
            "10/10\n",
            "10\n"
          ]
        }
      ]
    },
    {
      "cell_type": "code",
      "source": [
        "df = pd.DataFrame(columns=['Reviews','Ratings'])\n",
        "df['Reviews'] = reviews\n",
        "df['Ratings'] = ratings\n",
        "\n",
        "df.shape"
      ],
      "metadata": {
        "colab": {
          "base_uri": "https://localhost:8080/"
        },
        "id": "pLQRXMcUyrlO",
        "outputId": "3fa97280-e987-4d00-debf-5d71a8f79a7f"
      },
      "execution_count": null,
      "outputs": [
        {
          "output_type": "execute_result",
          "data": {
            "text/plain": [
              "(10, 2)"
            ]
          },
          "metadata": {},
          "execution_count": 39
        }
      ]
    }
  ]
}