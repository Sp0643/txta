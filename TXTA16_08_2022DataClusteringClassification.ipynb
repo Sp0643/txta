{
  "nbformat": 4,
  "nbformat_minor": 0,
  "metadata": {
    "colab": {
      "name": "TXTA16.08.2022DataClusteringClassification.ipynb",
      "provenance": [],
      "collapsed_sections": []
    },
    "kernelspec": {
      "name": "python3",
      "display_name": "Python 3"
    },
    "language_info": {
      "name": "python"
    }
  },
  "cells": [
    {
      "cell_type": "code",
      "execution_count": 17,
      "metadata": {
        "id": "XMRTTcXHfYh0"
      },
      "outputs": [],
      "source": [
        "import pandas as pd\n",
        "import numpy as np"
      ]
    },
    {
      "cell_type": "code",
      "source": [
        "data=pd.read_csv('/content/sample_data/Movie_Compiled.csv')\n",
        "data.head()"
      ],
      "metadata": {
        "colab": {
          "base_uri": "https://localhost:8080/",
          "height": 206
        },
        "id": "dqrXL-D-fjE8",
        "outputId": "41aed344-a384-4110-a118-05cd155cf215"
      },
      "execution_count": 8,
      "outputs": [
        {
          "output_type": "execute_result",
          "data": {
            "text/plain": [
              "  Rating           Date                                              Title  \\\n",
              "0         12 April 2012  An Unstoppable Force of Awesomeness! All Hail ...   \n",
              "1         19 April 2012  They balanced everything masterfully. As Good ...   \n",
              "2   10.0  20 April 2012                  The Avengers assembled flawlessly   \n",
              "3    9.0  16 April 2012          LA Review of 'The Avengers' (No spoilers)   \n",
              "4   10.0    2 July 2017  Bad-ass descent-amazing superhero MCU action f...   \n",
              "\n",
              "                                              Review  \n",
              "0  I have got to tell anyone who will listen that...  \n",
              "1  If you're a fan of epic adventure movies, then...  \n",
              "2  I'm sorry to say The Avengers isn't a good mov...  \n",
              "3  LA Review of 'The Avengers' (No spoilers)\\r\\n\\...  \n",
              "4  Marvel's The Avengers (2012) is an awesome des...  "
            ],
            "text/html": [
              "\n",
              "  <div id=\"df-ede4ba4c-14d9-4895-8245-ef15cd2a6c50\">\n",
              "    <div class=\"colab-df-container\">\n",
              "      <div>\n",
              "<style scoped>\n",
              "    .dataframe tbody tr th:only-of-type {\n",
              "        vertical-align: middle;\n",
              "    }\n",
              "\n",
              "    .dataframe tbody tr th {\n",
              "        vertical-align: top;\n",
              "    }\n",
              "\n",
              "    .dataframe thead th {\n",
              "        text-align: right;\n",
              "    }\n",
              "</style>\n",
              "<table border=\"1\" class=\"dataframe\">\n",
              "  <thead>\n",
              "    <tr style=\"text-align: right;\">\n",
              "      <th></th>\n",
              "      <th>Rating</th>\n",
              "      <th>Date</th>\n",
              "      <th>Title</th>\n",
              "      <th>Review</th>\n",
              "    </tr>\n",
              "  </thead>\n",
              "  <tbody>\n",
              "    <tr>\n",
              "      <th>0</th>\n",
              "      <td></td>\n",
              "      <td>12 April 2012</td>\n",
              "      <td>An Unstoppable Force of Awesomeness! All Hail ...</td>\n",
              "      <td>I have got to tell anyone who will listen that...</td>\n",
              "    </tr>\n",
              "    <tr>\n",
              "      <th>1</th>\n",
              "      <td></td>\n",
              "      <td>19 April 2012</td>\n",
              "      <td>They balanced everything masterfully. As Good ...</td>\n",
              "      <td>If you're a fan of epic adventure movies, then...</td>\n",
              "    </tr>\n",
              "    <tr>\n",
              "      <th>2</th>\n",
              "      <td>10.0</td>\n",
              "      <td>20 April 2012</td>\n",
              "      <td>The Avengers assembled flawlessly</td>\n",
              "      <td>I'm sorry to say The Avengers isn't a good mov...</td>\n",
              "    </tr>\n",
              "    <tr>\n",
              "      <th>3</th>\n",
              "      <td>9.0</td>\n",
              "      <td>16 April 2012</td>\n",
              "      <td>LA Review of 'The Avengers' (No spoilers)</td>\n",
              "      <td>LA Review of 'The Avengers' (No spoilers)\\r\\n\\...</td>\n",
              "    </tr>\n",
              "    <tr>\n",
              "      <th>4</th>\n",
              "      <td>10.0</td>\n",
              "      <td>2 July 2017</td>\n",
              "      <td>Bad-ass descent-amazing superhero MCU action f...</td>\n",
              "      <td>Marvel's The Avengers (2012) is an awesome des...</td>\n",
              "    </tr>\n",
              "  </tbody>\n",
              "</table>\n",
              "</div>\n",
              "      <button class=\"colab-df-convert\" onclick=\"convertToInteractive('df-ede4ba4c-14d9-4895-8245-ef15cd2a6c50')\"\n",
              "              title=\"Convert this dataframe to an interactive table.\"\n",
              "              style=\"display:none;\">\n",
              "        \n",
              "  <svg xmlns=\"http://www.w3.org/2000/svg\" height=\"24px\"viewBox=\"0 0 24 24\"\n",
              "       width=\"24px\">\n",
              "    <path d=\"M0 0h24v24H0V0z\" fill=\"none\"/>\n",
              "    <path d=\"M18.56 5.44l.94 2.06.94-2.06 2.06-.94-2.06-.94-.94-2.06-.94 2.06-2.06.94zm-11 1L8.5 8.5l.94-2.06 2.06-.94-2.06-.94L8.5 2.5l-.94 2.06-2.06.94zm10 10l.94 2.06.94-2.06 2.06-.94-2.06-.94-.94-2.06-.94 2.06-2.06.94z\"/><path d=\"M17.41 7.96l-1.37-1.37c-.4-.4-.92-.59-1.43-.59-.52 0-1.04.2-1.43.59L10.3 9.45l-7.72 7.72c-.78.78-.78 2.05 0 2.83L4 21.41c.39.39.9.59 1.41.59.51 0 1.02-.2 1.41-.59l7.78-7.78 2.81-2.81c.8-.78.8-2.07 0-2.86zM5.41 20L4 18.59l7.72-7.72 1.47 1.35L5.41 20z\"/>\n",
              "  </svg>\n",
              "      </button>\n",
              "      \n",
              "  <style>\n",
              "    .colab-df-container {\n",
              "      display:flex;\n",
              "      flex-wrap:wrap;\n",
              "      gap: 12px;\n",
              "    }\n",
              "\n",
              "    .colab-df-convert {\n",
              "      background-color: #E8F0FE;\n",
              "      border: none;\n",
              "      border-radius: 50%;\n",
              "      cursor: pointer;\n",
              "      display: none;\n",
              "      fill: #1967D2;\n",
              "      height: 32px;\n",
              "      padding: 0 0 0 0;\n",
              "      width: 32px;\n",
              "    }\n",
              "\n",
              "    .colab-df-convert:hover {\n",
              "      background-color: #E2EBFA;\n",
              "      box-shadow: 0px 1px 2px rgba(60, 64, 67, 0.3), 0px 1px 3px 1px rgba(60, 64, 67, 0.15);\n",
              "      fill: #174EA6;\n",
              "    }\n",
              "\n",
              "    [theme=dark] .colab-df-convert {\n",
              "      background-color: #3B4455;\n",
              "      fill: #D2E3FC;\n",
              "    }\n",
              "\n",
              "    [theme=dark] .colab-df-convert:hover {\n",
              "      background-color: #434B5C;\n",
              "      box-shadow: 0px 1px 3px 1px rgba(0, 0, 0, 0.15);\n",
              "      filter: drop-shadow(0px 1px 2px rgba(0, 0, 0, 0.3));\n",
              "      fill: #FFFFFF;\n",
              "    }\n",
              "  </style>\n",
              "\n",
              "      <script>\n",
              "        const buttonEl =\n",
              "          document.querySelector('#df-ede4ba4c-14d9-4895-8245-ef15cd2a6c50 button.colab-df-convert');\n",
              "        buttonEl.style.display =\n",
              "          google.colab.kernel.accessAllowed ? 'block' : 'none';\n",
              "\n",
              "        async function convertToInteractive(key) {\n",
              "          const element = document.querySelector('#df-ede4ba4c-14d9-4895-8245-ef15cd2a6c50');\n",
              "          const dataTable =\n",
              "            await google.colab.kernel.invokeFunction('convertToInteractive',\n",
              "                                                     [key], {});\n",
              "          if (!dataTable) return;\n",
              "\n",
              "          const docLinkHtml = 'Like what you see? Visit the ' +\n",
              "            '<a target=\"_blank\" href=https://colab.research.google.com/notebooks/data_table.ipynb>data table notebook</a>'\n",
              "            + ' to learn more about interactive tables.';\n",
              "          element.innerHTML = '';\n",
              "          dataTable['output_type'] = 'display_data';\n",
              "          await google.colab.output.renderOutput(dataTable, element);\n",
              "          const docLink = document.createElement('div');\n",
              "          docLink.innerHTML = docLinkHtml;\n",
              "          element.appendChild(docLink);\n",
              "        }\n",
              "      </script>\n",
              "    </div>\n",
              "  </div>\n",
              "  "
            ]
          },
          "metadata": {},
          "execution_count": 8
        }
      ]
    },
    {
      "cell_type": "code",
      "source": [
        "#This is a sparse matrix\n",
        "#This is rating prediction for those that are missing\n",
        "from sklearn.decomposition import TruncatedSVD\n",
        "from sklearn.feature_extraction.text import TfidfVectorizer\n",
        "from sklearn.linear_model import LogisticRegression\n",
        "from sklearn.ensemble import GradientBoostingClassifier\n",
        "from sklearn.model_selection import train_test_split,cross_val_score\n",
        "from sklearn.metrics import cohen_kappa_score"
      ],
      "metadata": {
        "id": "NHMwr3V-fz4S"
      },
      "execution_count": 10,
      "outputs": []
    },
    {
      "cell_type": "code",
      "source": [
        "data_1 = data[~data['Review'].isnull()]\n",
        "data_1.shape"
      ],
      "metadata": {
        "colab": {
          "base_uri": "https://localhost:8080/"
        },
        "id": "m7U0kqNGh-ic",
        "outputId": "b8902624-7a77-46d1-f5bc-1d886a201e72"
      },
      "execution_count": 11,
      "outputs": [
        {
          "output_type": "execute_result",
          "data": {
            "text/plain": [
              "(4402, 4)"
            ]
          },
          "metadata": {},
          "execution_count": 11
        }
      ]
    },
    {
      "cell_type": "code",
      "source": [
        "data_1.info()"
      ],
      "metadata": {
        "colab": {
          "base_uri": "https://localhost:8080/"
        },
        "id": "F5Jvi44piolN",
        "outputId": "1bc06727-8179-4a52-f93e-de45682348ae"
      },
      "execution_count": 12,
      "outputs": [
        {
          "output_type": "stream",
          "name": "stdout",
          "text": [
            "<class 'pandas.core.frame.DataFrame'>\n",
            "Int64Index: 4402 entries, 0 to 4501\n",
            "Data columns (total 4 columns):\n",
            " #   Column  Non-Null Count  Dtype \n",
            "---  ------  --------------  ----- \n",
            " 0   Rating  4075 non-null   object\n",
            " 1   Date    4402 non-null   object\n",
            " 2   Title   4402 non-null   object\n",
            " 3   Review  4402 non-null   object\n",
            "dtypes: object(4)\n",
            "memory usage: 172.0+ KB\n"
          ]
        }
      ]
    },
    {
      "cell_type": "code",
      "source": [
        "data_1.Rating.value_counts()"
      ],
      "metadata": {
        "colab": {
          "base_uri": "https://localhost:8080/"
        },
        "id": "4vMAW1bZioi8",
        "outputId": "97563083-2eb7-48c6-a525-50c0f6ef9cbd"
      },
      "execution_count": 13,
      "outputs": [
        {
          "output_type": "execute_result",
          "data": {
            "text/plain": [
              "10.0    1143\n",
              "1.0      719\n",
              "9.0      428\n",
              "8.0      301\n",
              "7.0      288\n",
              "6.0      252\n",
              "5.0      232\n",
              "3.0      225\n",
              "2.0      218\n",
              "4.0      202\n",
              "          67\n",
              "Name: Rating, dtype: int64"
            ]
          },
          "metadata": {},
          "execution_count": 13
        }
      ]
    },
    {
      "cell_type": "code",
      "source": [
        "data_2=data_1.replace(' ',np.nan)\n",
        "data_2.head()"
      ],
      "metadata": {
        "colab": {
          "base_uri": "https://localhost:8080/",
          "height": 206
        },
        "id": "Z40FWNFRiogl",
        "outputId": "a2df7578-a2eb-4402-ce3b-48a0014b1db1"
      },
      "execution_count": 26,
      "outputs": [
        {
          "output_type": "execute_result",
          "data": {
            "text/plain": [
              "  Rating           Date                                              Title  \\\n",
              "0    NaN  12 April 2012  An Unstoppable Force of Awesomeness! All Hail ...   \n",
              "1    NaN  19 April 2012  They balanced everything masterfully. As Good ...   \n",
              "2   10.0  20 April 2012                  The Avengers assembled flawlessly   \n",
              "3    9.0  16 April 2012          LA Review of 'The Avengers' (No spoilers)   \n",
              "4   10.0    2 July 2017  Bad-ass descent-amazing superhero MCU action f...   \n",
              "\n",
              "                                              Review  \n",
              "0  I have got to tell anyone who will listen that...  \n",
              "1  If you're a fan of epic adventure movies, then...  \n",
              "2  I'm sorry to say The Avengers isn't a good mov...  \n",
              "3  LA Review of 'The Avengers' (No spoilers)\\r\\n\\...  \n",
              "4  Marvel's The Avengers (2012) is an awesome des...  "
            ],
            "text/html": [
              "\n",
              "  <div id=\"df-8e8087b1-bde4-458e-ac2e-6cf682a7c33f\">\n",
              "    <div class=\"colab-df-container\">\n",
              "      <div>\n",
              "<style scoped>\n",
              "    .dataframe tbody tr th:only-of-type {\n",
              "        vertical-align: middle;\n",
              "    }\n",
              "\n",
              "    .dataframe tbody tr th {\n",
              "        vertical-align: top;\n",
              "    }\n",
              "\n",
              "    .dataframe thead th {\n",
              "        text-align: right;\n",
              "    }\n",
              "</style>\n",
              "<table border=\"1\" class=\"dataframe\">\n",
              "  <thead>\n",
              "    <tr style=\"text-align: right;\">\n",
              "      <th></th>\n",
              "      <th>Rating</th>\n",
              "      <th>Date</th>\n",
              "      <th>Title</th>\n",
              "      <th>Review</th>\n",
              "    </tr>\n",
              "  </thead>\n",
              "  <tbody>\n",
              "    <tr>\n",
              "      <th>0</th>\n",
              "      <td>NaN</td>\n",
              "      <td>12 April 2012</td>\n",
              "      <td>An Unstoppable Force of Awesomeness! All Hail ...</td>\n",
              "      <td>I have got to tell anyone who will listen that...</td>\n",
              "    </tr>\n",
              "    <tr>\n",
              "      <th>1</th>\n",
              "      <td>NaN</td>\n",
              "      <td>19 April 2012</td>\n",
              "      <td>They balanced everything masterfully. As Good ...</td>\n",
              "      <td>If you're a fan of epic adventure movies, then...</td>\n",
              "    </tr>\n",
              "    <tr>\n",
              "      <th>2</th>\n",
              "      <td>10.0</td>\n",
              "      <td>20 April 2012</td>\n",
              "      <td>The Avengers assembled flawlessly</td>\n",
              "      <td>I'm sorry to say The Avengers isn't a good mov...</td>\n",
              "    </tr>\n",
              "    <tr>\n",
              "      <th>3</th>\n",
              "      <td>9.0</td>\n",
              "      <td>16 April 2012</td>\n",
              "      <td>LA Review of 'The Avengers' (No spoilers)</td>\n",
              "      <td>LA Review of 'The Avengers' (No spoilers)\\r\\n\\...</td>\n",
              "    </tr>\n",
              "    <tr>\n",
              "      <th>4</th>\n",
              "      <td>10.0</td>\n",
              "      <td>2 July 2017</td>\n",
              "      <td>Bad-ass descent-amazing superhero MCU action f...</td>\n",
              "      <td>Marvel's The Avengers (2012) is an awesome des...</td>\n",
              "    </tr>\n",
              "  </tbody>\n",
              "</table>\n",
              "</div>\n",
              "      <button class=\"colab-df-convert\" onclick=\"convertToInteractive('df-8e8087b1-bde4-458e-ac2e-6cf682a7c33f')\"\n",
              "              title=\"Convert this dataframe to an interactive table.\"\n",
              "              style=\"display:none;\">\n",
              "        \n",
              "  <svg xmlns=\"http://www.w3.org/2000/svg\" height=\"24px\"viewBox=\"0 0 24 24\"\n",
              "       width=\"24px\">\n",
              "    <path d=\"M0 0h24v24H0V0z\" fill=\"none\"/>\n",
              "    <path d=\"M18.56 5.44l.94 2.06.94-2.06 2.06-.94-2.06-.94-.94-2.06-.94 2.06-2.06.94zm-11 1L8.5 8.5l.94-2.06 2.06-.94-2.06-.94L8.5 2.5l-.94 2.06-2.06.94zm10 10l.94 2.06.94-2.06 2.06-.94-2.06-.94-.94-2.06-.94 2.06-2.06.94z\"/><path d=\"M17.41 7.96l-1.37-1.37c-.4-.4-.92-.59-1.43-.59-.52 0-1.04.2-1.43.59L10.3 9.45l-7.72 7.72c-.78.78-.78 2.05 0 2.83L4 21.41c.39.39.9.59 1.41.59.51 0 1.02-.2 1.41-.59l7.78-7.78 2.81-2.81c.8-.78.8-2.07 0-2.86zM5.41 20L4 18.59l7.72-7.72 1.47 1.35L5.41 20z\"/>\n",
              "  </svg>\n",
              "      </button>\n",
              "      \n",
              "  <style>\n",
              "    .colab-df-container {\n",
              "      display:flex;\n",
              "      flex-wrap:wrap;\n",
              "      gap: 12px;\n",
              "    }\n",
              "\n",
              "    .colab-df-convert {\n",
              "      background-color: #E8F0FE;\n",
              "      border: none;\n",
              "      border-radius: 50%;\n",
              "      cursor: pointer;\n",
              "      display: none;\n",
              "      fill: #1967D2;\n",
              "      height: 32px;\n",
              "      padding: 0 0 0 0;\n",
              "      width: 32px;\n",
              "    }\n",
              "\n",
              "    .colab-df-convert:hover {\n",
              "      background-color: #E2EBFA;\n",
              "      box-shadow: 0px 1px 2px rgba(60, 64, 67, 0.3), 0px 1px 3px 1px rgba(60, 64, 67, 0.15);\n",
              "      fill: #174EA6;\n",
              "    }\n",
              "\n",
              "    [theme=dark] .colab-df-convert {\n",
              "      background-color: #3B4455;\n",
              "      fill: #D2E3FC;\n",
              "    }\n",
              "\n",
              "    [theme=dark] .colab-df-convert:hover {\n",
              "      background-color: #434B5C;\n",
              "      box-shadow: 0px 1px 3px 1px rgba(0, 0, 0, 0.15);\n",
              "      filter: drop-shadow(0px 1px 2px rgba(0, 0, 0, 0.3));\n",
              "      fill: #FFFFFF;\n",
              "    }\n",
              "  </style>\n",
              "\n",
              "      <script>\n",
              "        const buttonEl =\n",
              "          document.querySelector('#df-8e8087b1-bde4-458e-ac2e-6cf682a7c33f button.colab-df-convert');\n",
              "        buttonEl.style.display =\n",
              "          google.colab.kernel.accessAllowed ? 'block' : 'none';\n",
              "\n",
              "        async function convertToInteractive(key) {\n",
              "          const element = document.querySelector('#df-8e8087b1-bde4-458e-ac2e-6cf682a7c33f');\n",
              "          const dataTable =\n",
              "            await google.colab.kernel.invokeFunction('convertToInteractive',\n",
              "                                                     [key], {});\n",
              "          if (!dataTable) return;\n",
              "\n",
              "          const docLinkHtml = 'Like what you see? Visit the ' +\n",
              "            '<a target=\"_blank\" href=https://colab.research.google.com/notebooks/data_table.ipynb>data table notebook</a>'\n",
              "            + ' to learn more about interactive tables.';\n",
              "          element.innerHTML = '';\n",
              "          dataTable['output_type'] = 'display_data';\n",
              "          await google.colab.output.renderOutput(dataTable, element);\n",
              "          const docLink = document.createElement('div');\n",
              "          docLink.innerHTML = docLinkHtml;\n",
              "          element.appendChild(docLink);\n",
              "        }\n",
              "      </script>\n",
              "    </div>\n",
              "  </div>\n",
              "  "
            ]
          },
          "metadata": {},
          "execution_count": 26
        }
      ]
    },
    {
      "cell_type": "code",
      "source": [
        "data_2[\"Rating\"]=data_2[\"Rating\"].astype(float)\n",
        "data_2.info()"
      ],
      "metadata": {
        "colab": {
          "base_uri": "https://localhost:8080/"
        },
        "id": "ZyKX0FOzioeD",
        "outputId": "2eb7fd9c-fa28-476f-9e66-210bc79f1f85"
      },
      "execution_count": 27,
      "outputs": [
        {
          "output_type": "stream",
          "name": "stdout",
          "text": [
            "<class 'pandas.core.frame.DataFrame'>\n",
            "Int64Index: 4402 entries, 0 to 4501\n",
            "Data columns (total 4 columns):\n",
            " #   Column  Non-Null Count  Dtype  \n",
            "---  ------  --------------  -----  \n",
            " 0   Rating  4008 non-null   float64\n",
            " 1   Date    4402 non-null   object \n",
            " 2   Title   4402 non-null   object \n",
            " 3   Review  4402 non-null   object \n",
            "dtypes: float64(1), object(3)\n",
            "memory usage: 172.0+ KB\n"
          ]
        }
      ]
    },
    {
      "cell_type": "code",
      "source": [
        "train_data=data_2[~data_2['Rating'].isnull()]\n",
        "test_data=data_2[data_2['Rating'].isnull()]"
      ],
      "metadata": {
        "id": "ZmNPDYFukLps"
      },
      "execution_count": 35,
      "outputs": []
    },
    {
      "cell_type": "code",
      "source": [
        "(train_data.shape,test_data.shape)"
      ],
      "metadata": {
        "colab": {
          "base_uri": "https://localhost:8080/"
        },
        "id": "_nTzoEpGkywF",
        "outputId": "2c5d20a1-0265-49de-eda5-12ae92724615"
      },
      "execution_count": 36,
      "outputs": [
        {
          "output_type": "execute_result",
          "data": {
            "text/plain": [
              "((4008, 4), (394, 4))"
            ]
          },
          "metadata": {},
          "execution_count": 36
        }
      ]
    },
    {
      "cell_type": "code",
      "source": [
        "train_data"
      ],
      "metadata": {
        "colab": {
          "base_uri": "https://localhost:8080/",
          "height": 424
        },
        "id": "klskdzgAmMZJ",
        "outputId": "1f79a65c-6f59-4e66-8908-1023d11ed00f"
      },
      "execution_count": 37,
      "outputs": [
        {
          "output_type": "execute_result",
          "data": {
            "text/plain": [
              "      Rating            Date  \\\n",
              "2       10.0   20 April 2012   \n",
              "3        9.0   16 April 2012   \n",
              "4       10.0     2 July 2017   \n",
              "6       10.0   15 April 2012   \n",
              "8        9.0   14 April 2012   \n",
              "...      ...             ...   \n",
              "4496    10.0  17 August 2005   \n",
              "4498     9.0    25 June 2004   \n",
              "4499    10.0     1 June 2004   \n",
              "4500     9.0   25 April 2004   \n",
              "4501    10.0   13 March 2004   \n",
              "\n",
              "                                                  Title  \\\n",
              "2                     The Avengers assembled flawlessly   \n",
              "3             LA Review of 'The Avengers' (No spoilers)   \n",
              "4     Bad-ass descent-amazing superhero MCU action f...   \n",
              "6                                 A Comic Book Triumph!   \n",
              "8                              Nothing Short of Amazing   \n",
              "...                                                 ...   \n",
              "4496                                     A little story   \n",
              "4498               Great characters in a fun adventure!   \n",
              "4499  \"We are definitely the weirdest tribe I've eve...   \n",
              "4500                              This was a cool movie   \n",
              "4501    Heartwarming. Brilliant animation & characters.   \n",
              "\n",
              "                                                 Review  \n",
              "2     I'm sorry to say The Avengers isn't a good mov...  \n",
              "3     LA Review of 'The Avengers' (No spoilers)\\r\\n\\...  \n",
              "4     Marvel's The Avengers (2012) is an awesome des...  \n",
              "6     I was lucky enough to be included in the group...  \n",
              "8     I just saw the early screening for San Diego t...  \n",
              "...                                                 ...  \n",
              "4496  After an attack by a pack of saber-toothed cat...  \n",
              "4498  \"Ice Age\" gives us a sabertooth tiger, a sloth...  \n",
              "4499  Ice Age was a very entertaining movie, with br...  \n",
              "4500  Ice Age, thats a good title. I was very confus...  \n",
              "4501  While most 3D films (\"Toy Story\", \"Shrek\" for ...  \n",
              "\n",
              "[4008 rows x 4 columns]"
            ],
            "text/html": [
              "\n",
              "  <div id=\"df-ea354cd6-0396-42d8-b2e7-3ec50cdfdfbd\">\n",
              "    <div class=\"colab-df-container\">\n",
              "      <div>\n",
              "<style scoped>\n",
              "    .dataframe tbody tr th:only-of-type {\n",
              "        vertical-align: middle;\n",
              "    }\n",
              "\n",
              "    .dataframe tbody tr th {\n",
              "        vertical-align: top;\n",
              "    }\n",
              "\n",
              "    .dataframe thead th {\n",
              "        text-align: right;\n",
              "    }\n",
              "</style>\n",
              "<table border=\"1\" class=\"dataframe\">\n",
              "  <thead>\n",
              "    <tr style=\"text-align: right;\">\n",
              "      <th></th>\n",
              "      <th>Rating</th>\n",
              "      <th>Date</th>\n",
              "      <th>Title</th>\n",
              "      <th>Review</th>\n",
              "    </tr>\n",
              "  </thead>\n",
              "  <tbody>\n",
              "    <tr>\n",
              "      <th>2</th>\n",
              "      <td>10.0</td>\n",
              "      <td>20 April 2012</td>\n",
              "      <td>The Avengers assembled flawlessly</td>\n",
              "      <td>I'm sorry to say The Avengers isn't a good mov...</td>\n",
              "    </tr>\n",
              "    <tr>\n",
              "      <th>3</th>\n",
              "      <td>9.0</td>\n",
              "      <td>16 April 2012</td>\n",
              "      <td>LA Review of 'The Avengers' (No spoilers)</td>\n",
              "      <td>LA Review of 'The Avengers' (No spoilers)\\r\\n\\...</td>\n",
              "    </tr>\n",
              "    <tr>\n",
              "      <th>4</th>\n",
              "      <td>10.0</td>\n",
              "      <td>2 July 2017</td>\n",
              "      <td>Bad-ass descent-amazing superhero MCU action f...</td>\n",
              "      <td>Marvel's The Avengers (2012) is an awesome des...</td>\n",
              "    </tr>\n",
              "    <tr>\n",
              "      <th>6</th>\n",
              "      <td>10.0</td>\n",
              "      <td>15 April 2012</td>\n",
              "      <td>A Comic Book Triumph!</td>\n",
              "      <td>I was lucky enough to be included in the group...</td>\n",
              "    </tr>\n",
              "    <tr>\n",
              "      <th>8</th>\n",
              "      <td>9.0</td>\n",
              "      <td>14 April 2012</td>\n",
              "      <td>Nothing Short of Amazing</td>\n",
              "      <td>I just saw the early screening for San Diego t...</td>\n",
              "    </tr>\n",
              "    <tr>\n",
              "      <th>...</th>\n",
              "      <td>...</td>\n",
              "      <td>...</td>\n",
              "      <td>...</td>\n",
              "      <td>...</td>\n",
              "    </tr>\n",
              "    <tr>\n",
              "      <th>4496</th>\n",
              "      <td>10.0</td>\n",
              "      <td>17 August 2005</td>\n",
              "      <td>A little story</td>\n",
              "      <td>After an attack by a pack of saber-toothed cat...</td>\n",
              "    </tr>\n",
              "    <tr>\n",
              "      <th>4498</th>\n",
              "      <td>9.0</td>\n",
              "      <td>25 June 2004</td>\n",
              "      <td>Great characters in a fun adventure!</td>\n",
              "      <td>\"Ice Age\" gives us a sabertooth tiger, a sloth...</td>\n",
              "    </tr>\n",
              "    <tr>\n",
              "      <th>4499</th>\n",
              "      <td>10.0</td>\n",
              "      <td>1 June 2004</td>\n",
              "      <td>\"We are definitely the weirdest tribe I've eve...</td>\n",
              "      <td>Ice Age was a very entertaining movie, with br...</td>\n",
              "    </tr>\n",
              "    <tr>\n",
              "      <th>4500</th>\n",
              "      <td>9.0</td>\n",
              "      <td>25 April 2004</td>\n",
              "      <td>This was a cool movie</td>\n",
              "      <td>Ice Age, thats a good title. I was very confus...</td>\n",
              "    </tr>\n",
              "    <tr>\n",
              "      <th>4501</th>\n",
              "      <td>10.0</td>\n",
              "      <td>13 March 2004</td>\n",
              "      <td>Heartwarming. Brilliant animation &amp; characters.</td>\n",
              "      <td>While most 3D films (\"Toy Story\", \"Shrek\" for ...</td>\n",
              "    </tr>\n",
              "  </tbody>\n",
              "</table>\n",
              "<p>4008 rows × 4 columns</p>\n",
              "</div>\n",
              "      <button class=\"colab-df-convert\" onclick=\"convertToInteractive('df-ea354cd6-0396-42d8-b2e7-3ec50cdfdfbd')\"\n",
              "              title=\"Convert this dataframe to an interactive table.\"\n",
              "              style=\"display:none;\">\n",
              "        \n",
              "  <svg xmlns=\"http://www.w3.org/2000/svg\" height=\"24px\"viewBox=\"0 0 24 24\"\n",
              "       width=\"24px\">\n",
              "    <path d=\"M0 0h24v24H0V0z\" fill=\"none\"/>\n",
              "    <path d=\"M18.56 5.44l.94 2.06.94-2.06 2.06-.94-2.06-.94-.94-2.06-.94 2.06-2.06.94zm-11 1L8.5 8.5l.94-2.06 2.06-.94-2.06-.94L8.5 2.5l-.94 2.06-2.06.94zm10 10l.94 2.06.94-2.06 2.06-.94-2.06-.94-.94-2.06-.94 2.06-2.06.94z\"/><path d=\"M17.41 7.96l-1.37-1.37c-.4-.4-.92-.59-1.43-.59-.52 0-1.04.2-1.43.59L10.3 9.45l-7.72 7.72c-.78.78-.78 2.05 0 2.83L4 21.41c.39.39.9.59 1.41.59.51 0 1.02-.2 1.41-.59l7.78-7.78 2.81-2.81c.8-.78.8-2.07 0-2.86zM5.41 20L4 18.59l7.72-7.72 1.47 1.35L5.41 20z\"/>\n",
              "  </svg>\n",
              "      </button>\n",
              "      \n",
              "  <style>\n",
              "    .colab-df-container {\n",
              "      display:flex;\n",
              "      flex-wrap:wrap;\n",
              "      gap: 12px;\n",
              "    }\n",
              "\n",
              "    .colab-df-convert {\n",
              "      background-color: #E8F0FE;\n",
              "      border: none;\n",
              "      border-radius: 50%;\n",
              "      cursor: pointer;\n",
              "      display: none;\n",
              "      fill: #1967D2;\n",
              "      height: 32px;\n",
              "      padding: 0 0 0 0;\n",
              "      width: 32px;\n",
              "    }\n",
              "\n",
              "    .colab-df-convert:hover {\n",
              "      background-color: #E2EBFA;\n",
              "      box-shadow: 0px 1px 2px rgba(60, 64, 67, 0.3), 0px 1px 3px 1px rgba(60, 64, 67, 0.15);\n",
              "      fill: #174EA6;\n",
              "    }\n",
              "\n",
              "    [theme=dark] .colab-df-convert {\n",
              "      background-color: #3B4455;\n",
              "      fill: #D2E3FC;\n",
              "    }\n",
              "\n",
              "    [theme=dark] .colab-df-convert:hover {\n",
              "      background-color: #434B5C;\n",
              "      box-shadow: 0px 1px 3px 1px rgba(0, 0, 0, 0.15);\n",
              "      filter: drop-shadow(0px 1px 2px rgba(0, 0, 0, 0.3));\n",
              "      fill: #FFFFFF;\n",
              "    }\n",
              "  </style>\n",
              "\n",
              "      <script>\n",
              "        const buttonEl =\n",
              "          document.querySelector('#df-ea354cd6-0396-42d8-b2e7-3ec50cdfdfbd button.colab-df-convert');\n",
              "        buttonEl.style.display =\n",
              "          google.colab.kernel.accessAllowed ? 'block' : 'none';\n",
              "\n",
              "        async function convertToInteractive(key) {\n",
              "          const element = document.querySelector('#df-ea354cd6-0396-42d8-b2e7-3ec50cdfdfbd');\n",
              "          const dataTable =\n",
              "            await google.colab.kernel.invokeFunction('convertToInteractive',\n",
              "                                                     [key], {});\n",
              "          if (!dataTable) return;\n",
              "\n",
              "          const docLinkHtml = 'Like what you see? Visit the ' +\n",
              "            '<a target=\"_blank\" href=https://colab.research.google.com/notebooks/data_table.ipynb>data table notebook</a>'\n",
              "            + ' to learn more about interactive tables.';\n",
              "          element.innerHTML = '';\n",
              "          dataTable['output_type'] = 'display_data';\n",
              "          await google.colab.output.renderOutput(dataTable, element);\n",
              "          const docLink = document.createElement('div');\n",
              "          docLink.innerHTML = docLinkHtml;\n",
              "          element.appendChild(docLink);\n",
              "        }\n",
              "      </script>\n",
              "    </div>\n",
              "  </div>\n",
              "  "
            ]
          },
          "metadata": {},
          "execution_count": 37
        }
      ]
    },
    {
      "cell_type": "code",
      "source": [
        "x_train, x_val, y_train, y_val = train_test_split(train_data.iloc[:,1:], train_data.iloc[:,0], test_size = 0.4, random_state= 123456)"
      ],
      "metadata": {
        "id": "Z75Gjvwjkyqs"
      },
      "execution_count": 33,
      "outputs": []
    },
    {
      "cell_type": "code",
      "source": [
        "from wordcloud import STOPWORDS"
      ],
      "metadata": {
        "id": "DlECBE0jnB8d"
      },
      "execution_count": 39,
      "outputs": []
    },
    {
      "cell_type": "code",
      "source": [
        "tfidf= TfidfVectorizer(stop_words=STOPWORDS,token_pattern=\"[a-z']+\",max_df=0.55,min_df=10)"
      ],
      "metadata": {
        "id": "wT8aUxVNltvu"
      },
      "execution_count": 40,
      "outputs": []
    },
    {
      "cell_type": "code",
      "source": [
        "tfidf_mat_train=tfidf.fit_transform(x_train['Review'])\n",
        "tfidf_mat_val=tfidf.transform(x_val['Review'])\n",
        "tfidf_mat_test=tfidf.transform(test_data['Review'])"
      ],
      "metadata": {
        "id": "akZhXMP_nIGx"
      },
      "execution_count": 41,
      "outputs": []
    },
    {
      "cell_type": "code",
      "source": [
        "tfidf_mat_train.shape"
      ],
      "metadata": {
        "colab": {
          "base_uri": "https://localhost:8080/"
        },
        "id": "m9tYxB8LnIEc",
        "outputId": "08b638cf-e20b-4fd7-d007-b42a7350c89c"
      },
      "execution_count": 42,
      "outputs": [
        {
          "output_type": "execute_result",
          "data": {
            "text/plain": [
              "(2404, 3657)"
            ]
          },
          "metadata": {},
          "execution_count": 42
        }
      ]
    },
    {
      "cell_type": "code",
      "source": [
        "lr_model_1=LogisticRegression()\n",
        "lr_model_1.fit(X=tfidf_mat_train,y=y_train)"
      ],
      "metadata": {
        "colab": {
          "base_uri": "https://localhost:8080/"
        },
        "id": "V0vkFkBjnICX",
        "outputId": "dd7f1999-eb4c-407e-def3-6bf953cc8422"
      },
      "execution_count": 46,
      "outputs": [
        {
          "output_type": "execute_result",
          "data": {
            "text/plain": [
              "LogisticRegression()"
            ]
          },
          "metadata": {},
          "execution_count": 46
        }
      ]
    },
    {
      "cell_type": "code",
      "source": [
        "pred_val_lr=lr_model_1.predict(tfidf_mat_val)\n",
        "cohen_kappa_score(pred_val_lr,y_val)"
      ],
      "metadata": {
        "colab": {
          "base_uri": "https://localhost:8080/"
        },
        "id": "zNOqWXaCnIAJ",
        "outputId": "93f6f8d4-a8f9-4279-ffa1-6bd55d36d4b3"
      },
      "execution_count": 47,
      "outputs": [
        {
          "output_type": "execute_result",
          "data": {
            "text/plain": [
              "0.2431569431210462"
            ]
          },
          "metadata": {},
          "execution_count": 47
        }
      ]
    },
    {
      "cell_type": "code",
      "source": [
        "N=150\n",
        "svd=TruncatedSVD(n_components=N)\n",
        "svd_mat_train=svd.fit_transform(tfidf_mat_train)\n",
        "svd_mat_val=svd.transform(tfidf_mat_val)\n",
        "svd_mat_test=svd.transform(tfidf_mat_test)"
      ],
      "metadata": {
        "id": "wiCopFvvnH9S"
      },
      "execution_count": 50,
      "outputs": []
    },
    {
      "cell_type": "code",
      "source": [
        "lr_model_2=LogisticRegression()\n",
        "lr_model_2.fit(X=svd_mat_train,y=y_train)\n",
        "pred_val_lr2=lr_model_2.predict(svd_mat_val)\n",
        "cohen_kappa_score(pred_val_lr2,y_val)"
      ],
      "metadata": {
        "colab": {
          "base_uri": "https://localhost:8080/"
        },
        "id": "koQUYZGDqFni",
        "outputId": "6bb2c4bb-4d92-4708-debd-f8a986d53cc5"
      },
      "execution_count": 51,
      "outputs": [
        {
          "output_type": "execute_result",
          "data": {
            "text/plain": [
              "0.2492717895322457"
            ]
          },
          "metadata": {},
          "execution_count": 51
        }
      ]
    },
    {
      "cell_type": "code",
      "source": [
        "gbm=GradientBoostingClassifier(learning_rate=0.01,n_estimators=2000,max_depth=1)"
      ],
      "metadata": {
        "id": "JE8CJhOCqwpo"
      },
      "execution_count": 52,
      "outputs": []
    },
    {
      "cell_type": "code",
      "source": [
        "gbm_1=gbm.fit(X=svd_mat_train,y=y_train)\n",
        "pred_val_gbm1=gbm_1.predict(svd_mat_val)\n",
        "cohen_kappa_score(pred_val_gbm1,y_val)"
      ],
      "metadata": {
        "colab": {
          "base_uri": "https://localhost:8080/"
        },
        "id": "6bnLOKcTqwns",
        "outputId": "31cff769-52c1-49a2-efc0-41ce2e0d2a49"
      },
      "execution_count": 53,
      "outputs": [
        {
          "output_type": "execute_result",
          "data": {
            "text/plain": [
              "0.24227467461597363"
            ]
          },
          "metadata": {},
          "execution_count": 53
        }
      ]
    },
    {
      "cell_type": "code",
      "source": [
        "svd_new=TruncatedSVD(n_components=150)"
      ],
      "metadata": {
        "id": "YCmPyUGoqwlH"
      },
      "execution_count": 54,
      "outputs": []
    },
    {
      "cell_type": "code",
      "source": [
        "word_vec=svd_new.fit_transform(tfidf_mat_train.T)"
      ],
      "metadata": {
        "id": "aZPzpFxaqwi-"
      },
      "execution_count": 55,
      "outputs": []
    },
    {
      "cell_type": "code",
      "source": [
        "word_vec.shape"
      ],
      "metadata": {
        "colab": {
          "base_uri": "https://localhost:8080/"
        },
        "id": "7Tc5GfL3vwnr",
        "outputId": "84ff919d-e514-48e9-f049-2746c82c5a6a"
      },
      "execution_count": 56,
      "outputs": [
        {
          "output_type": "execute_result",
          "data": {
            "text/plain": [
              "(3657, 150)"
            ]
          },
          "metadata": {},
          "execution_count": 56
        }
      ]
    },
    {
      "cell_type": "code",
      "source": [
        "word_vec"
      ],
      "metadata": {
        "colab": {
          "base_uri": "https://localhost:8080/"
        },
        "id": "b77sj-7CwXE8",
        "outputId": "827226b4-c1d8-41e9-8580-691491fc6009"
      },
      "execution_count": 58,
      "outputs": [
        {
          "output_type": "execute_result",
          "data": {
            "text/plain": [
              "array([[ 0.16663287, -0.02542932, -0.02796946, ..., -0.00240115,\n",
              "         0.03390854,  0.00924004],\n",
              "       [ 0.07443251, -0.05981512, -0.06848025, ..., -0.04360545,\n",
              "        -0.04948453, -0.00129531],\n",
              "       [ 0.14860485,  0.00560963,  0.03498259, ...,  0.04322354,\n",
              "         0.02165124,  0.01626362],\n",
              "       ...,\n",
              "       [ 0.12356809, -0.06661446, -0.07678164, ...,  0.00933361,\n",
              "        -0.00595019, -0.00576774],\n",
              "       [ 0.05873907, -0.03514347, -0.04228365, ...,  0.00525081,\n",
              "         0.01147605, -0.00033372],\n",
              "       [ 0.02800249, -0.01459836, -0.00817321, ..., -0.00214096,\n",
              "         0.00163043, -0.00497734]])"
            ]
          },
          "metadata": {},
          "execution_count": 58
        }
      ]
    },
    {
      "cell_type": "code",
      "source": [
        "tfidf.vocabulary_['hulk']"
      ],
      "metadata": {
        "colab": {
          "base_uri": "https://localhost:8080/"
        },
        "id": "nykgMYbswKhD",
        "outputId": "9e47d331-48bd-4089-f170-9e575a43980c"
      },
      "execution_count": 57,
      "outputs": [
        {
          "output_type": "execute_result",
          "data": {
            "text/plain": [
              "1562"
            ]
          },
          "metadata": {},
          "execution_count": 57
        }
      ]
    },
    {
      "cell_type": "code",
      "source": [
        "from sklearn.metrics import pairwise_distances"
      ],
      "metadata": {
        "id": "2OV0tghqwQF4"
      },
      "execution_count": 59,
      "outputs": []
    },
    {
      "cell_type": "code",
      "source": [
        "dist_hulk=pairwise_distances(X=word_vec,Y=word_vec[1562,:].reshape(1,-1),metric='cosine')"
      ],
      "metadata": {
        "id": "I6zOl80Wwexn"
      },
      "execution_count": 62,
      "outputs": []
    },
    {
      "cell_type": "code",
      "source": [
        "dist_hulk.flatten().argsort()"
      ],
      "metadata": {
        "colab": {
          "base_uri": "https://localhost:8080/"
        },
        "id": "4mGCtqqzxADW",
        "outputId": "bc877050-9c0a-44ca-d7ff-0072e422355a"
      },
      "execution_count": 63,
      "outputs": [
        {
          "output_type": "execute_result",
          "data": {
            "text/plain": [
              "array([1562, 3275, 1699, ..., 2472, 2213,  957])"
            ]
          },
          "metadata": {},
          "execution_count": 63
        }
      ]
    },
    {
      "cell_type": "code",
      "source": [
        "id_to_word={v:k for k,v in tfidf.vocabulary_.items()}"
      ],
      "metadata": {
        "id": "rn6ZZbTxxrBm"
      },
      "execution_count": 64,
      "outputs": []
    },
    {
      "cell_type": "code",
      "source": [
        "id_to_word[1700]"
      ],
      "metadata": {
        "colab": {
          "base_uri": "https://localhost:8080/",
          "height": 35
        },
        "id": "Et3rn7H9x0vi",
        "outputId": "387c4de7-c612-4b0c-d346-6b8ec692e3b2"
      },
      "execution_count": 66,
      "outputs": [
        {
          "output_type": "execute_result",
          "data": {
            "text/plain": [
              "'ironic'"
            ],
            "application/vnd.google.colaboratory.intrinsic+json": {
              "type": "string"
            }
          },
          "metadata": {},
          "execution_count": 66
        }
      ]
    },
    {
      "cell_type": "code",
      "source": [
        ""
      ],
      "metadata": {
        "id": "FamC2trux-pN"
      },
      "execution_count": null,
      "outputs": []
    }
  ]
}