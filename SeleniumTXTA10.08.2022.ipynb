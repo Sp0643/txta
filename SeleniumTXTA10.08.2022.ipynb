{
  "nbformat": 4,
  "nbformat_minor": 0,
  "metadata": {
    "colab": {
      "name": "TXTA10.05.2022.ipynb",
      "provenance": [],
      "collapsed_sections": []
    },
    "kernelspec": {
      "name": "python3",
      "display_name": "Python 3"
    },
    "language_info": {
      "name": "python"
    }
  },
  "cells": [
    {
      "cell_type": "code",
      "execution_count": null,
      "metadata": {
        "colab": {
          "base_uri": "https://localhost:8080/"
        },
        "id": "UNRytD3Ol0Ks",
        "outputId": "dec5d311-e4da-4164-9c68-d1118da6d120"
      },
      "outputs": [
        {
          "output_type": "stream",
          "name": "stdout",
          "text": [
            "Looking in indexes: https://pypi.org/simple, https://us-python.pkg.dev/colab-wheels/public/simple/\n",
            "Requirement already satisfied: selenium in /usr/local/lib/python3.7/dist-packages (4.4.0)\n",
            "Requirement already satisfied: trio~=0.17 in /usr/local/lib/python3.7/dist-packages (from selenium) (0.21.0)\n",
            "Requirement already satisfied: urllib3[secure,socks]~=1.26 in /usr/local/lib/python3.7/dist-packages (from selenium) (1.26.11)\n",
            "Requirement already satisfied: trio-websocket~=0.9 in /usr/local/lib/python3.7/dist-packages (from selenium) (0.9.2)\n",
            "Requirement already satisfied: idna in /usr/local/lib/python3.7/dist-packages (from trio~=0.17->selenium) (2.10)\n",
            "Requirement already satisfied: async-generator>=1.9 in /usr/local/lib/python3.7/dist-packages (from trio~=0.17->selenium) (1.10)\n",
            "Requirement already satisfied: attrs>=19.2.0 in /usr/local/lib/python3.7/dist-packages (from trio~=0.17->selenium) (22.1.0)\n",
            "Requirement already satisfied: outcome in /usr/local/lib/python3.7/dist-packages (from trio~=0.17->selenium) (1.2.0)\n",
            "Requirement already satisfied: sortedcontainers in /usr/local/lib/python3.7/dist-packages (from trio~=0.17->selenium) (2.4.0)\n",
            "Requirement already satisfied: sniffio in /usr/local/lib/python3.7/dist-packages (from trio~=0.17->selenium) (1.2.0)\n",
            "Requirement already satisfied: wsproto>=0.14 in /usr/local/lib/python3.7/dist-packages (from trio-websocket~=0.9->selenium) (1.1.0)\n",
            "Requirement already satisfied: certifi in /usr/local/lib/python3.7/dist-packages (from urllib3[secure,socks]~=1.26->selenium) (2022.6.15)\n",
            "Requirement already satisfied: pyOpenSSL>=0.14 in /usr/local/lib/python3.7/dist-packages (from urllib3[secure,socks]~=1.26->selenium) (22.0.0)\n",
            "Requirement already satisfied: cryptography>=1.3.4 in /usr/local/lib/python3.7/dist-packages (from urllib3[secure,socks]~=1.26->selenium) (37.0.4)\n",
            "Requirement already satisfied: PySocks!=1.5.7,<2.0,>=1.5.6 in /usr/local/lib/python3.7/dist-packages (from urllib3[secure,socks]~=1.26->selenium) (1.7.1)\n",
            "Requirement already satisfied: cffi>=1.12 in /usr/local/lib/python3.7/dist-packages (from cryptography>=1.3.4->urllib3[secure,socks]~=1.26->selenium) (1.15.1)\n",
            "Requirement already satisfied: pycparser in /usr/local/lib/python3.7/dist-packages (from cffi>=1.12->cryptography>=1.3.4->urllib3[secure,socks]~=1.26->selenium) (2.21)\n",
            "Requirement already satisfied: h11<1,>=0.9.0 in /usr/local/lib/python3.7/dist-packages (from wsproto>=0.14->trio-websocket~=0.9->selenium) (0.13.0)\n",
            "Requirement already satisfied: typing-extensions in /usr/local/lib/python3.7/dist-packages (from h11<1,>=0.9.0->wsproto>=0.14->trio-websocket~=0.9->selenium) (4.1.1)\n"
          ]
        }
      ],
      "source": [
        "!pip install kora -q\n",
        "!pip install selenium"
      ]
    },
    {
      "cell_type": "code",
      "source": [
        "from kora.selenium import wd as browser\n",
        "from selenium.webdriver.common.by import By\n",
        "import pandas as pd\n",
        "import numpy as np\n",
        "import time"
      ],
      "metadata": {
        "id": "AgPUXgJqmXH9"
      },
      "execution_count": null,
      "outputs": []
    },
    {
      "cell_type": "code",
      "source": [
        "url = 'https://www.imdb.com/title/tt0816692/reviews/?ref_=tt_ql_urv'"
      ],
      "metadata": {
        "id": "sYMk7B6WnWPB"
      },
      "execution_count": null,
      "outputs": []
    },
    {
      "cell_type": "code",
      "source": [
        "browser.get(url)"
      ],
      "metadata": {
        "id": "ETGEWrv9oH70"
      },
      "execution_count": null,
      "outputs": []
    },
    {
      "cell_type": "code",
      "source": [
        "for _ in range(5):\n",
        "  browser.find_element(By.XPATH,\"//button[@class='ipl-load-more__button']\").click()\n",
        "  time.sleep(4)"
      ],
      "metadata": {
        "id": "NuxxGjHqpbzl"
      },
      "execution_count": null,
      "outputs": []
    },
    {
      "cell_type": "code",
      "source": [
        "xx = browser.find_elements(By.XPATH,\"//div[@class='expander-icon-wrapper show-more__control']\")\n",
        "len(xx)"
      ],
      "metadata": {
        "colab": {
          "base_uri": "https://localhost:8080/"
        },
        "id": "6cyxu7pBq60H",
        "outputId": "9750f998-3995-4972-c0e1-194fe79eac82"
      },
      "execution_count": null,
      "outputs": [
        {
          "output_type": "execute_result",
          "data": {
            "text/plain": [
              "105"
            ]
          },
          "metadata": {},
          "execution_count": 7
        }
      ]
    },
    {
      "cell_type": "code",
      "source": [
        "yy = browser.find_elements(By.XPATH,\"//div[@class='expander-icon-wrapper spoiler-warning__control']\")\n",
        "len(yy)"
      ],
      "metadata": {
        "colab": {
          "base_uri": "https://localhost:8080/"
        },
        "id": "BguUwjqbspb_",
        "outputId": "f2bf7d91-1a9f-48df-a987-5051977b0a1b"
      },
      "execution_count": null,
      "outputs": [
        {
          "output_type": "execute_result",
          "data": {
            "text/plain": [
              "45"
            ]
          },
          "metadata": {},
          "execution_count": 8
        }
      ]
    },
    {
      "cell_type": "code",
      "source": [
        "def click(p):\n",
        "  try:\n",
        "    p.click()\n",
        "  except:\n",
        "    pass"
      ],
      "metadata": {
        "id": "HPOloQoutwCJ"
      },
      "execution_count": null,
      "outputs": []
    },
    {
      "cell_type": "code",
      "source": [
        "d_x = [click(x) for x in xx]\n",
        "d_y = [click(y) for y in yy]"
      ],
      "metadata": {
        "id": "-1vpfZ8duDzB"
      },
      "execution_count": null,
      "outputs": []
    },
    {
      "cell_type": "code",
      "source": [
        "containers = [x.get_attribute('innerHTML') for x in browser.find_elements(By.XPATH,\"//div[@class='review-container']\")]"
      ],
      "metadata": {
        "id": "RUgZBtuDuevZ"
      },
      "execution_count": null,
      "outputs": []
    },
    {
      "cell_type": "code",
      "source": [
        "len(containers)"
      ],
      "metadata": {
        "colab": {
          "base_uri": "https://localhost:8080/"
        },
        "id": "b97_qpjnvpza",
        "outputId": "6195a08e-b837-416a-87e8-e6381c74fea6"
      },
      "execution_count": null,
      "outputs": [
        {
          "output_type": "execute_result",
          "data": {
            "text/plain": [
              "150"
            ]
          },
          "metadata": {},
          "execution_count": 12
        }
      ]
    },
    {
      "cell_type": "code",
      "source": [
        "containers[0]"
      ],
      "metadata": {
        "colab": {
          "base_uri": "https://localhost:8080/",
          "height": 192
        },
        "id": "jNexjlKnwU67",
        "outputId": "54e4547e-6fa4-4990-b3a0-307228f69310"
      },
      "execution_count": null,
      "outputs": [
        {
          "output_type": "execute_result",
          "data": {
            "text/plain": [
              "'\\n        <div class=\"lister-item-content\">\\n    <div class=\"ipl-ratings-bar\">\\n            <span class=\"rating-other-user-rating\">\\n            <svg class=\"ipl-icon ipl-star-icon  \" xmlns=\"http://www.w3.org/2000/svg\" fill=\"#000000\" height=\"24\" viewBox=\"0 0 24 24\" width=\"24\">\\n                <path d=\"M0 0h24v24H0z\" fill=\"none\"></path>\\n                <path d=\"M12 17.27L18.18 21l-1.64-7.03L22 9.24l-7.19-.61L12 2 9.19 8.63 2 9.24l5.46 4.73L5.82 21z\"></path>\\n                <path d=\"M0 0h24v24H0z\" fill=\"none\"></path>\\n            </svg>\\n                <span>10</span><span class=\"point-scale\">/10</span>\\n            </span>\\n    </div>\\n<a href=\"/review/rw3248454/?ref_=tt_urv\" class=\"title\"> Out of this world\\n</a>            <div class=\"display-name-date\">\\n                    <span class=\"display-name-link\"><a href=\"/user/ur5876717/?ref_=tt_urv\">kosmasp</a></span><span class=\"review-date\">31 May 2015</span>\\n            </div>\\n            <div class=\"content\">\\n                <div class=\"text show-more__control\">A lot has been said and written about Interstellar. You can obviously take apart any movie that is out there. You\\'ll either love this one or you won\\'t. I kind of would have loved to have watched this on an IMAX screen, the sheer scope of the whole thing. It\\'s just amazing, what Nolan has put on screen here. It\\'s not only the visual experience (there is no 3D here by the way), it\\'s the story/ride you take with it. It might be clear to some earlier than to others, where it\\'s heading (no pun intended), but it doesn\\'t change the fact that it\\'s beautiful ... and terrifying at the same time.<br><br>Going out and saying this will be considered a classic, might not be too far stretched, but you still can never predict those things. The deserved love the movie gets on IMDb and other places would be an indicator that this will ring true though. The acting is really good, but I can understand if some people have issues with the ending. But the movie had to end in one way or another. It\\'s the best possible way this could go, even if it\\'s not in our grasps just yet ...</div>\\n                <div class=\"actions text-muted\">\\n                    264 out of 291 found this helpful.\\n                        <span>\\n                            Was this review helpful? <a href=\"/registration/signin?ref_=urv\"> Sign in</a> to vote.\\n                        </span>\\n                        <br>\\n                    <a href=\"/review/rw3248454/?ref_=tt_urv\">Permalink</a>\\n                </div>\\n            </div>\\n        </div>\\n        <div class=\"clear\"></div>\\n    '"
            ],
            "application/vnd.google.colaboratory.intrinsic+json": {
              "type": "string"
            }
          },
          "metadata": {},
          "execution_count": 14
        }
      ]
    },
    {
      "cell_type": "code",
      "source": [
        "from bs4 import BeautifulSoup\n",
        "import re"
      ],
      "metadata": {
        "id": "r7Xd7vetvwHO"
      },
      "execution_count": null,
      "outputs": []
    },
    {
      "cell_type": "code",
      "source": [
        "reviews = []\n",
        "ratings = []\n",
        "for container in containers[:10]:\n",
        "  bsObj = BeautifulSoup(container)\n",
        "  rev = bsObj.find('div',attrs={'class':'text show-more__control'}).text\n",
        "  reviews.append(rev)\n",
        "\n",
        "  try:\n",
        "    r = bsObj.find('span',attrs={'class':'rating-other-user-rating'}).text\n",
        "    print(r)\n",
        "    r = re.sub(\"\\\\n\",'',r)\n",
        "    print(r)\n",
        "    r = re.sub(\"/10\",'',r)\n",
        "    print(r)\n",
        "    ratings.append(float(r))\n",
        "  except:\n",
        "    ratings.append(np.nan)"
      ],
      "metadata": {
        "id": "3MuQL1Cov1r5",
        "colab": {
          "base_uri": "https://localhost:8080/"
        },
        "outputId": "3e5bd4c4-de4c-42e0-b114-d04032ae8c6a"
      },
      "execution_count": null,
      "outputs": [
        {
          "output_type": "stream",
          "name": "stdout",
          "text": [
            "\n",
            "\n",
            "\n",
            "\n",
            "\n",
            "\n",
            "10/10\n",
            "\n",
            "10/10\n",
            "10\n",
            "\n",
            "\n",
            "\n",
            "\n",
            "\n",
            "\n",
            "10/10\n",
            "\n",
            "10/10\n",
            "10\n",
            "\n",
            "\n",
            "\n",
            "\n",
            "\n",
            "\n",
            "10/10\n",
            "\n",
            "10/10\n",
            "10\n",
            "\n",
            "\n",
            "\n",
            "\n",
            "\n",
            "\n",
            "9/10\n",
            "\n",
            "9/10\n",
            "9\n",
            "\n",
            "\n",
            "\n",
            "\n",
            "\n",
            "\n",
            "9/10\n",
            "\n",
            "9/10\n",
            "9\n",
            "\n",
            "\n",
            "\n",
            "\n",
            "\n",
            "\n",
            "10/10\n",
            "\n",
            "10/10\n",
            "10\n",
            "\n",
            "\n",
            "\n",
            "\n",
            "\n",
            "\n",
            "10/10\n",
            "\n",
            "10/10\n",
            "10\n",
            "\n",
            "\n",
            "\n",
            "\n",
            "\n",
            "\n",
            "10/10\n",
            "\n",
            "10/10\n",
            "10\n",
            "\n",
            "\n",
            "\n",
            "\n",
            "\n",
            "\n",
            "8/10\n",
            "\n",
            "8/10\n",
            "8\n"
          ]
        }
      ]
    },
    {
      "cell_type": "code",
      "source": [
        "df = pd.DataFrame(columns=['Reviews','Ratings'])\n",
        "df['Reviews'] = reviews\n",
        "df['Ratings'] = ratings\n",
        "\n",
        "df.shape"
      ],
      "metadata": {
        "colab": {
          "base_uri": "https://localhost:8080/"
        },
        "id": "pLQRXMcUyrlO",
        "outputId": "697a6a04-e264-4efa-80fa-82b0c5ce7c3c"
      },
      "execution_count": null,
      "outputs": [
        {
          "output_type": "execute_result",
          "data": {
            "text/plain": [
              "(150, 2)"
            ]
          },
          "metadata": {},
          "execution_count": 24
        }
      ]
    }
  ]
}