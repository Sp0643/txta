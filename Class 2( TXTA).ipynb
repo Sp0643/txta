{
 "cells": [
  {
   "cell_type": "markdown",
   "id": "b03e1015",
   "metadata": {},
   "source": [
    "Import Regular Expression"
   ]
  },
  {
   "cell_type": "code",
   "execution_count": 1,
   "id": "469b2d02",
   "metadata": {},
   "outputs": [],
   "source": [
    "import re"
   ]
  },
  {
   "cell_type": "markdown",
   "id": "f820aa0f",
   "metadata": {},
   "source": [
    "## Find all"
   ]
  },
  {
   "cell_type": "code",
   "execution_count": 2,
   "id": "c8223112",
   "metadata": {},
   "outputs": [],
   "source": [
    "s1 = '''Phill Collins was travelling with his friend Andrew Symons when he met with the accident'''"
   ]
  },
  {
   "cell_type": "code",
   "execution_count": 3,
   "id": "a5134fa7",
   "metadata": {},
   "outputs": [],
   "source": [
    "s2 = \"ssflkjsjfls 54664564646\""
   ]
  },
  {
   "cell_type": "code",
   "execution_count": 4,
   "id": "8e1e3ed3",
   "metadata": {
    "scrolled": true
   },
   "outputs": [
    {
     "data": {
      "text/plain": [
       "['s', 's', 'f', 'l', 'k', 'j', 's', 'j', 'f', 'l', 's']"
      ]
     },
     "execution_count": 4,
     "metadata": {},
     "output_type": "execute_result"
    }
   ],
   "source": [
    "re.findall(\"[a-z]\", s2)"
   ]
  },
  {
   "cell_type": "code",
   "execution_count": 5,
   "id": "102f6816",
   "metadata": {},
   "outputs": [
    {
     "data": {
      "text/plain": [
       "['ssflkjsjfls']"
      ]
     },
     "execution_count": 5,
     "metadata": {},
     "output_type": "execute_result"
    }
   ],
   "source": [
    "# how is + is affecting the whole scenerio\n",
    "re.findall(\"[a-z]+\", s2)"
   ]
  },
  {
   "cell_type": "code",
   "execution_count": 6,
   "id": "d7bb06bf",
   "metadata": {},
   "outputs": [
    {
     "data": {
      "text/plain": [
       "['ssflkjsjfls', '', '', '', '', '', '', '', '', '', '', '', '', '']"
      ]
     },
     "execution_count": 6,
     "metadata": {},
     "output_type": "execute_result"
    }
   ],
   "source": [
    "re.findall(\"[a-z]*\", s2)"
   ]
  },
  {
   "cell_type": "code",
   "execution_count": 7,
   "id": "922a6158",
   "metadata": {},
   "outputs": [
    {
     "data": {
      "text/plain": [
       "['ssflkjsjfls', '', '', '', '', '', '', '', '', '', '', '', '', '']"
      ]
     },
     "execution_count": 7,
     "metadata": {},
     "output_type": "execute_result"
    }
   ],
   "source": [
    "re.findall(\"[a-z]*\", s2)"
   ]
  },
  {
   "cell_type": "code",
   "execution_count": 8,
   "id": "8bddad42",
   "metadata": {},
   "outputs": [
    {
     "data": {
      "text/plain": [
       "['54664564646']"
      ]
     },
     "execution_count": 8,
     "metadata": {},
     "output_type": "execute_result"
    }
   ],
   "source": [
    "re.findall(\"[0-9]+\", s2)"
   ]
  },
  {
   "cell_type": "markdown",
   "id": "badcf572",
   "metadata": {},
   "source": [
    "## S3"
   ]
  },
  {
   "cell_type": "code",
   "execution_count": 9,
   "id": "45ae6929",
   "metadata": {},
   "outputs": [],
   "source": [
    "s3 = \"ssflkjsjfls 54664564646 jhkkjhk5454\""
   ]
  },
  {
   "cell_type": "code",
   "execution_count": 10,
   "id": "5ee3f24c",
   "metadata": {},
   "outputs": [
    {
     "data": {
      "text/plain": [
       "['ssflkjsjfls', 'jhkkjhk']"
      ]
     },
     "execution_count": 10,
     "metadata": {},
     "output_type": "execute_result"
    }
   ],
   "source": [
    "re.findall(\"[a-z]+\", s3)"
   ]
  },
  {
   "cell_type": "code",
   "execution_count": 11,
   "id": "3fafdfa9",
   "metadata": {},
   "outputs": [
    {
     "data": {
      "text/plain": [
       "['54664564646', '5454']"
      ]
     },
     "execution_count": 11,
     "metadata": {},
     "output_type": "execute_result"
    }
   ],
   "source": [
    "re.findall(\"[0-9]+\", s3)"
   ]
  },
  {
   "cell_type": "code",
   "execution_count": 12,
   "id": "53f9a0a7",
   "metadata": {},
   "outputs": [
    {
     "data": {
      "text/plain": [
       "['ssflkjsjfls', '54664564646', 'jhkkjhk5454']"
      ]
     },
     "execution_count": 12,
     "metadata": {},
     "output_type": "execute_result"
    }
   ],
   "source": [
    "# How to extract alpha numeric text\n",
    "re.findall(\"[0-9a-z]+\", s3)"
   ]
  },
  {
   "cell_type": "code",
   "execution_count": 13,
   "id": "15b68b2c",
   "metadata": {},
   "outputs": [
    {
     "data": {
      "text/plain": [
       "['ssflkjsjfls', '54664564646', 'jhkkjhk5454']"
      ]
     },
     "execution_count": 13,
     "metadata": {},
     "output_type": "execute_result"
    }
   ],
   "source": [
    "# How to extract alpha numeric text\n",
    "re.findall(\"[0-9a-z]+\", s3)"
   ]
  },
  {
   "cell_type": "code",
   "execution_count": 16,
   "id": "34800c4a",
   "metadata": {},
   "outputs": [],
   "source": [
    "def only_alpha_numeric(txt):\n",
    "    alhpa_numeric = set(re.findall(\"[a-z0-9]+\", txt))\n",
    "    only_alpha = set(re.findall(\"[a-z]+\", txt))\n",
    "    only_num = set(re.findall(\"[0-9]+\", txt))\n",
    "    s1= alhpa_numeric-only_num\n",
    "    s2 = s1 - only_alpha\n",
    "    return list(s2)\n",
    "                   \n",
    "                   \n",
    "                      \n",
    "                   \n",
    "    "
   ]
  },
  {
   "cell_type": "code",
   "execution_count": 17,
   "id": "81651156",
   "metadata": {},
   "outputs": [],
   "source": [
    "def only_alpha_numeric(txt):\n",
    "    alhpa_numeric = set(re.findall(\"[a-z0-9]+\", txt))\n",
    "    only_alpha = set(re.findall(\"[a-z]+\", txt))\n",
    "    only_num = set(re.findall(\"[0-9]+\", txt))\n",
    "    s1= alhpa_numeric-only_num\n",
    "    s2 = s1- only_alpha\n",
    "    return list(s2)\n",
    "                   "
   ]
  },
  {
   "cell_type": "code",
   "execution_count": 18,
   "id": "11cd329d",
   "metadata": {},
   "outputs": [
    {
     "name": "stdout",
     "output_type": "stream",
     "text": [
      "['jhkkjhk5454']\n"
     ]
    }
   ],
   "source": [
    "print(only_alpha_numeric(s3))"
   ]
  },
  {
   "cell_type": "code",
   "execution_count": 19,
   "id": "6a80435e",
   "metadata": {},
   "outputs": [
    {
     "data": {
      "text/plain": [
       "'6'"
      ]
     },
     "execution_count": 19,
     "metadata": {},
     "output_type": "execute_result"
    }
   ],
   "source": [
    "s3[20]"
   ]
  },
  {
   "cell_type": "code",
   "execution_count": 20,
   "id": "cb03594a",
   "metadata": {},
   "outputs": [
    {
     "data": {
      "text/plain": [
       "['Phill Collins', 'Andrew Symons']"
      ]
     },
     "execution_count": 20,
     "metadata": {},
     "output_type": "execute_result"
    }
   ],
   "source": [
    "# finding the name of a person \n",
    "# first half syntax for first name and second for last name.\n",
    "re.findall(\"[A-Z][a-z]+ [A-Z][a-z]+\", s1)"
   ]
  },
  {
   "cell_type": "code",
   "execution_count": 21,
   "id": "44923a96",
   "metadata": {},
   "outputs": [],
   "source": [
    "s4 = \" I have my mobile numbers 01234567890, +91-1234567890, 12345-67890\""
   ]
  },
  {
   "cell_type": "code",
   "execution_count": 22,
   "id": "8dfc8fcd",
   "metadata": {},
   "outputs": [
    {
     "data": {
      "text/plain": [
       "['01234567890', '+91-1234567890', '12345-67890']"
      ]
     },
     "execution_count": 22,
     "metadata": {},
     "output_type": "execute_result"
    }
   ],
   "source": [
    "re.findall(\"[0-9-+]+\", s4)\n"
   ]
  },
  {
   "cell_type": "code",
   "execution_count": null,
   "id": "72d3214d",
   "metadata": {},
   "outputs": [],
   "source": []
  },
  {
   "cell_type": "code",
   "execution_count": 23,
   "id": "99eac44a",
   "metadata": {},
   "outputs": [],
   "source": [
    "s4 = \" I have my mobile numbers 01234567890, +91-1234567890, 12345-67890 and my room no. is 1308\""
   ]
  },
  {
   "cell_type": "code",
   "execution_count": 24,
   "id": "36819681",
   "metadata": {},
   "outputs": [
    {
     "data": {
      "text/plain": [
       "['01234567890', '+91-1234567890', '12345-67890', '1308']"
      ]
     },
     "execution_count": 24,
     "metadata": {},
     "output_type": "execute_result"
    }
   ],
   "source": [
    "re.findall(\"[\\d+-]+\", s4)"
   ]
  },
  {
   "cell_type": "code",
   "execution_count": 25,
   "id": "aee51cc1",
   "metadata": {},
   "outputs": [
    {
     "data": {
      "text/plain": [
       "['01234567890', '+91-1234567890', '12345-67890']"
      ]
     },
     "execution_count": 25,
     "metadata": {},
     "output_type": "execute_result"
    }
   ],
   "source": [
    "# how to overcome this ?\n",
    "# Teach it the pattern of the mobile number\n",
    "re.findall(\"[\\d+-]{10,14}\", s4)"
   ]
  },
  {
   "cell_type": "code",
   "execution_count": 26,
   "id": "dd86a16a",
   "metadata": {},
   "outputs": [],
   "source": [
    "# re.findall(\"[+]?(0-9)\")"
   ]
  },
  {
   "cell_type": "code",
   "execution_count": 27,
   "id": "ee40af75",
   "metadata": {},
   "outputs": [
    {
     "data": {
      "text/plain": [
       "['01234567890', '+91-1234567890', '12345-67890']"
      ]
     },
     "execution_count": 27,
     "metadata": {},
     "output_type": "execute_result"
    }
   ],
   "source": [
    "re.findall(\"[0-9]{10,11}|[+][0-9]{2}-[0-9]{10}|[0-9]{5}-[0-9]{5}\",s4)"
   ]
  },
  {
   "cell_type": "code",
   "execution_count": 28,
   "id": "d6abfe4e",
   "metadata": {},
   "outputs": [
    {
     "data": {
      "text/plain": [
       "[' I have my mobile numbers 01234567890, +91-1234567890, 12345-67890 and my room no. is 1308']"
      ]
     },
     "execution_count": 28,
     "metadata": {},
     "output_type": "execute_result"
    }
   ],
   "source": [
    "# DOT means any character.\n",
    "re.findall(\".+\", s4)"
   ]
  },
  {
   "cell_type": "code",
   "execution_count": 29,
   "id": "84b6a17d",
   "metadata": {},
   "outputs": [],
   "source": [
    "s5 = \"My email ids are abc@xyz.se, abc_2123@xyz.ac.in, abc.123@xyz.edu\""
   ]
  },
  {
   "cell_type": "code",
   "execution_count": 30,
   "id": "1f1518d7",
   "metadata": {},
   "outputs": [
    {
     "data": {
      "text/plain": [
       "['abc@xyz.se', 'abc_2123@xyz.ac.in', 'abc.123@xyz.edu']"
      ]
     },
     "execution_count": 30,
     "metadata": {},
     "output_type": "execute_result"
    }
   ],
   "source": [
    "re.findall( \"[a-z]+@[a-z]+.[a-z]+|[a-z]+_[0-9]+@[a-z]+.[a-z]+.[a-z]+|[a-z]+.[0-9]+@[a-z]+.[a-z]+\",s5)"
   ]
  },
  {
   "cell_type": "code",
   "execution_count": 31,
   "id": "dc3fefde",
   "metadata": {},
   "outputs": [
    {
     "data": {
      "text/plain": [
       "['abc@xyz.se, abc_2123@xyz.ac.in, abc.123@xyz.edu']"
      ]
     },
     "execution_count": 31,
     "metadata": {},
     "output_type": "execute_result"
    }
   ],
   "source": [
    "re.findall(\"[a-z0-9]+@.*\", s5)"
   ]
  },
  {
   "cell_type": "code",
   "execution_count": 32,
   "id": "9c97864e",
   "metadata": {},
   "outputs": [
    {
     "data": {
      "text/plain": [
       "['abc@xyz.se, abc_2123@xyz.ac.in, abc.123@xyz.edu']"
      ]
     },
     "execution_count": 32,
     "metadata": {},
     "output_type": "execute_result"
    }
   ],
   "source": [
    "re.findall(\"[a-z]+@.*[a-z0-9]\", s5)"
   ]
  },
  {
   "cell_type": "code",
   "execution_count": 33,
   "id": "bfae655b",
   "metadata": {},
   "outputs": [],
   "source": [
    "s6= '''The names are Subhasis Dasgupta, Anirban Senguta,Jaydeep Sen, Rudradeep Dasgupta and Subhasis Sengupta'''"
   ]
  },
  {
   "cell_type": "code",
   "execution_count": 34,
   "id": "23e9dd21",
   "metadata": {},
   "outputs": [
    {
     "data": {
      "text/plain": [
       "['Subhasis', 'Rudradeep']"
      ]
     },
     "execution_count": 34,
     "metadata": {},
     "output_type": "execute_result"
    }
   ],
   "source": [
    "re.findall(\"[A-Z][a-z]+(?= Dasgupta)\", s6)"
   ]
  },
  {
   "cell_type": "code",
   "execution_count": 35,
   "id": "34ff4c23",
   "metadata": {},
   "outputs": [
    {
     "data": {
      "text/plain": [
       "[]"
      ]
     },
     "execution_count": 35,
     "metadata": {},
     "output_type": "execute_result"
    }
   ],
   "source": [
    "re.findall(\"(?<=Subhasis)[A-Za-z]+\", s6)"
   ]
  },
  {
   "cell_type": "code",
   "execution_count": null,
   "id": "04dbdc1c",
   "metadata": {},
   "outputs": [],
   "source": []
  }
 ],
 "metadata": {
  "kernelspec": {
   "display_name": "Python 3 (ipykernel)",
   "language": "python",
   "name": "python3"
  },
  "language_info": {
   "codemirror_mode": {
    "name": "ipython",
    "version": 3
   },
   "file_extension": ".py",
   "mimetype": "text/x-python",
   "name": "python",
   "nbconvert_exporter": "python",
   "pygments_lexer": "ipython3",
   "version": "3.9.7"
  }
 },
 "nbformat": 4,
 "nbformat_minor": 5
}
