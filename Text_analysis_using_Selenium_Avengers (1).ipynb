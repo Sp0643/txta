{
 "cells": [
  {
   "cell_type": "markdown",
   "metadata": {},
   "source": [
    "### Installing Packages"
   ]
  },
  {
   "cell_type": "code",
   "execution_count": null,
   "metadata": {
    "colab": {
     "base_uri": "https://localhost:8080/"
    },
    "id": "RtdEjhdcmEkh",
    "outputId": "b155d688-cb12-4737-bb1c-308f1d767113"
   },
   "outputs": [],
   "source": [
    "pip install selenium"
   ]
  },
  {
   "cell_type": "code",
   "execution_count": null,
   "metadata": {
    "colab": {
     "base_uri": "https://localhost:8080/"
    },
    "id": "wTgDY8ONmWaC",
    "outputId": "3a276ed8-38bb-4f77-c343-d87f10dbaf36"
   },
   "outputs": [],
   "source": [
    "pip install kora -q"
   ]
  },
  {
   "cell_type": "code",
   "execution_count": null,
   "metadata": {},
   "outputs": [],
   "source": [
    "pip install webdriver-manager"
   ]
  },
  {
   "cell_type": "markdown",
   "metadata": {},
   "source": [
    "### Importing Libraries"
   ]
  },
  {
   "cell_type": "code",
   "execution_count": 1,
   "metadata": {},
   "outputs": [],
   "source": [
    "from selenium import webdriver"
   ]
  },
  {
   "cell_type": "code",
   "execution_count": 2,
   "metadata": {},
   "outputs": [
    {
     "name": "stderr",
     "output_type": "stream",
     "text": [
      "C:\\Users\\joyb0\\AppData\\Local\\Temp/ipykernel_4856/4089053854.py:2: DeprecationWarning: executable_path has been deprecated, please pass in a Service object\n",
      "  browser = webdriver.Chrome(ChromeDriverManager().install())\n"
     ]
    }
   ],
   "source": [
    "from webdriver_manager.chrome import ChromeDriverManager\n",
    "browser = webdriver.Chrome(ChromeDriverManager().install())"
   ]
  },
  {
   "cell_type": "code",
   "execution_count": 3,
   "metadata": {
    "id": "R8sZsV4ImgDa"
   },
   "outputs": [],
   "source": [
    "from selenium.webdriver.common.by import By\n",
    "import pandas as pd\n",
    "import numpy as np\n",
    "import time"
   ]
  },
  {
   "cell_type": "code",
   "execution_count": 4,
   "metadata": {
    "id": "S6PoCZ3QnfH-"
   },
   "outputs": [],
   "source": [
    "url = \"https://www.imdb.com/title/tt4154756/reviews/?ref_=tt_ql_urv\""
   ]
  },
  {
   "cell_type": "code",
   "execution_count": 5,
   "metadata": {
    "id": "PdHzWMSAoQP2"
   },
   "outputs": [],
   "source": [
    "browser.get(url)"
   ]
  },
  {
   "cell_type": "code",
   "execution_count": 6,
   "metadata": {
    "id": "7yC6em6Woc6u"
   },
   "outputs": [],
   "source": [
    "for _ in range(19):\n",
    "  browser.find_element(By.XPATH, \"//button[@class= 'ipl-load-more__button']\").click()\n",
    "  time.sleep(4)"
   ]
  },
  {
   "cell_type": "code",
   "execution_count": 7,
   "metadata": {
    "colab": {
     "base_uri": "https://localhost:8080/"
    },
    "id": "m7UZgAAnrDnD",
    "outputId": "92997da9-4c11-497a-8a88-f69a5298b118"
   },
   "outputs": [
    {
     "data": {
      "text/plain": [
       "364"
      ]
     },
     "execution_count": 7,
     "metadata": {},
     "output_type": "execute_result"
    }
   ],
   "source": [
    "xx = browser.find_elements(By.XPATH, \"//div[@class = 'expander-icon-wrapper show-more__control']\")\n",
    "len(xx)"
   ]
  },
  {
   "cell_type": "code",
   "execution_count": 8,
   "metadata": {
    "colab": {
     "base_uri": "https://localhost:8080/"
    },
    "id": "18cJOr7CslGS",
    "outputId": "8e8b2578-c08b-42c0-98aa-a35cfa890951"
   },
   "outputs": [
    {
     "data": {
      "text/plain": [
       "136"
      ]
     },
     "execution_count": 8,
     "metadata": {},
     "output_type": "execute_result"
    }
   ],
   "source": [
    "yy = browser.find_elements(By.XPATH, \"//div[@class = 'expander-icon-wrapper spoiler-warning__control']\")\n",
    "len(yy)"
   ]
  },
  {
   "cell_type": "code",
   "execution_count": 9,
   "metadata": {
    "id": "BmTG7fgWtuLm"
   },
   "outputs": [],
   "source": [
    "def click(p):\n",
    "  try: \n",
    "    p.click()\n",
    "  except:\n",
    "    pass"
   ]
  },
  {
   "cell_type": "code",
   "execution_count": 10,
   "metadata": {
    "id": "5S1KPuFwuMjg"
   },
   "outputs": [],
   "source": [
    "d_x = [click(x) for x in xx]\n",
    "d_y = [click(y) for y in yy]"
   ]
  },
  {
   "cell_type": "code",
   "execution_count": 11,
   "metadata": {
    "id": "q0TOQVHkulG4"
   },
   "outputs": [],
   "source": [
    "containers = [x.get_attribute('innerHTML') for x in browser.find_elements(By.XPATH, \"//div[@class='review-container']\")]"
   ]
  },
  {
   "cell_type": "code",
   "execution_count": 12,
   "metadata": {
    "colab": {
     "base_uri": "https://localhost:8080/"
    },
    "id": "NYjZFtT9vzQ5",
    "outputId": "6e4a4163-36bf-4de5-e075-a2b2c77bd4c5"
   },
   "outputs": [
    {
     "data": {
      "text/plain": [
       "500"
      ]
     },
     "execution_count": 12,
     "metadata": {},
     "output_type": "execute_result"
    }
   ],
   "source": [
    "len(containers)"
   ]
  },
  {
   "cell_type": "code",
   "execution_count": 13,
   "metadata": {
    "id": "r1_2hLyFv0mj"
   },
   "outputs": [],
   "source": [
    "from bs4 import BeautifulSoup"
   ]
  },
  {
   "cell_type": "code",
   "execution_count": 14,
   "metadata": {
    "id": "vZWEt54RztIf"
   },
   "outputs": [],
   "source": [
    "import re"
   ]
  },
  {
   "cell_type": "code",
   "execution_count": 15,
   "metadata": {
    "id": "gsLcmHdwv-TI"
   },
   "outputs": [],
   "source": [
    "reviews = []\n",
    "ratings = []\n",
    "for container in containers:\n",
    "  bsObj = BeautifulSoup(container)\n",
    "  rev = bsObj.find('div', attrs = {'class' : 'text show-more__control'}).text\n",
    "  reviews.append(rev)\n",
    "  try:\n",
    "    r = bsObj.find('span', attrs = {'class': 'rating-other-user-rating'}).text\n",
    "    r = re.sub(\"\\\\n\", '', r)\n",
    "    r = re.sub(\"/10\",'', r)\n",
    "    ratings.append(float(r))\n",
    "  except:\n",
    "      ratings.append(np.nan)"
   ]
  },
  {
   "cell_type": "code",
   "execution_count": 16,
   "metadata": {},
   "outputs": [
    {
     "data": {
      "text/plain": [
       "500"
      ]
     },
     "execution_count": 16,
     "metadata": {},
     "output_type": "execute_result"
    }
   ],
   "source": [
    "len(ratings)"
   ]
  },
  {
   "cell_type": "code",
   "execution_count": 17,
   "metadata": {
    "colab": {
     "base_uri": "https://localhost:8080/",
     "height": 363
    },
    "id": "LfDe4JLCy0bm",
    "outputId": "098534d2-68e9-476a-9924-2260ff9f8dc1"
   },
   "outputs": [
    {
     "data": {
      "text/html": [
       "<div>\n",
       "<style scoped>\n",
       "    .dataframe tbody tr th:only-of-type {\n",
       "        vertical-align: middle;\n",
       "    }\n",
       "\n",
       "    .dataframe tbody tr th {\n",
       "        vertical-align: top;\n",
       "    }\n",
       "\n",
       "    .dataframe thead th {\n",
       "        text-align: right;\n",
       "    }\n",
       "</style>\n",
       "<table border=\"1\" class=\"dataframe\">\n",
       "  <thead>\n",
       "    <tr style=\"text-align: right;\">\n",
       "      <th></th>\n",
       "      <th>Reviews</th>\n",
       "      <th>Ratings</th>\n",
       "    </tr>\n",
       "  </thead>\n",
       "  <tbody>\n",
       "    <tr>\n",
       "      <th>0</th>\n",
       "      <td>Infinity War is remembered mostly for how it e...</td>\n",
       "      <td>10.0</td>\n",
       "    </tr>\n",
       "    <tr>\n",
       "      <th>1</th>\n",
       "      <td>This movie portrays a villain that by far has ...</td>\n",
       "      <td>9.0</td>\n",
       "    </tr>\n",
       "    <tr>\n",
       "      <th>2</th>\n",
       "      <td>A meticulously planned film down to the last d...</td>\n",
       "      <td>10.0</td>\n",
       "    </tr>\n",
       "    <tr>\n",
       "      <th>3</th>\n",
       "      <td>Avengers: Infinity War is a film that should b...</td>\n",
       "      <td>NaN</td>\n",
       "    </tr>\n",
       "    <tr>\n",
       "      <th>4</th>\n",
       "      <td>Avengers infinity war is an emotional roller c...</td>\n",
       "      <td>9.0</td>\n",
       "    </tr>\n",
       "    <tr>\n",
       "      <th>5</th>\n",
       "      <td>Infinity war is one of the best MCU protects. ...</td>\n",
       "      <td>10.0</td>\n",
       "    </tr>\n",
       "    <tr>\n",
       "      <th>6</th>\n",
       "      <td>It was only after the release of Infinity War ...</td>\n",
       "      <td>10.0</td>\n",
       "    </tr>\n",
       "    <tr>\n",
       "      <th>7</th>\n",
       "      <td>Infinity war seemed much better than endgame t...</td>\n",
       "      <td>10.0</td>\n",
       "    </tr>\n",
       "    <tr>\n",
       "      <th>8</th>\n",
       "      <td>#MCUrewatch. A confrontation that has been in ...</td>\n",
       "      <td>8.0</td>\n",
       "    </tr>\n",
       "    <tr>\n",
       "      <th>9</th>\n",
       "      <td>Although this film has 'Avengers' in the title...</td>\n",
       "      <td>8.0</td>\n",
       "    </tr>\n",
       "  </tbody>\n",
       "</table>\n",
       "</div>"
      ],
      "text/plain": [
       "                                             Reviews  Ratings\n",
       "0  Infinity War is remembered mostly for how it e...     10.0\n",
       "1  This movie portrays a villain that by far has ...      9.0\n",
       "2  A meticulously planned film down to the last d...     10.0\n",
       "3  Avengers: Infinity War is a film that should b...      NaN\n",
       "4  Avengers infinity war is an emotional roller c...      9.0\n",
       "5  Infinity war is one of the best MCU protects. ...     10.0\n",
       "6  It was only after the release of Infinity War ...     10.0\n",
       "7  Infinity war seemed much better than endgame t...     10.0\n",
       "8  #MCUrewatch. A confrontation that has been in ...      8.0\n",
       "9  Although this film has 'Avengers' in the title...      8.0"
      ]
     },
     "execution_count": 17,
     "metadata": {},
     "output_type": "execute_result"
    }
   ],
   "source": [
    "df = pd.DataFrame(columns = ['Reviews', 'Ratings'])\n",
    "df['Reviews'] = reviews\n",
    "df['Ratings'] = ratings\n",
    "df.head(10)"
   ]
  },
  {
   "cell_type": "code",
   "execution_count": 18,
   "metadata": {
    "id": "1rqnZHRb0xvc"
   },
   "outputs": [],
   "source": [
    "df['Movie Name'] = 'Avengers: Infinity War'"
   ]
  },
  {
   "cell_type": "code",
   "execution_count": 19,
   "metadata": {},
   "outputs": [
    {
     "data": {
      "text/html": [
       "<div>\n",
       "<style scoped>\n",
       "    .dataframe tbody tr th:only-of-type {\n",
       "        vertical-align: middle;\n",
       "    }\n",
       "\n",
       "    .dataframe tbody tr th {\n",
       "        vertical-align: top;\n",
       "    }\n",
       "\n",
       "    .dataframe thead th {\n",
       "        text-align: right;\n",
       "    }\n",
       "</style>\n",
       "<table border=\"1\" class=\"dataframe\">\n",
       "  <thead>\n",
       "    <tr style=\"text-align: right;\">\n",
       "      <th></th>\n",
       "      <th>Reviews</th>\n",
       "      <th>Ratings</th>\n",
       "      <th>Movie Name</th>\n",
       "    </tr>\n",
       "  </thead>\n",
       "  <tbody>\n",
       "    <tr>\n",
       "      <th>0</th>\n",
       "      <td>Infinity War is remembered mostly for how it e...</td>\n",
       "      <td>10.0</td>\n",
       "      <td>Avengers: Infinity War</td>\n",
       "    </tr>\n",
       "    <tr>\n",
       "      <th>1</th>\n",
       "      <td>This movie portrays a villain that by far has ...</td>\n",
       "      <td>9.0</td>\n",
       "      <td>Avengers: Infinity War</td>\n",
       "    </tr>\n",
       "    <tr>\n",
       "      <th>2</th>\n",
       "      <td>A meticulously planned film down to the last d...</td>\n",
       "      <td>10.0</td>\n",
       "      <td>Avengers: Infinity War</td>\n",
       "    </tr>\n",
       "    <tr>\n",
       "      <th>3</th>\n",
       "      <td>Avengers: Infinity War is a film that should b...</td>\n",
       "      <td>NaN</td>\n",
       "      <td>Avengers: Infinity War</td>\n",
       "    </tr>\n",
       "    <tr>\n",
       "      <th>4</th>\n",
       "      <td>Avengers infinity war is an emotional roller c...</td>\n",
       "      <td>9.0</td>\n",
       "      <td>Avengers: Infinity War</td>\n",
       "    </tr>\n",
       "    <tr>\n",
       "      <th>...</th>\n",
       "      <td>...</td>\n",
       "      <td>...</td>\n",
       "      <td>...</td>\n",
       "    </tr>\n",
       "    <tr>\n",
       "      <th>495</th>\n",
       "      <td>Arguably, the best MCU movie ever made, and ye...</td>\n",
       "      <td>9.0</td>\n",
       "      <td>Avengers: Infinity War</td>\n",
       "    </tr>\n",
       "    <tr>\n",
       "      <th>496</th>\n",
       "      <td>I don't know why there are so many positive re...</td>\n",
       "      <td>1.0</td>\n",
       "      <td>Avengers: Infinity War</td>\n",
       "    </tr>\n",
       "    <tr>\n",
       "      <th>497</th>\n",
       "      <td>There are two types of stories where the hero ...</td>\n",
       "      <td>4.0</td>\n",
       "      <td>Avengers: Infinity War</td>\n",
       "    </tr>\n",
       "    <tr>\n",
       "      <th>498</th>\n",
       "      <td>The thing about conflict is it goes both ways,...</td>\n",
       "      <td>10.0</td>\n",
       "      <td>Avengers: Infinity War</td>\n",
       "    </tr>\n",
       "    <tr>\n",
       "      <th>499</th>\n",
       "      <td>10/10 and this is why..! I've watched this fil...</td>\n",
       "      <td>10.0</td>\n",
       "      <td>Avengers: Infinity War</td>\n",
       "    </tr>\n",
       "  </tbody>\n",
       "</table>\n",
       "<p>500 rows × 3 columns</p>\n",
       "</div>"
      ],
      "text/plain": [
       "                                               Reviews  Ratings  \\\n",
       "0    Infinity War is remembered mostly for how it e...     10.0   \n",
       "1    This movie portrays a villain that by far has ...      9.0   \n",
       "2    A meticulously planned film down to the last d...     10.0   \n",
       "3    Avengers: Infinity War is a film that should b...      NaN   \n",
       "4    Avengers infinity war is an emotional roller c...      9.0   \n",
       "..                                                 ...      ...   \n",
       "495  Arguably, the best MCU movie ever made, and ye...      9.0   \n",
       "496  I don't know why there are so many positive re...      1.0   \n",
       "497  There are two types of stories where the hero ...      4.0   \n",
       "498  The thing about conflict is it goes both ways,...     10.0   \n",
       "499  10/10 and this is why..! I've watched this fil...     10.0   \n",
       "\n",
       "                 Movie Name  \n",
       "0    Avengers: Infinity War  \n",
       "1    Avengers: Infinity War  \n",
       "2    Avengers: Infinity War  \n",
       "3    Avengers: Infinity War  \n",
       "4    Avengers: Infinity War  \n",
       "..                      ...  \n",
       "495  Avengers: Infinity War  \n",
       "496  Avengers: Infinity War  \n",
       "497  Avengers: Infinity War  \n",
       "498  Avengers: Infinity War  \n",
       "499  Avengers: Infinity War  \n",
       "\n",
       "[500 rows x 3 columns]"
      ]
     },
     "execution_count": 19,
     "metadata": {},
     "output_type": "execute_result"
    }
   ],
   "source": [
    "df"
   ]
  },
  {
   "cell_type": "code",
   "execution_count": 23,
   "metadata": {},
   "outputs": [
    {
     "data": {
      "text/html": [
       "<div>\n",
       "<style scoped>\n",
       "    .dataframe tbody tr th:only-of-type {\n",
       "        vertical-align: middle;\n",
       "    }\n",
       "\n",
       "    .dataframe tbody tr th {\n",
       "        vertical-align: top;\n",
       "    }\n",
       "\n",
       "    .dataframe thead th {\n",
       "        text-align: right;\n",
       "    }\n",
       "</style>\n",
       "<table border=\"1\" class=\"dataframe\">\n",
       "  <thead>\n",
       "    <tr style=\"text-align: right;\">\n",
       "      <th></th>\n",
       "      <th>Unnamed: 0</th>\n",
       "      <th>Reviews</th>\n",
       "      <th>Ratings</th>\n",
       "      <th>Movie Name</th>\n",
       "    </tr>\n",
       "  </thead>\n",
       "  <tbody>\n",
       "    <tr>\n",
       "      <th>0</th>\n",
       "      <td>0</td>\n",
       "      <td>Infinity War is remembered mostly for how it e...</td>\n",
       "      <td>10.0</td>\n",
       "      <td>Avengers: Infinity War</td>\n",
       "    </tr>\n",
       "    <tr>\n",
       "      <th>1</th>\n",
       "      <td>1</td>\n",
       "      <td>This movie portrays a villain that by far has ...</td>\n",
       "      <td>9.0</td>\n",
       "      <td>Avengers: Infinity War</td>\n",
       "    </tr>\n",
       "    <tr>\n",
       "      <th>2</th>\n",
       "      <td>2</td>\n",
       "      <td>A meticulously planned film down to the last d...</td>\n",
       "      <td>10.0</td>\n",
       "      <td>Avengers: Infinity War</td>\n",
       "    </tr>\n",
       "    <tr>\n",
       "      <th>3</th>\n",
       "      <td>3</td>\n",
       "      <td>Avengers: Infinity War is a film that should b...</td>\n",
       "      <td>NaN</td>\n",
       "      <td>Avengers: Infinity War</td>\n",
       "    </tr>\n",
       "    <tr>\n",
       "      <th>4</th>\n",
       "      <td>4</td>\n",
       "      <td>Avengers infinity war is an emotional roller c...</td>\n",
       "      <td>9.0</td>\n",
       "      <td>Avengers: Infinity War</td>\n",
       "    </tr>\n",
       "  </tbody>\n",
       "</table>\n",
       "</div>"
      ],
      "text/plain": [
       "   Unnamed: 0                                            Reviews  Ratings  \\\n",
       "0           0  Infinity War is remembered mostly for how it e...     10.0   \n",
       "1           1  This movie portrays a villain that by far has ...      9.0   \n",
       "2           2  A meticulously planned film down to the last d...     10.0   \n",
       "3           3  Avengers: Infinity War is a film that should b...      NaN   \n",
       "4           4  Avengers infinity war is an emotional roller c...      9.0   \n",
       "\n",
       "               Movie Name  \n",
       "0  Avengers: Infinity War  \n",
       "1  Avengers: Infinity War  \n",
       "2  Avengers: Infinity War  \n",
       "3  Avengers: Infinity War  \n",
       "4  Avengers: Infinity War  "
      ]
     },
     "execution_count": 23,
     "metadata": {},
     "output_type": "execute_result"
    }
   ],
   "source": [
    "#write dataframe to file\n",
    "df.to_csv(\"imdb_reviews.csv\")  \n",
    "#read it back\n",
    "pd.read_csv(\"imdb_reviews.csv\").head()"
   ]
  },
  {
   "cell_type": "code",
   "execution_count": null,
   "metadata": {},
   "outputs": [],
   "source": []
  }
 ],
 "metadata": {
  "colab": {
   "collapsed_sections": [],
   "name": "Text analysis using Selenium",
   "provenance": []
  },
  "kernelspec": {
   "display_name": "Python 3 (ipykernel)",
   "language": "python",
   "name": "python3"
  },
  "language_info": {
   "codemirror_mode": {
    "name": "ipython",
    "version": 3
   },
   "file_extension": ".py",
   "mimetype": "text/x-python",
   "name": "python",
   "nbconvert_exporter": "python",
   "pygments_lexer": "ipython3",
   "version": "3.9.7"
  }
 },
 "nbformat": 4,
 "nbformat_minor": 1
}
