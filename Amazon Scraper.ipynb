{
 "cells": [
  {
   "cell_type": "code",
   "execution_count": 6,
   "id": "ae1a0a02",
   "metadata": {},
   "outputs": [],
   "source": [
    "from bs4 import BeautifulSoup\n",
    "import urllib\n",
    "from urllib.request import urlopen,Request"
   ]
  },
  {
   "cell_type": "code",
   "execution_count": 1,
   "id": "8872b3b5",
   "metadata": {},
   "outputs": [
    {
     "name": "stdout",
     "output_type": "stream",
     "text": [
      "Requirement already satisfied: selenium in c:\\users\\daksh\\anaconda3\\lib\\site-packages (4.4.3)\n",
      "Requirement already satisfied: trio-websocket~=0.9 in c:\\users\\daksh\\anaconda3\\lib\\site-packages (from selenium) (0.9.2)\n",
      "Requirement already satisfied: urllib3[socks]~=1.26 in c:\\users\\daksh\\anaconda3\\lib\\site-packages (from selenium) (1.26.7)\n",
      "Requirement already satisfied: trio~=0.17 in c:\\users\\daksh\\anaconda3\\lib\\site-packages (from selenium) (0.21.0)\n",
      "Requirement already satisfied: certifi>=2021.10.8 in c:\\users\\daksh\\anaconda3\\lib\\site-packages (from selenium) (2021.10.8)\n",
      "Requirement already satisfied: outcome in c:\\users\\daksh\\anaconda3\\lib\\site-packages (from trio~=0.17->selenium) (1.2.0)\n",
      "Requirement already satisfied: sniffio in c:\\users\\daksh\\anaconda3\\lib\\site-packages (from trio~=0.17->selenium) (1.2.0)\n",
      "Requirement already satisfied: idna in c:\\users\\daksh\\anaconda3\\lib\\site-packages (from trio~=0.17->selenium) (3.2)\n",
      "Requirement already satisfied: attrs>=19.2.0 in c:\\users\\daksh\\anaconda3\\lib\\site-packages (from trio~=0.17->selenium) (21.2.0)\n",
      "Requirement already satisfied: async-generator>=1.9 in c:\\users\\daksh\\anaconda3\\lib\\site-packages (from trio~=0.17->selenium) (1.10)\n",
      "Requirement already satisfied: cffi>=1.14 in c:\\users\\daksh\\anaconda3\\lib\\site-packages (from trio~=0.17->selenium) (1.14.6)\n",
      "Requirement already satisfied: sortedcontainers in c:\\users\\daksh\\anaconda3\\lib\\site-packages (from trio~=0.17->selenium) (2.4.0)\n",
      "Requirement already satisfied: pycparser in c:\\users\\daksh\\anaconda3\\lib\\site-packages (from cffi>=1.14->trio~=0.17->selenium) (2.20)\n",
      "Requirement already satisfied: wsproto>=0.14 in c:\\users\\daksh\\anaconda3\\lib\\site-packages (from trio-websocket~=0.9->selenium) (1.2.0)\n",
      "Requirement already satisfied: PySocks!=1.5.7,<2.0,>=1.5.6 in c:\\users\\daksh\\anaconda3\\lib\\site-packages (from urllib3[socks]~=1.26->selenium) (1.7.1)\n",
      "Requirement already satisfied: h11<1,>=0.9.0 in c:\\users\\daksh\\anaconda3\\lib\\site-packages (from wsproto>=0.14->trio-websocket~=0.9->selenium) (0.14.0)\n"
     ]
    }
   ],
   "source": [
    "!pip install selenium"
   ]
  },
  {
   "cell_type": "code",
   "execution_count": 2,
   "id": "4b08cd1c",
   "metadata": {},
   "outputs": [
    {
     "name": "stdout",
     "output_type": "stream",
     "text": [
      "Requirement already satisfied: webdriver-manager in c:\\users\\daksh\\anaconda3\\lib\\site-packages (3.8.3)Note: you may need to restart the kernel to use updated packages.\n",
      "Requirement already satisfied: tqdm in c:\\users\\daksh\\anaconda3\\lib\\site-packages (from webdriver-manager) (4.62.3)\n",
      "Requirement already satisfied: requests in c:\\users\\daksh\\anaconda3\\lib\\site-packages (from webdriver-manager) (2.26.0)\n",
      "Requirement already satisfied: python-dotenv in c:\\users\\daksh\\anaconda3\\lib\\site-packages (from webdriver-manager) (0.21.0)\n",
      "Requirement already satisfied: certifi>=2017.4.17 in c:\\users\\daksh\\anaconda3\\lib\\site-packages (from requests->webdriver-manager) (2021.10.8)\n",
      "Requirement already satisfied: charset-normalizer~=2.0.0 in c:\\users\\daksh\\anaconda3\\lib\\site-packages (from requests->webdriver-manager) (2.0.4)\n",
      "Requirement already satisfied: idna<4,>=2.5 in c:\\users\\daksh\\anaconda3\\lib\\site-packages (from requests->webdriver-manager) (3.2)\n",
      "Requirement already satisfied: urllib3<1.27,>=1.21.1 in c:\\users\\daksh\\anaconda3\\lib\\site-packages (from requests->webdriver-manager) (1.26.7)\n",
      "Requirement already satisfied: colorama in c:\\users\\daksh\\anaconda3\\lib\\site-packages (from tqdm->webdriver-manager) (0.4.4)\n",
      "\n"
     ]
    }
   ],
   "source": [
    "pip install webdriver-manager"
   ]
  },
  {
   "cell_type": "code",
   "execution_count": 7,
   "id": "f5f1bff8",
   "metadata": {},
   "outputs": [
    {
     "name": "stderr",
     "output_type": "stream",
     "text": [
      "C:\\Users\\daksh\\AppData\\Local\\Temp/ipykernel_17772/2160715986.py:4: DeprecationWarning: executable_path has been deprecated, please pass in a Service object\n",
      "  driver = webdriver.Chrome(ChromeDriverManager().install())\n"
     ]
    }
   ],
   "source": [
    "from selenium import webdriver\n",
    "from webdriver_manager.chrome import ChromeDriverManager\n",
    "\n",
    "driver = webdriver.Chrome(ChromeDriverManager().install())"
   ]
  },
  {
   "cell_type": "code",
   "execution_count": 8,
   "id": "81af5958",
   "metadata": {},
   "outputs": [],
   "source": [
    "from selenium.webdriver.common.by import By"
   ]
  },
  {
   "cell_type": "code",
   "execution_count": 9,
   "id": "004b1d0a",
   "metadata": {},
   "outputs": [],
   "source": [
    "def click(p):\n",
    "  try:\n",
    "    p.click()\n",
    "  except:\n",
    "    pass"
   ]
  },
  {
   "cell_type": "code",
   "execution_count": 35,
   "id": "12a0697b",
   "metadata": {},
   "outputs": [],
   "source": [
    "containers = []\n",
    "for i in range(50):\n",
    "  url = f'https://www.amazon.in/Samsung-Galaxy-Cloud-128GB-Storage/product-reviews/B08VB57558/ref=cm_cr_arp_d_paging_btm_2?ie=UTF8&pageNumber={i+1}&reviewerType=all_reviews'\n",
    "  driver.get(url)\n",
    "  \n",
    "  containers += [x.get_attribute('innerHTML') for x in driver.find_elements(By.XPATH,\"//div[@class='a-section celwidget']\")]"
   ]
  },
  {
   "cell_type": "code",
   "execution_count": 36,
   "id": "4c23786b",
   "metadata": {},
   "outputs": [
    {
     "data": {
      "text/plain": [
       "500"
      ]
     },
     "execution_count": 36,
     "metadata": {},
     "output_type": "execute_result"
    }
   ],
   "source": [
    "len(containers)"
   ]
  },
  {
   "cell_type": "code",
   "execution_count": 37,
   "id": "04bb9923",
   "metadata": {},
   "outputs": [
    {
     "data": {
      "text/plain": [
       "'<div data-hook=\"genome-widget\" class=\"a-row a-spacing-mini\"><a href=\"/gp/profile/amzn1.account.AEGEOVAES62OFGQTSPSDSQ5U7SHA/ref=cm_cr_arp_d_gw_btm?ie=UTF8\" class=\"a-profile\" data-a-size=\"small\"><div aria-hidden=\"true\" class=\"a-profile-avatar-wrapper\"><div class=\"a-profile-avatar\"><img src=\"https://images-na.ssl-images-amazon.com/images/G/01/x-locale/common/grey-pixel.gif\" class=\"a-lazy-loaded\" data-src=\"https://images-eu.ssl-images-amazon.com/images/S/amazon-avatars-global/default._CR0,0,1024,1024_SX48_.png\"><noscript><img src=\"https://images-eu.ssl-images-amazon.com/images/S/amazon-avatars-global/default._CR0,0,1024,1024_SX48_.png\"/></noscript></div></div><div class=\"a-profile-content\"><span class=\"a-profile-name\">Mohammed Suhail</span></div></a></div><div class=\"a-row\"><a class=\"a-link-normal\" title=\"5.0 out of 5 stars\" href=\"/gp/customer-reviews/R3R5DS04EXELTJ/ref=cm_cr_arp_d_rvw_ttl?ie=UTF8&amp;ASIN=B08VB57558\"><i data-hook=\"review-star-rating\" class=\"a-icon a-icon-star a-star-5 review-rating\"><span class=\"a-icon-alt\">5.0 out of 5 stars</span></i></a><span class=\"a-letter-space\"></span><a data-hook=\"review-title\" class=\"a-size-base a-link-normal review-title a-color-base review-title-content a-text-bold\" href=\"/gp/customer-reviews/R3R5DS04EXELTJ/ref=cm_cr_arp_d_rvw_ttl?ie=UTF8&amp;ASIN=B08VB57558\">\\n\\n\\n\\n\\n\\n\\n\\n  \\n  \\n    <span>WORTH BUY ! THE BEST</span>\\n  \\n</a></div><span data-hook=\"review-date\" class=\"a-size-base a-color-secondary review-date\">Reviewed in India on 27 August 2021</span><div class=\"a-row a-spacing-mini review-data review-format-strip\"><a data-hook=\"format-strip\" class=\"a-size-mini a-link-normal a-color-secondary\" href=\"/Samsung-Galaxy-Cloud-128GB-Storage/product-reviews/B08VB57558/ref=cm_cr_arp_d_rvw_fmt?ie=UTF8&amp;formatType=current_format\">Colour: Cloud Navy<i class=\"a-icon a-icon-text-separator\" role=\"img\" aria-label=\"|\"></i>Size name: 8GB<i class=\"a-icon a-icon-text-separator\" role=\"img\" aria-label=\"|\"></i>Style name: With offer</a><i class=\"a-icon a-icon-text-separator\" role=\"img\" aria-label=\"|\"></i><span class=\"a-declarative\" data-action=\"reviews:filter-action:push-state\" data-csa-c-type=\"widget\" data-csa-c-func-deps=\"aui-da-reviews:filter-action:push-state\" data-reviews:filter-action:push-state=\"{}\"><a data-reftag=\"cm_cr_arp_d_rvw_rvwer\" data-reviews-state-param=\"{&quot;pageNumber&quot;:&quot;1&quot;,&quot;reviewerType&quot;:&quot;avp_only_reviews&quot;}\" class=\"a-link-normal\" href=\"/Samsung-Galaxy-Cloud-128GB-Storage/product-reviews/B08VB57558/ref=cm_cr_arp_d_rvw_rvwer?ie=UTF8&amp;reviewerType=avp_only_reviews\"><span data-hook=\"avp-badge\" class=\"a-size-mini a-color-state a-text-bold\">Verified Purchase</span></a></span></div><div class=\"a-row a-spacing-small review-data\"><span data-hook=\"review-body\" class=\"a-size-base review-text review-text-content\">\\n\\n\\n\\n\\n\\n\\n\\n  \\n  \\n    <span>It\\'s been 15 days since i using the device extensively.<br>I bought it on the Last freedom sale for Rs. 41,999 ( including 6k instant discount coupon).<br>First let me be clear , I bought \\' S20 FE 5G \\'with Snapdragon 865 , not \\' S20 FE with Exynos \\' and i am a user who uses phone most of the time .<br>This review may be long but it\\'s worth to read it if you\\'re buying this product.<br>Let me divide between the Pros and Cons.<br>First i would like like to start with Pros of the Device ,<br>Pros :<br>1. Display :<br>Samsung has been already popular for it\\'s AMOLED Displays but i saw some of the reviewers wrote about some display issues here . They might have got some defective Piece. I have no issues with my display . It\\'s been long time i saw a great display like this ... with 120Hz it is Super Smooth.<br>Also , it is very bright on outdoors and can decrease it to very low while using at low light conditions ( PS : No tint issues )<br>The in display finger print scanner is very fast and didn\\'t faced any issues with it .<br><br>2. Stereo Speakers :<br>As an extensive multimedia user , this is one of the most favorable feature for me.<br>Believe me , you can\\'t find any other device with such great Sound quality in this price segment , it\\'s almost like flagship devices ..<br>Both the speakers are adequately loud.<br><br>3. Battery :<br>As a person who\\'s shifting from a normal 60Hz Device phone , i was very worried about the battery life of this device at 120Hz but it surprised me very well ..<br>Initially i thought i would need to switch to 60Hz for better battery life for daily usage.<br>But I didn\\'t even thought this device would give this much great battery life at 120Hz.<br>At 120Hz , I am getting around 7 hours of minimum SOT ( Screen on Time ).<br>The maximum SOT i got at 120Hz is 9Hours 13 minutes.<br>I didn\\'t checked battery life at 60Hz because i didn\\'t use it at 60Hz even a single day . The battery life is Excellent.<br><br>4. Rear Cameras :<br>I am not a very good photographer or something , i am just an ordinary person who use camera occasionally.<br>I was very excited to use the telephoto lens which only can be found on flagship devices and it performs very well..<br>Added Some Camera Samples above ( Pic 1 : Ultrawide , Pic 2 : Telephoto [ Pic may not be clear as it was when taken due to compression of the image while uploading )<br>Both the three Cameras ( Primary + Ultrawide + Telephoto ) performs very well.<br>If you\\'re a camera guy you should definitely check this out.<br><br>5. Performance &amp; RAM Management :<br>I\\'m not a gamer , I use my device for daily usage of social media , ott platforms , Calls , messages etc. but i use it extremely.<br>I didn\\'t faced any kind of heating issues with the device until now.<br>Also ,Ram management of the Device is excellent , I am a person who uses 4-5 apps<br>background at single time and i didn\\'t have any issues of closing down the apps .<br><br>6. ONE UI :<br>I was a stock Android guy , but One UI actually surprised me , it is very well optimised and very user-friendly for single hand usage..<br>initial days i found it little hard to use the stock menu of one Ui but I\\'m now got used to it.<br>PS : I didn\\'t found any kind of ads on my device as i didn\\'t sign up or used any samsung Apps.<br><br>7. Build Quality :<br>Even though its back is made up of plastic , the overall build quality is super Premium the Aluminium frame gives us a feel like using a flagship device..<br><br>8. Future Proof :<br>  The device has 9 5G Bands , IP68 Rating , Wireless Charging which are very hard to find on any device in this price bracket.<br>IP68 &amp; Wireless Charging are mostly only found on Flagship Devices . Its good to see samsung brings it at lower price.<br>This is the best future proof device as of now.<br><br>So these are the Major pros i noticed as of now .<br>Now let\\'s move to the Cons.<br><br>Cons :<br>1. NO HDR SUPPORT ON NETFLIX :<br>  As an extensive multimedia user , i found it very frustrating. even mid range devices offering HDR support on Netflix , Samsungs Flagship Killer doesn\\'t have HDR support.<br>IT WILL NOT BE FIXED VIA OTA UPDATE .<br><br>2. No 256GB Variant :<br>  This is actually not a problem for most of the people but as a power user who uses Dual sim , i found it little difficult.<br>But if you\\'re a single sim user , luckily it have hybrid solution ..<br>so you can use a Sim card + expandable memory card ...<br><br>3. Gorilla Glass 3 :<br>  Other competitors are providing atleast GG5 in this price range. But S20 FE 5G has just GG3 ( Which also I\\'m not sure as it is not mentioned officially anywhere ).<br>But at the end of the day , GLASS IS GLASS &amp; IT WILL BROKE.<br><br>4. No headphone Jack :<br>  It is not any kind of unusual thing .<br>most of the phones above 30K segment doesn\\'t have headphone jack.<br>So we have to buy 3.5mm to Type C adapter , type c earphones or bluetooth solutions .<br>Note : Only Buy original Samsung type c adapter else it may not support.<br><br>5. No 25W charger :<br>  It is not actually a con for me as i prefer Low watt charger which is good for battery health and beneficial for long term usage .<br>but it may be a con for you ,<br>  Although the device supports 25W charging . Only 15W charger is provided inside the box .. They should have given 25W inside the box.<br>I didn\\'t have any issues with 15W charger but it would be great if they bundle it with 25W as competitors are way ahead in terms of charging speed.<br>For the reference of Charging speed ,<br>Both 15W &amp; 25W will full charge the device almost at the same time but using 25W you can get about 50% within 30 minutes where as 30% with 15W charger.<br>Full charge time i usually takes is 1hour and 35 minutes.<br><br>6. Front Camera :<br>  I am not a selfie guy , but if you\\'re a person who\\'s looking for a selfie device just don\\'t buy it . it\\'s not like the front camera quality is really bad or anything but it\\'s not even near to the rear camera quality and you can find better selfie smartphones in this price range<br><br>CONCLUSION :<br>If you\\'re a person who wants a device for normal day to day usage with good battery life , great rear cameras , great performance , better software support , better build quality and use it for more than 3 years &amp; the cons mentioned above doesn\\'t bother you<br>Just buy it , I am sure you won\\'t be disappointed.</span>\\n  \\n</span></div><div class=\"a-popover-preload\" id=\"a-popover-R3R5DS04EXELTJ_gallerySection_main\">\\n\\n\\n\\n\\n\\n\\n\\n\\n\\n\\n\\n \\n  \\t\\t \\n\\n\\n<div id=\"R3R5DS04EXELTJ_image_popover\" data-hook=\"image-popover\" class=\"a-section cr-lightbox-popover-container\">\\n\\n    \\n        \\n        \\n            <div class=\"cr-lightbox-image-viewer\">\\n        <div class=\"cr-lightbox-main-image-container\">\\n            <img alt=\"Customer image\" src=\"https://images-na.ssl-images-amazon.com/images/G/01/x-locale/common/transparent-pixel._V192234675_.gif\" class=\"cr-lightbox-main-image\">\\n        </div>\\n        <div class=\"cr-lightbox-navigator-container cr-lightbox-navigator-container__back\">\\n            <div class=\"cr-lightbox-navigator-button cr-lightbox-navigator-button__back\">\\n            </div>\\n        </div>\\n        <div class=\"cr-lightbox-navigator-container cr-lightbox-navigator-container__next\">\\n            <div class=\"cr-lightbox-navigator-button cr-lightbox-navigator-button__next\">\\n            </div>\\n        </div>\\n    </div>\\n    <div class=\"a-section cr-lightbox-review-information\">\\n        <div class=\"a-section a-spacing-mini cr-review-stars-and-title\">\\n\\n            \\n\\n            <i class=\"a-icon a-icon-star a-star-5 cr-lightbox-review-rating\"><span class=\"a-icon-alt\">5.0 out of 5 stars</span></i>\\n            <span class=\"a-size-base cr-lightbox-review-title a-text-bold\">\\n                WORTH BUY ! THE BEST\\n            </span>\\n            <br>\\n            <span class=\"a-size-small a-color-secondary cr-lightbox-review-origin\">\\n                \\n                    \\n                    \\n                        \\n                            \\n                                By Mohammed Suhail on 27 August 2021\\n                            \\n                            \\n                        \\n                    \\n                \\n            </span>\\n        </div>\\n        <span class=\"a-size-base cr-lightbox-review-body\">\\n            It\\'s been 15 days since i using the device extensively.<br>I bought it on the Last freedom sale for Rs. 41,999 ( including 6k instant discount coupon).<br>First let me be clear , I bought \\' S20 FE 5G \\'with Snapdragon 865 , not \\' S20 FE with Exynos \\' and i am a user who uses phone most of the time .<br>This review may be long but it\\'s worth to read it if you\\'re buying this product.<br>Let me divide between the Pros and Cons.<br>First i would like like to start with Pros of the Device ,<br>Pros :<br>1. Display :<br>Samsung has been already popular for it\\'s AMOLED Displays but i saw some of the reviewers wrote about some display issues here . They might have got some defective Piece. I have no issues with my display . It\\'s been long time i saw a great display like this ... with 120Hz it is Super Smooth.<br>Also , it is very bright on outdoors and can decrease it to very low while using at low light conditions ( PS : No tint issues )<br>The in display finger print scanner is very fast and didn\\'t faced any issues with it .<br><br>2. Stereo Speakers :<br>As an extensive multimedia user , this is one of the most favorable feature for me.<br>Believe me , you can\\'t find any other device with such great Sound quality in this price segment , it\\'s almost like flagship devices ..<br>Both the speakers are adequately loud.<br><br>3. Battery :<br>As a person who\\'s shifting from a normal 60Hz Device phone , i was very worried about the battery life of this device at 120Hz but it surprised me very well ..<br>Initially i thought i would need to switch to 60Hz for better battery life for daily usage.<br>But I didn\\'t even thought this device would give this much great battery life at 120Hz.<br>At 120Hz , I am getting around 7 hours of minimum SOT ( Screen on Time ).<br>The maximum SOT i got at 120Hz is 9Hours 13 minutes.<br>I didn\\'t checked battery life at 60Hz because i didn\\'t use it at 60Hz even a single day . The battery life is Excellent.<br><br>4. Rear Cameras :<br>I am not a very good photographer or something , i am just an ordinary person who use camera occasionally.<br>I was very excited to use the telephoto lens which only can be found on flagship devices and it performs very well..<br>Added Some Camera Samples above ( Pic 1 : Ultrawide , Pic 2 : Telephoto [ Pic may not be clear as it was when taken due to compression of the image while uploading )<br>Both the three Cameras ( Primary + Ultrawide + Telephoto ) performs very well.<br>If you\\'re a camera guy you should definitely check this out.<br><br>5. Performance &amp; RAM Management :<br>I\\'m not a gamer , I use my device for daily usage of social media , ott platforms , Calls , messages etc. but i use it extremely.<br>I didn\\'t faced any kind of heating issues with the device until now.<br>Also ,Ram management of the Device is excellent , I am a person who uses 4-5 apps<br>background at single time and i didn\\'t have any issues of closing down the apps .<br><br>6. ONE UI :<br>I was a stock Android guy , but One UI actually surprised me , it is very well optimised and very user-friendly for single hand usage..<br>initial days i found it little hard to use the stock menu of one Ui but I\\'m now got used to it.<br>PS : I didn\\'t found any kind of ads on my device as i didn\\'t sign up or used any samsung Apps.<br><br>7. Build Quality :<br>Even though its back is made up of plastic , the overall build quality is super Premium the Aluminium frame gives us a feel like using a flagship device..<br><br>8. Future Proof :<br>  The device has 9 5G Bands , IP68 Rating , Wireless Charging which are very hard to find on any device in this price bracket.<br>IP68 &amp; Wireless Charging are mostly only found on Flagship Devices . Its good to see samsung brings it at lower price.<br>This is the best future proof device as of now.<br><br>So these are the Major pros i noticed as of now .<br>Now let\\'s move to the Cons.<br><br>Cons :<br>1. NO HDR SUPPORT ON NETFLIX :<br>  As an extensive multimedia user , i found it very frustrating. even mid range devices offering HDR support on Netflix , Samsungs Flagship Killer doesn\\'t have HDR support.<br>IT WILL NOT BE FIXED VIA OTA UPDATE .<br><br>2. No 256GB Variant :<br>  This is actually not a problem for most of the people but as a power user who uses Dual sim , i found it little difficult.<br>But if you\\'re a single sim user , luckily it have hybrid solution ..<br>so you can use a Sim card + expandable memory card ...<br><br>3. Gorilla Glass 3 :<br>  Other competitors are providing atleast GG5 in this price range. But S20 FE 5G has just GG3 ( Which also I\\'m not sure as it is not mentioned officially anywhere ).<br>But at the end of the day , GLASS IS GLASS &amp; IT WILL BROKE.<br><br>4. No headphone Jack :<br>  It is not any kind of unusual thing .<br>most of the phones above 30K segment doesn\\'t have headphone jack.<br>So we have to buy 3.5mm to Type C adapter , type c earphones or bluetooth solutions .<br>Note : Only Buy original Samsung type c adapter else it may not support.<br><br>5. No 25W charger :<br>  It is not actually a con for me as i prefer Low watt charger which is good for battery health and beneficial for long term usage .<br>but it may be a con for you ,<br>  Although the device supports 25W charging . Only 15W charger is provided inside the box .. They should have given 25W inside the box.<br>I didn\\'t have any issues with 15W charger but it would be great if they bundle it with 25W as competitors are way ahead in terms of charging speed.<br>For the reference of Charging speed ,<br>Both 15W &amp; 25W will full charge the device almost at the same time but using 25W you can get about 50% within 30 minutes where as 30% with 15W charger.<br>Full charge time i usually takes is 1hour and 35 minutes.<br><br>6. Front Camera :<br>  I am not a selfie guy , but if you\\'re a person who\\'s looking for a selfie device just don\\'t buy it . it\\'s not like the front camera quality is really bad or anything but it\\'s not even near to the rear camera quality and you can find better selfie smartphones in this price range<br><br>CONCLUSION :<br>If you\\'re a person who wants a device for normal day to day usage with good battery life , great rear cameras , great performance , better software support , better build quality and use it for more than 3 years &amp; the cons mentioned above doesn\\'t bother you<br>Just buy it , I am sure you won\\'t be disappointed.\\n        </span>\\n        <div class=\"a-section a-spacing-top-base\">\\n            <span class=\"a-size-medium a-color-secondary\">\\n                Images in this review \\n            </span>\\n            <div class=\"a-section a-spacing-top-mini cr-lightbox-image-thumbnails\">\\n                \\n                    \\n                        <img alt=\"Customer image\" src=\"https://m.media-amazon.com/images/I/61nlJ273xiL._SY88.jpg\" class=\"cr-lightbox-image-thumbnail\">\\n                    \\n                        <img alt=\"Customer image\" src=\"https://m.media-amazon.com/images/I/71U1W7hdcmL._SY88.jpg\" class=\"cr-lightbox-image-thumbnail\">\\n                    \\n                \\n            </div>\\n        </div>\\n    </div>\\n        \\n    \\n</div>\\n\\n\\n\\n<script>\\n   function toggleSeeAllView() {\\n       P.when(\\'A\\', \\'cr-image-popover-controller\\').execute(function(A, imagePopoverController) {\\n          imagePopoverController.toggleSeeAllView(true);\\n       });\\n   }\\n</script>\\n</div><div id=\"R3R5DS04EXELTJ_imageSection_main\" class=\"a-section a-spacing-medium review-image-container\"><div class=\"review-image-tile-section\" data-reviewid=\"R3R5DS04EXELTJ\">\\n       <span class=\"a-declarative\" data-action=\"a-modal\" data-csa-c-type=\"widget\" data-csa-c-func-deps=\"aui-da-a-modal\" data-a-modal=\"{&quot;name&quot;:&quot;R3R5DS04EXELTJ_gallerySection_main&quot;}\" id=\"R3R5DS04EXELTJ-0\"><a href=\"javascript:void(0)\" role=\"button\" class=\"a-popover-trigger a-declarative\"><img alt=\"Customer image\" src=\"https://m.media-amazon.com/images/I/61nlJ273xiL._SY88.jpg\" data-hook=\"review-image-tile\" class=\"review-image-tile\" height=\"88\" width=\"100%\"><i class=\"a-icon a-icon-popover\"></i></a></span><span class=\"a-declarative\" data-action=\"a-modal\" data-csa-c-type=\"widget\" data-csa-c-func-deps=\"aui-da-a-modal\" data-a-modal=\"{&quot;name&quot;:&quot;R3R5DS04EXELTJ_gallerySection_main&quot;}\" id=\"R3R5DS04EXELTJ-1\"><a href=\"javascript:void(0)\" role=\"button\" class=\"a-popover-trigger a-declarative\"><img alt=\"Customer image\" src=\"https://m.media-amazon.com/images/I/71U1W7hdcmL._SY88.jpg\" data-hook=\"review-image-tile\" class=\"review-image-tile\" height=\"88\" width=\"100%\"><i class=\"a-icon a-icon-popover\"></i></a></span></div>\\n</div><script>\\n        P.when(\\'A\\', \\'cr-image-popover-controller\\').execute(function(A, imagePopoverController) {\\n          A.on(\"a:popover:beforeShow:R3R5DS04EXELTJ_gallerySection_main\", function(data) {\\n            imagePopoverController.initImagePopover(\"R3R5DS04EXELTJ\", \"[https://m.media-amazon.com/images/I/61nlJ273xiL._SL1600_.jpg, https://m.media-amazon.com/images/I/71U1W7hdcmL._SL1600_.jpg]\", data);\\n          });\\n        });\\n    </script>\\n<div class=\"a-row review-comments comments-for-R3R5DS04EXELTJ\"><div data-reftag=\"cm_cr_arp_d_cmt_opn\" data-a-expander-name=\"review_comment_expander\" class=\"a-row a-expander-container a-expander-inline-container cr-vote-action-bar\"><span class=\"cr-vote\" data-hook=\"review-voting-widget\">\\n  <div class=\"a-row a-spacing-small\"><span data-hook=\"helpful-vote-statement\" class=\"a-size-base a-color-tertiary cr-vote-text\">435 people found this helpful</span></div><div class=\"cr-helpful-button aok-float-left\">\\n      <span class=\"a-button a-button-base\"><span class=\"a-button-inner\"><a href=\"https://www.amazon.in/ap/signin?openid.return_to=https%3A%2F%2Fwww.amazon.in%2FSamsung-Galaxy-Cloud-128GB-Storage%2Fproduct-reviews%2FB08VB57558%2Fref%3Dcm_cr_arp_d_vote_lft%3Fie%3DUTF8%26reviewerType%3Dall_reviews%26csrfT%3DhA4LyUQ5gcU%252BHtg7i7JPPuu%252BiEk%252B60bVYO4%252BOohzlnZ8AAAAAGMyBkoAAAAB%26reviewId%3DR3R5DS04EXELTJ&amp;openid.identity=http%3A%2F%2Fspecs.openid.net%2Fauth%2F2.0%2Fidentifier_select&amp;openid.assoc_handle=inflex&amp;openid.mode=checkid_setup&amp;marketPlaceId=A21TJRUUN4KGV&amp;language=en&amp;openid.claimed_id=http%3A%2F%2Fspecs.openid.net%2Fauth%2F2.0%2Fidentifier_select&amp;openid.ns=http%3A%2F%2Fspecs.openid.net%2Fauth%2F2.0\" data-hook=\"vote-helpful-button\" class=\"a-button-text\"><div class=\"cr-helpful-text\">\\n          Helpful</div>\\n      </a></span></span></div>\\n  </span><span class=\"cr-footer-line-height\">\\n          <span><i class=\"a-icon a-icon-text-separator\" role=\"img\" aria-label=\"|\"></i><span class=\"a-declarative\" data-action=\"cr-popup\" data-csa-c-type=\"widget\" data-csa-c-func-deps=\"aui-da-cr-popup\" data-cr-popup=\"{&quot;width&quot;:&quot;580&quot;,&quot;title&quot;:&quot;ReportAbuse&quot;,&quot;url&quot;:&quot;/hz/reviews-render/report-review?ie=UTF8&amp;ref=cm_cr_arp_d_rvw_hlp&amp;csrfT=hA4LyUQ5gcU%2BHtg7i7JPPuu%2BiEk%2B60bVYO4%2BOohzlnZ8AAAAAGMyBkoAAAAB&amp;reviewId=R3R5DS04EXELTJ&quot;,&quot;height&quot;:&quot;380&quot;}\"><a class=\"a-size-base a-link-normal a-color-secondary report-abuse-link a-text-normal\" href=\"/hz/reviews-render/report-review?ie=UTF8&amp;ref=cm_cr_arp_d_rvw_hlp&amp;csrfT=hA4LyUQ5gcU%2BHtg7i7JPPuu%2BiEk%2B60bVYO4%2BOohzlnZ8AAAAAGMyBkoAAAAB&amp;reviewId=R3R5DS04EXELTJ\">Report abuse</a></span></span></span>\\n\\n        <div aria-expanded=\"false\" class=\"a-expander-content a-spacing-top-base a-spacing-large a-expander-inline-content a-expander-inner\" style=\"display:none\"><div class=\"a-row a-spacing-mini review-comments-header aok-hidden\"><ul class=\"a-viewoptions-list a-viewoptions-section a-span12\">\\n    <div class=\"a-row a-spacing-none a-grid-vertical-align a-grid-center\"><div class=\"a-column a-span6\"><span class=\"a-size-base a-viewoptions-list-label\">Showing <span class=\"review-comment-count\">0</span> comments</span></div></div></ul>\\n</div><div class=\"a-section a-spacing-extra-large a-spacing-top-medium a-text-center comment-load-error aok-hidden\"><div class=\"a-box a-alert a-alert-error cr-error\" role=\"alert\"><div class=\"a-box-inner a-alert-container\"><h4 class=\"a-alert-heading\">There was a problem loading comments right now. Please try again later.</h4><i class=\"a-icon a-icon-alert\"></i><div class=\"a-alert-content\"></div></div></div></div><div class=\"a-section a-spacing-none review-comments\"></div><div class=\"a-spinner-wrapper comment-loading aok-hidden a-spacing-top-medium a-spacing-extra-large\"><span class=\"a-spinner a-spinner-medium\"></span></div><hr aria-hidden=\"true\" class=\"a-spacing-none a-spacing-top-large a-divider-normal\"></div></div></div>'"
      ]
     },
     "execution_count": 37,
     "metadata": {},
     "output_type": "execute_result"
    }
   ],
   "source": [
    "containers[0]"
   ]
  },
  {
   "cell_type": "code",
   "execution_count": 38,
   "id": "1a39d875",
   "metadata": {},
   "outputs": [],
   "source": [
    "import numpy as np\n",
    "import re"
   ]
  },
  {
   "cell_type": "code",
   "execution_count": 39,
   "id": "0c5f5b3d",
   "metadata": {},
   "outputs": [],
   "source": [
    "reviews = []\n",
    "ratings = []\n",
    "for container in containers:\n",
    "  bsObj = BeautifulSoup(container)\n",
    "  rev = bsObj.find('div',attrs={'class':'a-row a-spacing-small review-data'}).text\n",
    "  rev = re.sub(\"\\n\",'',rev)\n",
    "  reviews.append(rev)\n",
    "\n",
    "  try:\n",
    "    r = bsObj.find('span',attrs={'class':'a-icon-alt'}).text\n",
    "    r = re.sub(\" out of 5 stars\",'',r)\n",
    "    ratings.append(float(r))\n",
    "  except:\n",
    "    ratings.append(np.nan)"
   ]
  },
  {
   "cell_type": "code",
   "execution_count": 40,
   "id": "aa6b14d6",
   "metadata": {},
   "outputs": [
    {
     "data": {
      "text/plain": [
       "\"It's been 15 days since i using the device extensively.I bought it on the Last freedom sale for Rs. 41,999 ( including 6k instant discount coupon).First let me be clear , I bought ' S20 FE 5G 'with Snapdragon 865 , not ' S20 FE with Exynos ' and i am a user who uses phone most of the time .This review may be long but it's worth to read it if you're buying this product.Let me divide between the Pros and Cons.First i would like like to start with Pros of the Device ,Pros :1. Display :Samsung has been already popular for it's AMOLED Displays but i saw some of the reviewers wrote about some display issues here . They might have got some defective Piece. I have no issues with my display . It's been long time i saw a great display like this ... with 120Hz it is Super Smooth.Also , it is very bright on outdoors and can decrease it to very low while using at low light conditions ( PS : No tint issues )The in display finger print scanner is very fast and didn't faced any issues with it .2. Stereo Speakers :As an extensive multimedia user , this is one of the most favorable feature for me.Believe me , you can't find any other device with such great Sound quality in this price segment , it's almost like flagship devices ..Both the speakers are adequately loud.3. Battery :As a person who's shifting from a normal 60Hz Device phone , i was very worried about the battery life of this device at 120Hz but it surprised me very well ..Initially i thought i would need to switch to 60Hz for better battery life for daily usage.But I didn't even thought this device would give this much great battery life at 120Hz.At 120Hz , I am getting around 7 hours of minimum SOT ( Screen on Time ).The maximum SOT i got at 120Hz is 9Hours 13 minutes.I didn't checked battery life at 60Hz because i didn't use it at 60Hz even a single day . The battery life is Excellent.4. Rear Cameras :I am not a very good photographer or something , i am just an ordinary person who use camera occasionally.I was very excited to use the telephoto lens which only can be found on flagship devices and it performs very well..Added Some Camera Samples above ( Pic 1 : Ultrawide , Pic 2 : Telephoto [ Pic may not be clear as it was when taken due to compression of the image while uploading )Both the three Cameras ( Primary + Ultrawide + Telephoto ) performs very well.If you're a camera guy you should definitely check this out.5. Performance & RAM Management :I'm not a gamer , I use my device for daily usage of social media , ott platforms , Calls , messages etc. but i use it extremely.I didn't faced any kind of heating issues with the device until now.Also ,Ram management of the Device is excellent , I am a person who uses 4-5 appsbackground at single time and i didn't have any issues of closing down the apps .6. ONE UI :I was a stock Android guy , but One UI actually surprised me , it is very well optimised and very user-friendly for single hand usage..initial days i found it little hard to use the stock menu of one Ui but I'm now got used to it.PS : I didn't found any kind of ads on my device as i didn't sign up or used any samsung Apps.7. Build Quality :Even though its back is made up of plastic , the overall build quality is super Premium the Aluminium frame gives us a feel like using a flagship device..8. Future Proof :  The device has 9 5G Bands , IP68 Rating , Wireless Charging which are very hard to find on any device in this price bracket.IP68 & Wireless Charging are mostly only found on Flagship Devices . Its good to see samsung brings it at lower price.This is the best future proof device as of now.So these are the Major pros i noticed as of now .Now let's move to the Cons.Cons :1. NO HDR SUPPORT ON NETFLIX :  As an extensive multimedia user , i found it very frustrating. even mid range devices offering HDR support on Netflix , Samsungs Flagship Killer doesn't have HDR support.IT WILL NOT BE FIXED VIA OTA UPDATE .2. No 256GB Variant :  This is actually not a problem for most of the people but as a power user who uses Dual sim , i found it little difficult.But if you're a single sim user , luckily it have hybrid solution ..so you can use a Sim card + expandable memory card ...3. Gorilla Glass 3 :  Other competitors are providing atleast GG5 in this price range. But S20 FE 5G has just GG3 ( Which also I'm not sure as it is not mentioned officially anywhere ).But at the end of the day , GLASS IS GLASS & IT WILL BROKE.4. No headphone Jack :  It is not any kind of unusual thing .most of the phones above 30K segment doesn't have headphone jack.So we have to buy 3.5mm to Type C adapter , type c earphones or bluetooth solutions .Note : Only Buy original Samsung type c adapter else it may not support.5. No 25W charger :  It is not actually a con for me as i prefer Low watt charger which is good for battery health and beneficial for long term usage .but it may be a con for you ,  Although the device supports 25W charging . Only 15W charger is provided inside the box .. They should have given 25W inside the box.I didn't have any issues with 15W charger but it would be great if they bundle it with 25W as competitors are way ahead in terms of charging speed.For the reference of Charging speed ,Both 15W & 25W will full charge the device almost at the same time but using 25W you can get about 50% within 30 minutes where as 30% with 15W charger.Full charge time i usually takes is 1hour and 35 minutes.6. Front Camera :  I am not a selfie guy , but if you're a person who's looking for a selfie device just don't buy it . it's not like the front camera quality is really bad or anything but it's not even near to the rear camera quality and you can find better selfie smartphones in this price rangeCONCLUSION :If you're a person who wants a device for normal day to day usage with good battery life , great rear cameras , great performance , better software support , better build quality and use it for more than 3 years & the cons mentioned above doesn't bother youJust buy it , I am sure you won't be disappointed.\""
      ]
     },
     "execution_count": 40,
     "metadata": {},
     "output_type": "execute_result"
    }
   ],
   "source": [
    "reviews[0]"
   ]
  },
  {
   "cell_type": "code",
   "execution_count": 41,
   "id": "8a142e66",
   "metadata": {},
   "outputs": [
    {
     "data": {
      "text/plain": [
       "[5.0,\n",
       " 4.0,\n",
       " 5.0,\n",
       " 4.0,\n",
       " 4.0,\n",
       " 4.0,\n",
       " 4.0,\n",
       " 4.0,\n",
       " 4.0,\n",
       " 4.0,\n",
       " 4.0,\n",
       " 4.0,\n",
       " 4.0,\n",
       " 4.0,\n",
       " 4.0,\n",
       " 4.0,\n",
       " 5.0,\n",
       " 5.0,\n",
       " 4.0,\n",
       " 4.0]"
      ]
     },
     "execution_count": 41,
     "metadata": {},
     "output_type": "execute_result"
    }
   ],
   "source": [
    "ratings[:20]"
   ]
  },
  {
   "cell_type": "code",
   "execution_count": 42,
   "id": "3b1b9b84",
   "metadata": {},
   "outputs": [],
   "source": [
    "import pandas as pd\n",
    "df = pd.DataFrame(columns=['Reviews','Ratings'])\n",
    "df['Reviews'] = reviews\n",
    "df['Ratings'] = ratings"
   ]
  },
  {
   "cell_type": "code",
   "execution_count": 43,
   "id": "30a463ec",
   "metadata": {},
   "outputs": [
    {
     "data": {
      "text/html": [
       "<div>\n",
       "<style scoped>\n",
       "    .dataframe tbody tr th:only-of-type {\n",
       "        vertical-align: middle;\n",
       "    }\n",
       "\n",
       "    .dataframe tbody tr th {\n",
       "        vertical-align: top;\n",
       "    }\n",
       "\n",
       "    .dataframe thead th {\n",
       "        text-align: right;\n",
       "    }\n",
       "</style>\n",
       "<table border=\"1\" class=\"dataframe\">\n",
       "  <thead>\n",
       "    <tr style=\"text-align: right;\">\n",
       "      <th></th>\n",
       "      <th>Reviews</th>\n",
       "      <th>Ratings</th>\n",
       "    </tr>\n",
       "  </thead>\n",
       "  <tbody>\n",
       "    <tr>\n",
       "      <th>0</th>\n",
       "      <td>It's been 15 days since i using the device ext...</td>\n",
       "      <td>5.0</td>\n",
       "    </tr>\n",
       "    <tr>\n",
       "      <th>1</th>\n",
       "      <td>It's been about 15 days since I got this phone...</td>\n",
       "      <td>4.0</td>\n",
       "    </tr>\n",
       "    <tr>\n",
       "      <th>2</th>\n",
       "      <td>To begin with, I had to return the initial pro...</td>\n",
       "      <td>5.0</td>\n",
       "    </tr>\n",
       "    <tr>\n",
       "      <th>3</th>\n",
       "      <td>Its great phone, I gave it 4 stars becoz I mad...</td>\n",
       "      <td>4.0</td>\n",
       "    </tr>\n",
       "    <tr>\n",
       "      <th>4</th>\n",
       "      <td>A Good phone with a not-so-good battery. Listi...</td>\n",
       "      <td>4.0</td>\n",
       "    </tr>\n",
       "  </tbody>\n",
       "</table>\n",
       "</div>"
      ],
      "text/plain": [
       "                                             Reviews  Ratings\n",
       "0  It's been 15 days since i using the device ext...      5.0\n",
       "1  It's been about 15 days since I got this phone...      4.0\n",
       "2  To begin with, I had to return the initial pro...      5.0\n",
       "3  Its great phone, I gave it 4 stars becoz I mad...      4.0\n",
       "4  A Good phone with a not-so-good battery. Listi...      4.0"
      ]
     },
     "execution_count": 43,
     "metadata": {},
     "output_type": "execute_result"
    }
   ],
   "source": [
    "df.head()"
   ]
  },
  {
   "cell_type": "code",
   "execution_count": 1,
   "id": "48e6a7c1",
   "metadata": {},
   "outputs": [
    {
     "ename": "NameError",
     "evalue": "name 'df' is not defined",
     "output_type": "error",
     "traceback": [
      "\u001b[1;31m---------------------------------------------------------------------------\u001b[0m",
      "\u001b[1;31mNameError\u001b[0m                                 Traceback (most recent call last)",
      "\u001b[1;32m~\\AppData\\Local\\Temp/ipykernel_9224/3714853335.py\u001b[0m in \u001b[0;36m<module>\u001b[1;34m\u001b[0m\n\u001b[1;32m----> 1\u001b[1;33m \u001b[0mdf\u001b[0m\u001b[1;33m.\u001b[0m\u001b[0mto_excel\u001b[0m\u001b[1;33m(\u001b[0m\u001b[1;34m\"Samsung_Galaxy_S20_FE_5G_20220928.xlsx\"\u001b[0m\u001b[1;33m)\u001b[0m\u001b[1;33m\u001b[0m\u001b[1;33m\u001b[0m\u001b[0m\n\u001b[0m",
      "\u001b[1;31mNameError\u001b[0m: name 'df' is not defined"
     ]
    }
   ],
   "source": [
    "df.to_excel(\"Samsung_Galaxy_S20_FE_5G_20220928.xlsx\")"
   ]
  },
  {
   "cell_type": "code",
   "execution_count": null,
   "id": "475ab1d8",
   "metadata": {},
   "outputs": [],
   "source": []
  }
 ],
 "metadata": {
  "kernelspec": {
   "display_name": "Python 3 (ipykernel)",
   "language": "python",
   "name": "python3"
  },
  "language_info": {
   "codemirror_mode": {
    "name": "ipython",
    "version": 3
   },
   "file_extension": ".py",
   "mimetype": "text/x-python",
   "name": "python",
   "nbconvert_exporter": "python",
   "pygments_lexer": "ipython3",
   "version": "3.9.7"
  }
 },
 "nbformat": 4,
 "nbformat_minor": 5
}
