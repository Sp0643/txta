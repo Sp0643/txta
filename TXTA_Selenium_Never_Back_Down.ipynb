{
  "nbformat": 4,
  "nbformat_minor": 0,
  "metadata": {
    "colab": {
      "name": "TXTA Selenium- Never Back Down",
      "provenance": [],
      "collapsed_sections": []
    },
    "kernelspec": {
      "name": "python3",
      "display_name": "Python 3"
    },
    "language_info": {
      "name": "python"
    }
  },
  "cells": [
    {
      "cell_type": "code",
      "execution_count": 1,
      "metadata": {
        "colab": {
          "base_uri": "https://localhost:8080/"
        },
        "id": "xj4iuah5mYa8",
        "outputId": "fc1c92a6-8fe3-45c5-a44d-73cef6b87e4d"
      },
      "outputs": [
        {
          "output_type": "stream",
          "name": "stdout",
          "text": [
            "\u001b[K     |████████████████████████████████| 57 kB 2.9 MB/s \n",
            "\u001b[K     |████████████████████████████████| 1.6 MB 15.8 MB/s \n",
            "\u001b[?25h"
          ]
        }
      ],
      "source": [
        "!pip install kora -q"
      ]
    },
    {
      "cell_type": "code",
      "source": [
        "!pip install selenium -q"
      ],
      "metadata": {
        "id": "wNduXu_znGkb",
        "colab": {
          "base_uri": "https://localhost:8080/"
        },
        "outputId": "882a5319-fea5-4883-b897-72564777a832"
      },
      "execution_count": 2,
      "outputs": [
        {
          "output_type": "stream",
          "name": "stdout",
          "text": [
            "\u001b[K     |████████████████████████████████| 985 kB 7.0 MB/s \n",
            "\u001b[K     |████████████████████████████████| 358 kB 39.5 MB/s \n",
            "\u001b[K     |████████████████████████████████| 139 kB 55.0 MB/s \n",
            "\u001b[K     |████████████████████████████████| 4.1 MB 46.7 MB/s \n",
            "\u001b[K     |████████████████████████████████| 55 kB 2.7 MB/s \n",
            "\u001b[K     |████████████████████████████████| 58 kB 5.0 MB/s \n",
            "\u001b[31mERROR: pip's dependency resolver does not currently take into account all the packages that are installed. This behaviour is the source of the following dependency conflicts.\n",
            "requests 2.23.0 requires urllib3!=1.25.0,!=1.25.1,<1.26,>=1.21.1, but you have urllib3 1.26.11 which is incompatible.\u001b[0m\n",
            "\u001b[?25h"
          ]
        }
      ]
    },
    {
      "cell_type": "code",
      "source": [
        "from kora.selenium import wd as browser\n",
        "from selenium.webdriver.common.by import By\n",
        "import pandas as pd\n",
        "import time\n",
        "import numpy as np"
      ],
      "metadata": {
        "id": "Kdy2aUfRmhRs"
      },
      "execution_count": 3,
      "outputs": []
    },
    {
      "cell_type": "code",
      "source": [
        "url = \"https://www.imdb.com/title/tt1023111/reviews?ref_=tt_urv\""
      ],
      "metadata": {
        "id": "FjIUzCSgng8H"
      },
      "execution_count": 4,
      "outputs": []
    },
    {
      "cell_type": "code",
      "source": [
        "browser.get(url)"
      ],
      "metadata": {
        "id": "_3SmpIIGoTeb"
      },
      "execution_count": 5,
      "outputs": []
    },
    {
      "cell_type": "code",
      "source": [
        "for _ in range(5):\n",
        "  browser.find_element(By.XPATH, \"//button[@class='ipl-load-more__button']\").click()\n",
        "  time.sleep(4)"
      ],
      "metadata": {
        "id": "F-v10Ghzoej7"
      },
      "execution_count": 6,
      "outputs": []
    },
    {
      "cell_type": "code",
      "source": [
        "xx = browser.find_elements(By.XPATH, \"//div[@class='expander-icon-wrapper show-more__control']\")\n",
        "len(xx)"
      ],
      "metadata": {
        "colab": {
          "base_uri": "https://localhost:8080/"
        },
        "id": "H0nJGzkLrEQF",
        "outputId": "7a09b9f5-c3d0-4ce5-9958-411a9713b085"
      },
      "execution_count": 7,
      "outputs": [
        {
          "output_type": "execute_result",
          "data": {
            "text/plain": [
              "113"
            ]
          },
          "metadata": {},
          "execution_count": 7
        }
      ]
    },
    {
      "cell_type": "code",
      "source": [
        "yy = browser.find_elements(By.XPATH, \"//div[@class='expander-icon-wrapper spoiler-warning__control']\")\n",
        "len(yy)"
      ],
      "metadata": {
        "colab": {
          "base_uri": "https://localhost:8080/"
        },
        "id": "vG-LdRueso1m",
        "outputId": "ab63466b-0fff-4c1e-dbfa-dcb20c517963"
      },
      "execution_count": 8,
      "outputs": [
        {
          "output_type": "execute_result",
          "data": {
            "text/plain": [
              "37"
            ]
          },
          "metadata": {},
          "execution_count": 8
        }
      ]
    },
    {
      "cell_type": "code",
      "source": [
        "def click(p):\n",
        "  try:\n",
        "    p.click()\n",
        "  except:\n",
        "    pass"
      ],
      "metadata": {
        "id": "mtfiv7tJsqK8"
      },
      "execution_count": 9,
      "outputs": []
    },
    {
      "cell_type": "code",
      "source": [
        "d_x = [click(x) for x in xx]\n",
        "d_y = [click(y) for y in yy]"
      ],
      "metadata": {
        "id": "dC3P_Hk6uNlJ"
      },
      "execution_count": 10,
      "outputs": []
    },
    {
      "cell_type": "code",
      "source": [
        "containers = [x.get_attribute('innerHTML') for x in browser.find_elements(By.XPATH, \"//div[@class='review-container']\")]"
      ],
      "metadata": {
        "id": "9XNLzxpDuggQ"
      },
      "execution_count": 11,
      "outputs": []
    },
    {
      "cell_type": "code",
      "source": [
        "len(containers)"
      ],
      "metadata": {
        "colab": {
          "base_uri": "https://localhost:8080/"
        },
        "id": "NOtT18BnvyUI",
        "outputId": "57e75f2a-b625-4453-9fbe-467186a5e6f9"
      },
      "execution_count": 12,
      "outputs": [
        {
          "output_type": "execute_result",
          "data": {
            "text/plain": [
              "150"
            ]
          },
          "metadata": {},
          "execution_count": 12
        }
      ]
    },
    {
      "cell_type": "code",
      "source": [
        "containers[0]"
      ],
      "metadata": {
        "colab": {
          "base_uri": "https://localhost:8080/",
          "height": 227
        },
        "id": "iJZjvnR8wfXb",
        "outputId": "f12c6247-b5c0-44fa-a0ef-a064973125a3"
      },
      "execution_count": 13,
      "outputs": [
        {
          "output_type": "execute_result",
          "data": {
            "text/plain": [
              "'\\n        <div class=\"lister-item-content\">\\n    <div class=\"ipl-ratings-bar\">\\n            <span class=\"rating-other-user-rating\">\\n            <svg class=\"ipl-icon ipl-star-icon  \" xmlns=\"http://www.w3.org/2000/svg\" fill=\"#000000\" height=\"24\" viewBox=\"0 0 24 24\" width=\"24\">\\n                <path d=\"M0 0h24v24H0z\" fill=\"none\"></path>\\n                <path d=\"M12 17.27L18.18 21l-1.64-7.03L22 9.24l-7.19-.61L12 2 9.19 8.63 2 9.24l5.46 4.73L5.82 21z\"></path>\\n                <path d=\"M0 0h24v24H0z\" fill=\"none\"></path>\\n            </svg>\\n                <span>7</span><span class=\"point-scale\">/10</span>\\n            </span>\\n    </div>\\n<a href=\"/review/rw6919871/?ref_=tt_urv\" class=\"title\"> underappreciated\\n</a>            <div class=\"display-name-date\">\\n                    <span class=\"display-name-link\"><a href=\"/user/ur44112735/?ref_=tt_urv\">A_Different_Drummer</a></span><span class=\"review-date\">15 May 2021</span>\\n            </div>\\n            <div class=\"content\">\\n                <div class=\"text show-more__control\">Has the advantage of being the first film of its kind (before the franchise was dragged to the minors). It is bright, it is pretty, it is well produced and it holds the attention. A relic of a bygone era.</div>\\n                <div class=\"actions text-muted\">\\n                    13 out of 14 found this helpful.\\n                        <span>\\n                            Was this review helpful? <a href=\"/registration/signin?ref_=urv\"> Sign in</a> to vote.\\n                        </span>\\n                        <br>\\n                    <a href=\"/review/rw6919871/?ref_=tt_urv\">Permalink</a>\\n                </div>\\n            </div>\\n        </div>\\n        <div class=\"clear\"></div>\\n    '"
            ],
            "application/vnd.google.colaboratory.intrinsic+json": {
              "type": "string"
            }
          },
          "metadata": {},
          "execution_count": 13
        }
      ]
    },
    {
      "cell_type": "code",
      "source": [
        "from bs4 import BeautifulSoup\n",
        "import re"
      ],
      "metadata": {
        "id": "gUe9PILhv1A1"
      },
      "execution_count": 14,
      "outputs": []
    },
    {
      "cell_type": "code",
      "source": [
        "reviews = []\n",
        "ratings = []\n",
        "for container in containers:\n",
        "  bsObj = BeautifulSoup(container)\n",
        "  rev = bsObj.find('div', attrs = {'class':'text show-more__control'}).text\n",
        "  reviews.append(rev)\n",
        "\n",
        "  try:\n",
        "    r = bsObj.find('span', attrs = {'class':'rating-other-user-rating'}).text\n",
        "    r = re.sub(\"\\\\n\", '', r)\n",
        "    r = re.sub(\"/10\", '', r)\n",
        "    ratings.append(float(r))\n",
        "  except:\n",
        "    ratings.append(np.nan)"
      ],
      "metadata": {
        "id": "WopwWx5Uv_GW"
      },
      "execution_count": 15,
      "outputs": []
    },
    {
      "cell_type": "code",
      "source": [
        "df = pd.DataFrame(columns=['Reviews', 'Ratings'])\n",
        "df['Reviews'] = reviews\n",
        "df['Ratings'] = ratings\n",
        "\n",
        "df.head(10)"
      ],
      "metadata": {
        "colab": {
          "base_uri": "https://localhost:8080/",
          "height": 363
        },
        "id": "dAiJb_WXy1dP",
        "outputId": "b3d35245-b9f6-4f5e-a61a-963b789eac38"
      },
      "execution_count": 16,
      "outputs": [
        {
          "output_type": "execute_result",
          "data": {
            "text/plain": [
              "                                             Reviews  Ratings\n",
              "0  Has the advantage of being the first film of i...      7.0\n",
              "1  . . . Never Back Down was still a really great...      8.0\n",
              "2  Don't tap-out yet!From reading the title \"Neve...      6.0\n",
              "3  Honestly I don't know the answer. This has bee...      9.0\n",
              "4  Yes, it's just a revamped Karate Kid.But with ...      6.0\n",
              "5  If you weren't old enough to see movies and un...      3.0\n",
              "6  This is one more film with quite good idea. Th...      8.0\n",
              "7  Being a martial artist myself, i can understan...      9.0\n",
              "8  Perhaps my descriptive summary is unkind to th...      8.0\n",
              "9  The advertisements for this movie do it seriou...      7.0"
            ],
            "text/html": [
              "\n",
              "  <div id=\"df-ddffafc5-d9ca-4fa6-b115-5634d0d63de5\">\n",
              "    <div class=\"colab-df-container\">\n",
              "      <div>\n",
              "<style scoped>\n",
              "    .dataframe tbody tr th:only-of-type {\n",
              "        vertical-align: middle;\n",
              "    }\n",
              "\n",
              "    .dataframe tbody tr th {\n",
              "        vertical-align: top;\n",
              "    }\n",
              "\n",
              "    .dataframe thead th {\n",
              "        text-align: right;\n",
              "    }\n",
              "</style>\n",
              "<table border=\"1\" class=\"dataframe\">\n",
              "  <thead>\n",
              "    <tr style=\"text-align: right;\">\n",
              "      <th></th>\n",
              "      <th>Reviews</th>\n",
              "      <th>Ratings</th>\n",
              "    </tr>\n",
              "  </thead>\n",
              "  <tbody>\n",
              "    <tr>\n",
              "      <th>0</th>\n",
              "      <td>Has the advantage of being the first film of i...</td>\n",
              "      <td>7.0</td>\n",
              "    </tr>\n",
              "    <tr>\n",
              "      <th>1</th>\n",
              "      <td>. . . Never Back Down was still a really great...</td>\n",
              "      <td>8.0</td>\n",
              "    </tr>\n",
              "    <tr>\n",
              "      <th>2</th>\n",
              "      <td>Don't tap-out yet!From reading the title \"Neve...</td>\n",
              "      <td>6.0</td>\n",
              "    </tr>\n",
              "    <tr>\n",
              "      <th>3</th>\n",
              "      <td>Honestly I don't know the answer. This has bee...</td>\n",
              "      <td>9.0</td>\n",
              "    </tr>\n",
              "    <tr>\n",
              "      <th>4</th>\n",
              "      <td>Yes, it's just a revamped Karate Kid.But with ...</td>\n",
              "      <td>6.0</td>\n",
              "    </tr>\n",
              "    <tr>\n",
              "      <th>5</th>\n",
              "      <td>If you weren't old enough to see movies and un...</td>\n",
              "      <td>3.0</td>\n",
              "    </tr>\n",
              "    <tr>\n",
              "      <th>6</th>\n",
              "      <td>This is one more film with quite good idea. Th...</td>\n",
              "      <td>8.0</td>\n",
              "    </tr>\n",
              "    <tr>\n",
              "      <th>7</th>\n",
              "      <td>Being a martial artist myself, i can understan...</td>\n",
              "      <td>9.0</td>\n",
              "    </tr>\n",
              "    <tr>\n",
              "      <th>8</th>\n",
              "      <td>Perhaps my descriptive summary is unkind to th...</td>\n",
              "      <td>8.0</td>\n",
              "    </tr>\n",
              "    <tr>\n",
              "      <th>9</th>\n",
              "      <td>The advertisements for this movie do it seriou...</td>\n",
              "      <td>7.0</td>\n",
              "    </tr>\n",
              "  </tbody>\n",
              "</table>\n",
              "</div>\n",
              "      <button class=\"colab-df-convert\" onclick=\"convertToInteractive('df-ddffafc5-d9ca-4fa6-b115-5634d0d63de5')\"\n",
              "              title=\"Convert this dataframe to an interactive table.\"\n",
              "              style=\"display:none;\">\n",
              "        \n",
              "  <svg xmlns=\"http://www.w3.org/2000/svg\" height=\"24px\"viewBox=\"0 0 24 24\"\n",
              "       width=\"24px\">\n",
              "    <path d=\"M0 0h24v24H0V0z\" fill=\"none\"/>\n",
              "    <path d=\"M18.56 5.44l.94 2.06.94-2.06 2.06-.94-2.06-.94-.94-2.06-.94 2.06-2.06.94zm-11 1L8.5 8.5l.94-2.06 2.06-.94-2.06-.94L8.5 2.5l-.94 2.06-2.06.94zm10 10l.94 2.06.94-2.06 2.06-.94-2.06-.94-.94-2.06-.94 2.06-2.06.94z\"/><path d=\"M17.41 7.96l-1.37-1.37c-.4-.4-.92-.59-1.43-.59-.52 0-1.04.2-1.43.59L10.3 9.45l-7.72 7.72c-.78.78-.78 2.05 0 2.83L4 21.41c.39.39.9.59 1.41.59.51 0 1.02-.2 1.41-.59l7.78-7.78 2.81-2.81c.8-.78.8-2.07 0-2.86zM5.41 20L4 18.59l7.72-7.72 1.47 1.35L5.41 20z\"/>\n",
              "  </svg>\n",
              "      </button>\n",
              "      \n",
              "  <style>\n",
              "    .colab-df-container {\n",
              "      display:flex;\n",
              "      flex-wrap:wrap;\n",
              "      gap: 12px;\n",
              "    }\n",
              "\n",
              "    .colab-df-convert {\n",
              "      background-color: #E8F0FE;\n",
              "      border: none;\n",
              "      border-radius: 50%;\n",
              "      cursor: pointer;\n",
              "      display: none;\n",
              "      fill: #1967D2;\n",
              "      height: 32px;\n",
              "      padding: 0 0 0 0;\n",
              "      width: 32px;\n",
              "    }\n",
              "\n",
              "    .colab-df-convert:hover {\n",
              "      background-color: #E2EBFA;\n",
              "      box-shadow: 0px 1px 2px rgba(60, 64, 67, 0.3), 0px 1px 3px 1px rgba(60, 64, 67, 0.15);\n",
              "      fill: #174EA6;\n",
              "    }\n",
              "\n",
              "    [theme=dark] .colab-df-convert {\n",
              "      background-color: #3B4455;\n",
              "      fill: #D2E3FC;\n",
              "    }\n",
              "\n",
              "    [theme=dark] .colab-df-convert:hover {\n",
              "      background-color: #434B5C;\n",
              "      box-shadow: 0px 1px 3px 1px rgba(0, 0, 0, 0.15);\n",
              "      filter: drop-shadow(0px 1px 2px rgba(0, 0, 0, 0.3));\n",
              "      fill: #FFFFFF;\n",
              "    }\n",
              "  </style>\n",
              "\n",
              "      <script>\n",
              "        const buttonEl =\n",
              "          document.querySelector('#df-ddffafc5-d9ca-4fa6-b115-5634d0d63de5 button.colab-df-convert');\n",
              "        buttonEl.style.display =\n",
              "          google.colab.kernel.accessAllowed ? 'block' : 'none';\n",
              "\n",
              "        async function convertToInteractive(key) {\n",
              "          const element = document.querySelector('#df-ddffafc5-d9ca-4fa6-b115-5634d0d63de5');\n",
              "          const dataTable =\n",
              "            await google.colab.kernel.invokeFunction('convertToInteractive',\n",
              "                                                     [key], {});\n",
              "          if (!dataTable) return;\n",
              "\n",
              "          const docLinkHtml = 'Like what you see? Visit the ' +\n",
              "            '<a target=\"_blank\" href=https://colab.research.google.com/notebooks/data_table.ipynb>data table notebook</a>'\n",
              "            + ' to learn more about interactive tables.';\n",
              "          element.innerHTML = '';\n",
              "          dataTable['output_type'] = 'display_data';\n",
              "          await google.colab.output.renderOutput(dataTable, element);\n",
              "          const docLink = document.createElement('div');\n",
              "          docLink.innerHTML = docLinkHtml;\n",
              "          element.appendChild(docLink);\n",
              "        }\n",
              "      </script>\n",
              "    </div>\n",
              "  </div>\n",
              "  "
            ]
          },
          "metadata": {},
          "execution_count": 16
        }
      ]
    },
    {
      "cell_type": "code",
      "source": [
        "df.shape"
      ],
      "metadata": {
        "colab": {
          "base_uri": "https://localhost:8080/"
        },
        "id": "tdeUeMivz5eb",
        "outputId": "23b6e666-260a-4a16-f595-2a9de1fc6bf6"
      },
      "execution_count": 17,
      "outputs": [
        {
          "output_type": "execute_result",
          "data": {
            "text/plain": [
              "(150, 2)"
            ]
          },
          "metadata": {},
          "execution_count": 17
        }
      ]
    },
    {
      "cell_type": "code",
      "source": [
        ""
      ],
      "metadata": {
        "id": "HHGfzBJ61VHg"
      },
      "execution_count": 17,
      "outputs": []
    }
  ]
}