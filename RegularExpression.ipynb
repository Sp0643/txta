{
  "nbformat": 4,
  "nbformat_minor": 0,
  "metadata": {
    "colab": {
      "provenance": [],
      "collapsed_sections": []
    },
    "kernelspec": {
      "name": "python3",
      "display_name": "Python 3"
    },
    "language_info": {
      "name": "python"
    }
  },
  "cells": [
    {
      "cell_type": "code",
      "metadata": {
        "id": "MoCVxF7wmmtW"
      },
      "source": [
        "import re"
      ],
      "execution_count": null,
      "outputs": []
    },
    {
      "cell_type": "code",
      "metadata": {
        "id": "dYwi2KuUE1Q1"
      },
      "source": [
        "text_to_search='''\n",
        "abcdefghijklmnopqrstuvwxyz\n",
        "ABCDEFGHIJKLMNOPQRSTUVWXYZ\n",
        "1234567890\n",
        "\n",
        "coreyms.com\n",
        "321-5555-4321\n",
        "123.5555.4321\n",
        "\n",
        "Mr.Schafer\n",
        "Mr.Smith\n",
        "Mr.Davis\n",
        "Mr.T\n",
        "'''\n",
        "sentence='start a sentence and then bring it to an end'\n"
      ],
      "execution_count": null,
      "outputs": []
    },
    {
      "cell_type": "code",
      "metadata": {
        "colab": {
          "base_uri": "https://localhost:8080/"
        },
        "id": "fcXMG8vUHFkB",
        "outputId": "7b3ef931-deba-4ed4-fd27-b383c4bef03b"
      },
      "source": [
        "print(r\"\\tTab\")"
      ],
      "execution_count": null,
      "outputs": [
        {
          "output_type": "stream",
          "name": "stdout",
          "text": [
            "\\tTab\n"
          ]
        }
      ]
    },
    {
      "cell_type": "code",
      "metadata": {
        "colab": {
          "base_uri": "https://localhost:8080/"
        },
        "id": "7r5z7ggkHJV-",
        "outputId": "a357bf2e-c6b8-4440-bceb-75d9a242a915"
      },
      "source": [
        "print(\"\\tTab\")"
      ],
      "execution_count": null,
      "outputs": [
        {
          "output_type": "stream",
          "name": "stdout",
          "text": [
            "\tTab\n"
          ]
        }
      ]
    },
    {
      "cell_type": "code",
      "metadata": {
        "colab": {
          "base_uri": "https://localhost:8080/"
        },
        "id": "V1jjYEMvHO4C",
        "outputId": "f430fdd3-95f7-458d-bae2-e2f55d1dea5c"
      },
      "source": [
        "text1=\"How are you?I cannot understand how you survived that phase.How he did is is still a mystery.However, we cannot afford to lose\"\n",
        "r=re.compile(\"How\")\n",
        "print(r.findall(text1))"
      ],
      "execution_count": null,
      "outputs": [
        {
          "output_type": "stream",
          "name": "stdout",
          "text": [
            "['How', 'How', 'How']\n"
          ]
        }
      ]
    },
    {
      "cell_type": "code",
      "metadata": {
        "colab": {
          "base_uri": "https://localhost:8080/"
        },
        "id": "_MJ2hJjrI0Cs",
        "outputId": "66d1ae5b-3444-4501-df58-51005ef2d908"
      },
      "source": [
        "matches=r.finditer(text1)\n",
        "print(matches)"
      ],
      "execution_count": null,
      "outputs": [
        {
          "output_type": "stream",
          "name": "stdout",
          "text": [
            "<callable_iterator object at 0x7f7bd684f390>\n"
          ]
        }
      ]
    },
    {
      "cell_type": "code",
      "metadata": {
        "colab": {
          "base_uri": "https://localhost:8080/"
        },
        "id": "-CkVj4IFLhlO",
        "outputId": "883c8199-9d6a-43e0-9a0a-3662f82e5919"
      },
      "source": [
        "for i in matches:\n",
        "  print(i)"
      ],
      "execution_count": null,
      "outputs": [
        {
          "output_type": "stream",
          "name": "stdout",
          "text": [
            "<re.Match object; span=(0, 3), match='How'>\n",
            "<re.Match object; span=(60, 63), match='How'>\n",
            "<re.Match object; span=(93, 96), match='How'>\n"
          ]
        }
      ]
    },
    {
      "cell_type": "code",
      "metadata": {
        "colab": {
          "base_uri": "https://localhost:8080/"
        },
        "id": "4Fv0VCD3Ln0x",
        "outputId": "6c69c82d-d8e1-4d57-9440-a9eb42563d55"
      },
      "source": [
        "s=re.compile(\"\\s\")\n",
        "match=s.finditer(text1)\n",
        "print(match)"
      ],
      "execution_count": null,
      "outputs": [
        {
          "output_type": "stream",
          "name": "stdout",
          "text": [
            "<callable_iterator object at 0x7f7bd68512d0>\n"
          ]
        }
      ]
    },
    {
      "cell_type": "code",
      "metadata": {
        "colab": {
          "base_uri": "https://localhost:8080/"
        },
        "id": "4Qm4BWbDNt7G",
        "outputId": "8515aa75-fe01-4716-b6d6-5520d1bbca26"
      },
      "source": [
        "for i in match:\n",
        "  print(i)"
      ],
      "execution_count": null,
      "outputs": [
        {
          "output_type": "stream",
          "name": "stdout",
          "text": [
            "<re.Match object; span=(3, 4), match=' '>\n",
            "<re.Match object; span=(7, 8), match=' '>\n",
            "<re.Match object; span=(13, 14), match=' '>\n",
            "<re.Match object; span=(20, 21), match=' '>\n",
            "<re.Match object; span=(31, 32), match=' '>\n",
            "<re.Match object; span=(35, 36), match=' '>\n",
            "<re.Match object; span=(39, 40), match=' '>\n",
            "<re.Match object; span=(48, 49), match=' '>\n",
            "<re.Match object; span=(53, 54), match=' '>\n",
            "<re.Match object; span=(63, 64), match=' '>\n",
            "<re.Match object; span=(66, 67), match=' '>\n",
            "<re.Match object; span=(70, 71), match=' '>\n",
            "<re.Match object; span=(73, 74), match=' '>\n",
            "<re.Match object; span=(76, 77), match=' '>\n",
            "<re.Match object; span=(82, 83), match=' '>\n",
            "<re.Match object; span=(84, 85), match=' '>\n",
            "<re.Match object; span=(101, 102), match=' '>\n",
            "<re.Match object; span=(104, 105), match=' '>\n",
            "<re.Match object; span=(111, 112), match=' '>\n",
            "<re.Match object; span=(118, 119), match=' '>\n",
            "<re.Match object; span=(121, 122), match=' '>\n"
          ]
        }
      ]
    },
    {
      "cell_type": "code",
      "metadata": {
        "colab": {
          "base_uri": "https://localhost:8080/"
        },
        "id": "9Rl7M5UkNIsE",
        "outputId": "389efc92-d50e-4645-e02d-874e512f9f7f"
      },
      "source": [
        "print(len(s.findall(text1)))"
      ],
      "execution_count": null,
      "outputs": [
        {
          "output_type": "stream",
          "name": "stdout",
          "text": [
            "21\n"
          ]
        }
      ]
    },
    {
      "cell_type": "code",
      "metadata": {
        "colab": {
          "base_uri": "https://localhost:8080/"
        },
        "id": "Q2qC8_bEX6oO",
        "outputId": "10baa796-b444-4209-8e54-e86e88673cdf"
      },
      "source": [
        "v=re.compile(\"[aeiou]\")\n",
        "match=v.findall(text1)\n",
        "print(match)"
      ],
      "execution_count": null,
      "outputs": [
        {
          "output_type": "stream",
          "name": "stdout",
          "text": [
            "['o', 'a', 'e', 'o', 'u', 'a', 'o', 'u', 'e', 'a', 'o', 'o', 'u', 'u', 'i', 'e', 'a', 'a', 'e', 'o', 'e', 'i', 'i', 'i', 'i', 'a', 'e', 'o', 'e', 'e', 'e', 'a', 'o', 'a', 'o', 'o', 'o', 'e']\n"
          ]
        }
      ]
    },
    {
      "cell_type": "code",
      "metadata": {
        "colab": {
          "base_uri": "https://localhost:8080/"
        },
        "id": "A6wnNei0YU0y",
        "outputId": "a13d8b46-9aa1-432e-9b6c-d4c87bfdb69f"
      },
      "source": [
        "match=v.finditer(text1)\n",
        "for i in match:\n",
        "  print(i)"
      ],
      "execution_count": null,
      "outputs": [
        {
          "output_type": "stream",
          "name": "stdout",
          "text": [
            "<re.Match object; span=(1, 2), match='o'>\n",
            "<re.Match object; span=(4, 5), match='a'>\n",
            "<re.Match object; span=(6, 7), match='e'>\n",
            "<re.Match object; span=(9, 10), match='o'>\n",
            "<re.Match object; span=(10, 11), match='u'>\n",
            "<re.Match object; span=(15, 16), match='a'>\n",
            "<re.Match object; span=(18, 19), match='o'>\n",
            "<re.Match object; span=(21, 22), match='u'>\n",
            "<re.Match object; span=(24, 25), match='e'>\n",
            "<re.Match object; span=(28, 29), match='a'>\n",
            "<re.Match object; span=(33, 34), match='o'>\n",
            "<re.Match object; span=(37, 38), match='o'>\n",
            "<re.Match object; span=(38, 39), match='u'>\n",
            "<re.Match object; span=(41, 42), match='u'>\n",
            "<re.Match object; span=(44, 45), match='i'>\n",
            "<re.Match object; span=(46, 47), match='e'>\n",
            "<re.Match object; span=(51, 52), match='a'>\n",
            "<re.Match object; span=(56, 57), match='a'>\n",
            "<re.Match object; span=(58, 59), match='e'>\n",
            "<re.Match object; span=(61, 62), match='o'>\n",
            "<re.Match object; span=(65, 66), match='e'>\n",
            "<re.Match object; span=(68, 69), match='i'>\n",
            "<re.Match object; span=(71, 72), match='i'>\n",
            "<re.Match object; span=(74, 75), match='i'>\n",
            "<re.Match object; span=(79, 80), match='i'>\n",
            "<re.Match object; span=(83, 84), match='a'>\n",
            "<re.Match object; span=(89, 90), match='e'>\n",
            "<re.Match object; span=(94, 95), match='o'>\n",
            "<re.Match object; span=(96, 97), match='e'>\n",
            "<re.Match object; span=(98, 99), match='e'>\n",
            "<re.Match object; span=(103, 104), match='e'>\n",
            "<re.Match object; span=(106, 107), match='a'>\n",
            "<re.Match object; span=(109, 110), match='o'>\n",
            "<re.Match object; span=(112, 113), match='a'>\n",
            "<re.Match object; span=(115, 116), match='o'>\n",
            "<re.Match object; span=(120, 121), match='o'>\n",
            "<re.Match object; span=(123, 124), match='o'>\n",
            "<re.Match object; span=(125, 126), match='e'>\n"
          ]
        }
      ]
    },
    {
      "cell_type": "code",
      "metadata": {
        "colab": {
          "base_uri": "https://localhost:8080/"
        },
        "id": "mwO2idphYgBN",
        "outputId": "e5d4d7aa-c52c-4ee4-c9d1-2e1103f81ab3"
      },
      "source": [
        "m=re.compile(r\"^How\")\n",
        "print(m.findall(text1))"
      ],
      "execution_count": null,
      "outputs": [
        {
          "output_type": "stream",
          "name": "stdout",
          "text": [
            "['How']\n"
          ]
        }
      ]
    },
    {
      "cell_type": "code",
      "metadata": {
        "colab": {
          "base_uri": "https://localhost:8080/",
          "height": 35
        },
        "id": "mgbmXHtHcHIn",
        "outputId": "d6c5fa7b-d9ce-4349-b135-83bb9a12bf83"
      },
      "source": [
        "text1"
      ],
      "execution_count": null,
      "outputs": [
        {
          "output_type": "execute_result",
          "data": {
            "application/vnd.google.colaboratory.intrinsic+json": {
              "type": "string"
            },
            "text/plain": [
              "'How are you?I cannot understand how you survived that phase.How he did is is still a mystery.However, we cannot afford to lose'"
            ]
          },
          "metadata": {},
          "execution_count": 40
        }
      ]
    },
    {
      "cell_type": "code",
      "metadata": {
        "colab": {
          "base_uri": "https://localhost:8080/"
        },
        "id": "S8mdLxN-czF5",
        "outputId": "39ef6756-ce62-4922-cc88-41b67747d7bc"
      },
      "source": [
        "m=re.compile(r\"lose$\")\n",
        "print(m.findall(text1))"
      ],
      "execution_count": null,
      "outputs": [
        {
          "output_type": "stream",
          "name": "stdout",
          "text": [
            "['lose']\n"
          ]
        }
      ]
    },
    {
      "cell_type": "code",
      "metadata": {
        "colab": {
          "base_uri": "https://localhost:8080/"
        },
        "id": "TnvV5ZJfrgV2",
        "outputId": "00395ce6-c99c-4316-f0d1-356c09526473"
      },
      "source": [
        "txt1=\"cat nat bat pat sat rat mat\"\n",
        "m=re.compile(r\"[cmp]at\")\n",
        "print(m.findall(txt1))"
      ],
      "execution_count": null,
      "outputs": [
        {
          "output_type": "stream",
          "name": "stdout",
          "text": [
            "['cat', 'pat', 'mat']\n"
          ]
        }
      ]
    },
    {
      "cell_type": "code",
      "metadata": {
        "colab": {
          "base_uri": "https://localhost:8080/"
        },
        "id": "Q65oRnpHry0B",
        "outputId": "c93200cc-5cad-4b4b-9186-a4ee16c9d81f"
      },
      "source": [
        "names='''\n",
        "Mr. Schafer\n",
        "Mr. Smith\n",
        "Mr. Davis\n",
        "Mrs Tesla\n",
        "Ms  Davis\n",
        "'''\n",
        "n=re.compile(r\"Mr\\.?\\s\")\n",
        "match=n.findall(names)\n",
        "print(match)"
      ],
      "execution_count": null,
      "outputs": [
        {
          "output_type": "stream",
          "name": "stdout",
          "text": [
            "['Mr. ', 'Mr. ', 'Mr. ']\n"
          ]
        }
      ]
    },
    {
      "cell_type": "code",
      "source": [
        "import re\n",
        "test_string='123abc456789abc123ABC'\n",
        "pattern=re.compile(r'abc')\n",
        "matches=pattern.finditer(test_string)\n",
        "for i in matches:\n",
        "  print(i)\n",
        "  print(i.span()[0])"
      ],
      "metadata": {
        "colab": {
          "base_uri": "https://localhost:8080/"
        },
        "id": "T68JlRXf598C",
        "outputId": "ae7b4c57-e8d0-49b5-c1b7-5d8a47619c04"
      },
      "execution_count": null,
      "outputs": [
        {
          "output_type": "stream",
          "name": "stdout",
          "text": [
            "<re.Match object; span=(3, 6), match='abc'>\n",
            "3\n",
            "<re.Match object; span=(12, 15), match='abc'>\n",
            "12\n"
          ]
        }
      ]
    },
    {
      "cell_type": "code",
      "source": [
        "print(list(re.finditer(\"abc\",test_string)))"
      ],
      "metadata": {
        "colab": {
          "base_uri": "https://localhost:8080/"
        },
        "id": "8qY0VmT3Js8K",
        "outputId": "e10a5dea-99b3-4af9-f28f-b3e18f11d7ed"
      },
      "execution_count": null,
      "outputs": [
        {
          "output_type": "stream",
          "name": "stdout",
          "text": [
            "[<re.Match object; span=(3, 6), match='abc'>, <re.Match object; span=(12, 15), match='abc'>]\n"
          ]
        }
      ]
    },
    {
      "cell_type": "code",
      "source": [
        "print(re.findall('abc',test_string))"
      ],
      "metadata": {
        "colab": {
          "base_uri": "https://localhost:8080/"
        },
        "id": "1tFBQCJvNiEl",
        "outputId": "2a63a1fb-740d-4908-8ce6-30dabea7808a"
      },
      "execution_count": null,
      "outputs": [
        {
          "output_type": "stream",
          "name": "stdout",
          "text": [
            "['abc', 'abc']\n"
          ]
        }
      ]
    },
    {
      "cell_type": "code",
      "source": [
        "print(re.match('abc',test_string))"
      ],
      "metadata": {
        "colab": {
          "base_uri": "https://localhost:8080/"
        },
        "id": "qjBW3EMUNpxR",
        "outputId": "44ba52db-c6e1-47a0-e280-50f4fff99c86"
      },
      "execution_count": null,
      "outputs": [
        {
          "output_type": "stream",
          "name": "stdout",
          "text": [
            "None\n"
          ]
        }
      ]
    },
    {
      "cell_type": "code",
      "source": [
        "print(re.match('123A',test_string))"
      ],
      "metadata": {
        "colab": {
          "base_uri": "https://localhost:8080/"
        },
        "id": "Ugb_wuePNwm4",
        "outputId": "3c4eb1c8-3dd6-4e9d-f50b-a462499c61c2"
      },
      "execution_count": null,
      "outputs": [
        {
          "output_type": "stream",
          "name": "stdout",
          "text": [
            "None\n"
          ]
        }
      ]
    },
    {
      "cell_type": "code",
      "source": [
        "print(re.match('123a',test_string))"
      ],
      "metadata": {
        "colab": {
          "base_uri": "https://localhost:8080/"
        },
        "id": "iE6OLSkYN6jL",
        "outputId": "100b2a9e-2604-4272-f3bc-4934a12b2a3b"
      },
      "execution_count": null,
      "outputs": [
        {
          "output_type": "stream",
          "name": "stdout",
          "text": [
            "<re.Match object; span=(0, 4), match='123a'>\n"
          ]
        }
      ]
    },
    {
      "cell_type": "code",
      "source": [
        "print(re.search('abc',test_string))"
      ],
      "metadata": {
        "colab": {
          "base_uri": "https://localhost:8080/"
        },
        "id": "EUWetHznN-DM",
        "outputId": "550b1492-b30e-4667-c0d9-f8714f15a178"
      },
      "execution_count": null,
      "outputs": [
        {
          "output_type": "stream",
          "name": "stdout",
          "text": [
            "<re.Match object; span=(3, 6), match='abc'>\n"
          ]
        }
      ]
    },
    {
      "cell_type": "code",
      "source": [
        "test_string='hello 123_ heyho hohey'\n",
        "pattern=re.compile(r'\\d')\n",
        "matches=pattern.finditer(test_string)\n",
        "for match in matches:\n",
        "  print(match.group())"
      ],
      "metadata": {
        "id": "dZxqL5EgT0XX",
        "colab": {
          "base_uri": "https://localhost:8080/"
        },
        "outputId": "8e2c61b3-6998-4c0b-c99b-b92101d2d14f"
      },
      "execution_count": null,
      "outputs": [
        {
          "output_type": "stream",
          "name": "stdout",
          "text": [
            "1\n",
            "2\n",
            "3\n"
          ]
        }
      ]
    },
    {
      "cell_type": "code",
      "source": [
        "pattern=re.compile('\\D')\n",
        "matches=pattern.finditer(test_string)\n",
        "for match in matches:\n",
        "  print(match.group())"
      ],
      "metadata": {
        "colab": {
          "base_uri": "https://localhost:8080/"
        },
        "id": "uqblHZQbxEFF",
        "outputId": "adc69722-1680-4966-9deb-0ca079da8714"
      },
      "execution_count": null,
      "outputs": [
        {
          "output_type": "stream",
          "name": "stdout",
          "text": [
            "h\n",
            "e\n",
            "l\n",
            "l\n",
            "o\n",
            " \n",
            "_\n",
            " \n",
            "h\n",
            "e\n",
            "y\n",
            "h\n",
            "o\n",
            " \n",
            "h\n",
            "o\n",
            "h\n",
            "e\n",
            "y\n"
          ]
        }
      ]
    },
    {
      "cell_type": "code",
      "source": [
        "pattern=re.compile(r'hey$')\n",
        "matches=pattern.finditer(test_string)\n",
        "for match in matches:\n",
        "  print(match.group())"
      ],
      "metadata": {
        "colab": {
          "base_uri": "https://localhost:8080/"
        },
        "id": "9YJN389ixSTa",
        "outputId": "0e935600-4c26-4a2b-cf1d-2f5668e7bebe"
      },
      "execution_count": null,
      "outputs": [
        {
          "output_type": "stream",
          "name": "stdout",
          "text": [
            "hey\n"
          ]
        }
      ]
    },
    {
      "cell_type": "code",
      "source": [
        "pattern=re.compile(r'\\S')\n",
        "matches=pattern.finditer(test_string)\n",
        "for match in matches:\n",
        "  print(match.group())"
      ],
      "metadata": {
        "colab": {
          "base_uri": "https://localhost:8080/"
        },
        "id": "80T1-8tpx6kD",
        "outputId": "34726ce5-fcfd-47c6-cf3f-ce42d019a3f8"
      },
      "execution_count": null,
      "outputs": [
        {
          "output_type": "stream",
          "name": "stdout",
          "text": [
            "h\n",
            "e\n",
            "l\n",
            "l\n",
            "o\n",
            "1\n",
            "2\n",
            "3\n",
            "_\n",
            "h\n",
            "e\n",
            "y\n",
            "h\n",
            "o\n",
            "h\n",
            "o\n",
            "h\n",
            "e\n",
            "y\n"
          ]
        }
      ]
    },
    {
      "cell_type": "code",
      "source": [
        "test_string='hello 123_ heyho hohey'\n",
        "pattern=re.compile(r'[hel]')\n",
        "matches=pattern.finditer(test_string)\n",
        "for match in matches:\n",
        "  print(match.group())"
      ],
      "metadata": {
        "colab": {
          "base_uri": "https://localhost:8080/"
        },
        "id": "Me1v-GMsyH6L",
        "outputId": "fc4cee56-79e8-425e-ae59-530734098a69"
      },
      "execution_count": null,
      "outputs": [
        {
          "output_type": "stream",
          "name": "stdout",
          "text": [
            "h\n",
            "e\n",
            "l\n",
            "l\n",
            "h\n",
            "e\n",
            "h\n",
            "h\n",
            "h\n",
            "e\n"
          ]
        }
      ]
    },
    {
      "cell_type": "code",
      "source": [
        "test_string='hello 123_ heyho hohey'\n",
        "pattern=re.compile(r'[hel]')\n",
        "matches=pattern.finditer(test_string)\n",
        "for match in matches:\n",
        "  print(match)"
      ],
      "metadata": {
        "colab": {
          "base_uri": "https://localhost:8080/"
        },
        "id": "St_BAryxyW_2",
        "outputId": "c37142a9-cbe8-427f-c36f-8b6e4b0c0c59"
      },
      "execution_count": null,
      "outputs": [
        {
          "output_type": "stream",
          "name": "stdout",
          "text": [
            "<re.Match object; span=(0, 1), match='h'>\n",
            "<re.Match object; span=(1, 2), match='e'>\n",
            "<re.Match object; span=(2, 3), match='l'>\n",
            "<re.Match object; span=(3, 4), match='l'>\n",
            "<re.Match object; span=(11, 12), match='h'>\n",
            "<re.Match object; span=(12, 13), match='e'>\n",
            "<re.Match object; span=(14, 15), match='h'>\n",
            "<re.Match object; span=(17, 18), match='h'>\n",
            "<re.Match object; span=(19, 20), match='h'>\n",
            "<re.Match object; span=(20, 21), match='e'>\n"
          ]
        }
      ]
    },
    {
      "cell_type": "code",
      "source": [
        "test_string='hello 123_ heyho hohey'\n",
        "pattern=re.compile(r'\\bhey')\n",
        "matches=pattern.finditer(test_string)\n",
        "for match in matches:\n",
        "  print(match)"
      ],
      "metadata": {
        "colab": {
          "base_uri": "https://localhost:8080/"
        },
        "id": "nB1cigPNy0NG",
        "outputId": "40c35950-1d5a-4e7b-9036-a34753ce5421"
      },
      "execution_count": null,
      "outputs": [
        {
          "output_type": "stream",
          "name": "stdout",
          "text": [
            "<re.Match object; span=(11, 14), match='hey'>\n"
          ]
        }
      ]
    },
    {
      "cell_type": "code",
      "source": [
        "test_string='hello 123_ heyho hohey'\n",
        "pattern=re.compile(r'\\Bhey')\n",
        "matches=pattern.finditer(test_string)\n",
        "for match in matches:\n",
        "  print(match)"
      ],
      "metadata": {
        "colab": {
          "base_uri": "https://localhost:8080/"
        },
        "id": "2FzxFYoOza9m",
        "outputId": "8a6c16a0-d736-4dd9-c02b-701424835abe"
      },
      "execution_count": null,
      "outputs": [
        {
          "output_type": "stream",
          "name": "stdout",
          "text": [
            "<re.Match object; span=(19, 22), match='hey'>\n"
          ]
        }
      ]
    },
    {
      "cell_type": "code",
      "source": [
        "test_string='hello 123_ heyho hohey'\n",
        "pattern=re.compile(r'[0-9_]')\n",
        "matches=pattern.finditer(test_string)\n",
        "for match in matches:\n",
        "  print(match)"
      ],
      "metadata": {
        "colab": {
          "base_uri": "https://localhost:8080/"
        },
        "id": "3HaHRSK0zhFk",
        "outputId": "96a3802a-5767-46de-a137-b4e8db64e78e"
      },
      "execution_count": null,
      "outputs": [
        {
          "output_type": "stream",
          "name": "stdout",
          "text": [
            "<re.Match object; span=(6, 7), match='1'>\n",
            "<re.Match object; span=(7, 8), match='2'>\n",
            "<re.Match object; span=(8, 9), match='3'>\n",
            "<re.Match object; span=(9, 10), match='_'>\n"
          ]
        }
      ]
    },
    {
      "cell_type": "code",
      "source": [
        "test_string='hello 123_ heyho hohey'\n",
        "pattern=re.compile(r'[a-zA-Z0-9]')\n",
        "matches=pattern.finditer(test_string)\n",
        "for match in matches:\n",
        "  print(match)"
      ],
      "metadata": {
        "colab": {
          "base_uri": "https://localhost:8080/"
        },
        "id": "3v_f4G1H1wNJ",
        "outputId": "19aa71a2-41f2-448a-c7b0-f27098266e76"
      },
      "execution_count": null,
      "outputs": [
        {
          "output_type": "stream",
          "name": "stdout",
          "text": [
            "<re.Match object; span=(0, 1), match='h'>\n",
            "<re.Match object; span=(1, 2), match='e'>\n",
            "<re.Match object; span=(2, 3), match='l'>\n",
            "<re.Match object; span=(3, 4), match='l'>\n",
            "<re.Match object; span=(4, 5), match='o'>\n",
            "<re.Match object; span=(6, 7), match='1'>\n",
            "<re.Match object; span=(7, 8), match='2'>\n",
            "<re.Match object; span=(8, 9), match='3'>\n",
            "<re.Match object; span=(11, 12), match='h'>\n",
            "<re.Match object; span=(12, 13), match='e'>\n",
            "<re.Match object; span=(13, 14), match='y'>\n",
            "<re.Match object; span=(14, 15), match='h'>\n",
            "<re.Match object; span=(15, 16), match='o'>\n",
            "<re.Match object; span=(17, 18), match='h'>\n",
            "<re.Match object; span=(18, 19), match='o'>\n",
            "<re.Match object; span=(19, 20), match='h'>\n",
            "<re.Match object; span=(20, 21), match='e'>\n",
            "<re.Match object; span=(21, 22), match='y'>\n"
          ]
        }
      ]
    },
    {
      "cell_type": "code",
      "source": [
        "test_string='hello 123_  heyho   hohey  '\n",
        "pattern=re.compile(r'\\s+')\n",
        "matches=pattern.finditer(test_string)\n",
        "for match in matches:\n",
        "  print(match)"
      ],
      "metadata": {
        "colab": {
          "base_uri": "https://localhost:8080/"
        },
        "id": "792M71KO3LNV",
        "outputId": "5c4f7e42-7e0b-4e5b-f08e-1d04cb991e87"
      },
      "execution_count": null,
      "outputs": [
        {
          "output_type": "stream",
          "name": "stdout",
          "text": [
            "<re.Match object; span=(5, 6), match=' '>\n",
            "<re.Match object; span=(10, 12), match='  '>\n",
            "<re.Match object; span=(17, 20), match='   '>\n",
            "<re.Match object; span=(25, 27), match='  '>\n"
          ]
        }
      ]
    },
    {
      "cell_type": "code",
      "source": [
        "test_string='hello 123_ heyho hohey 56 1 2 3 a b c abc'\n",
        "pattern=re.compile(r'\\S{3,5}')\n",
        "matches=pattern.finditer(test_string)\n",
        "for match in matches:\n",
        "  print(match)\n",
        "  print(len(match.group()))"
      ],
      "metadata": {
        "colab": {
          "base_uri": "https://localhost:8080/"
        },
        "id": "A2nImRW43_lG",
        "outputId": "9f573237-f58f-48d5-a767-5196892df744"
      },
      "execution_count": null,
      "outputs": [
        {
          "output_type": "stream",
          "name": "stdout",
          "text": [
            "<re.Match object; span=(0, 5), match='hello'>\n",
            "5\n",
            "<re.Match object; span=(6, 10), match='123_'>\n",
            "4\n",
            "<re.Match object; span=(11, 16), match='heyho'>\n",
            "5\n",
            "<re.Match object; span=(17, 22), match='hohey'>\n",
            "5\n",
            "<re.Match object; span=(38, 41), match='abc'>\n",
            "3\n"
          ]
        }
      ]
    },
    {
      "cell_type": "code",
      "source": [
        "test_string='hello 123_ heyho hohey 56 1 2 3 a b c abc'\n",
        "pattern=re.compile(r'\\d+')\n",
        "matches=pattern.finditer(test_string)\n",
        "for match in matches:\n",
        "  print(match)\n",
        "  print(len(match.group()))"
      ],
      "metadata": {
        "colab": {
          "base_uri": "https://localhost:8080/"
        },
        "id": "ZQVuRCso4Yd9",
        "outputId": "d22f7a80-e3c0-416a-b07a-4de137e78722"
      },
      "execution_count": null,
      "outputs": [
        {
          "output_type": "stream",
          "name": "stdout",
          "text": [
            "<re.Match object; span=(6, 9), match='123'>\n",
            "3\n",
            "<re.Match object; span=(23, 25), match='56'>\n",
            "2\n",
            "<re.Match object; span=(26, 27), match='1'>\n",
            "1\n",
            "<re.Match object; span=(28, 29), match='2'>\n",
            "1\n",
            "<re.Match object; span=(30, 31), match='3'>\n",
            "1\n"
          ]
        }
      ]
    },
    {
      "cell_type": "code",
      "source": [
        "test_string='hello 123_ heyho hohey 56 1 2 3 a b c abc'\n",
        "pattern=re.compile(r'\\d?')\n",
        "matches=pattern.finditer(test_string)\n",
        "for match in matches:\n",
        "  print(match)\n",
        "  print(len(match.group()))\n"
      ],
      "metadata": {
        "colab": {
          "base_uri": "https://localhost:8080/"
        },
        "id": "lIF9twZt5Tjk",
        "outputId": "5ebbaf98-7cdf-4a14-9ae2-696a2bd42cd3"
      },
      "execution_count": null,
      "outputs": [
        {
          "output_type": "stream",
          "name": "stdout",
          "text": [
            "<re.Match object; span=(0, 0), match=''>\n",
            "0\n",
            "<re.Match object; span=(1, 1), match=''>\n",
            "0\n",
            "<re.Match object; span=(2, 2), match=''>\n",
            "0\n",
            "<re.Match object; span=(3, 3), match=''>\n",
            "0\n",
            "<re.Match object; span=(4, 4), match=''>\n",
            "0\n",
            "<re.Match object; span=(5, 5), match=''>\n",
            "0\n",
            "<re.Match object; span=(6, 7), match='1'>\n",
            "1\n",
            "<re.Match object; span=(7, 8), match='2'>\n",
            "1\n",
            "<re.Match object; span=(8, 9), match='3'>\n",
            "1\n",
            "<re.Match object; span=(9, 9), match=''>\n",
            "0\n",
            "<re.Match object; span=(10, 10), match=''>\n",
            "0\n",
            "<re.Match object; span=(11, 11), match=''>\n",
            "0\n",
            "<re.Match object; span=(12, 12), match=''>\n",
            "0\n",
            "<re.Match object; span=(13, 13), match=''>\n",
            "0\n",
            "<re.Match object; span=(14, 14), match=''>\n",
            "0\n",
            "<re.Match object; span=(15, 15), match=''>\n",
            "0\n",
            "<re.Match object; span=(16, 16), match=''>\n",
            "0\n",
            "<re.Match object; span=(17, 17), match=''>\n",
            "0\n",
            "<re.Match object; span=(18, 18), match=''>\n",
            "0\n",
            "<re.Match object; span=(19, 19), match=''>\n",
            "0\n",
            "<re.Match object; span=(20, 20), match=''>\n",
            "0\n",
            "<re.Match object; span=(21, 21), match=''>\n",
            "0\n",
            "<re.Match object; span=(22, 22), match=''>\n",
            "0\n",
            "<re.Match object; span=(23, 24), match='5'>\n",
            "1\n",
            "<re.Match object; span=(24, 25), match='6'>\n",
            "1\n",
            "<re.Match object; span=(25, 25), match=''>\n",
            "0\n",
            "<re.Match object; span=(26, 27), match='1'>\n",
            "1\n",
            "<re.Match object; span=(27, 27), match=''>\n",
            "0\n",
            "<re.Match object; span=(28, 29), match='2'>\n",
            "1\n",
            "<re.Match object; span=(29, 29), match=''>\n",
            "0\n",
            "<re.Match object; span=(30, 31), match='3'>\n",
            "1\n",
            "<re.Match object; span=(31, 31), match=''>\n",
            "0\n",
            "<re.Match object; span=(32, 32), match=''>\n",
            "0\n",
            "<re.Match object; span=(33, 33), match=''>\n",
            "0\n",
            "<re.Match object; span=(34, 34), match=''>\n",
            "0\n",
            "<re.Match object; span=(35, 35), match=''>\n",
            "0\n",
            "<re.Match object; span=(36, 36), match=''>\n",
            "0\n",
            "<re.Match object; span=(37, 37), match=''>\n",
            "0\n",
            "<re.Match object; span=(38, 38), match=''>\n",
            "0\n",
            "<re.Match object; span=(39, 39), match=''>\n",
            "0\n",
            "<re.Match object; span=(40, 40), match=''>\n",
            "0\n",
            "<re.Match object; span=(41, 41), match=''>\n",
            "0\n"
          ]
        }
      ]
    },
    {
      "cell_type": "code",
      "source": [
        "test_string='hello 123_ heyho hohey 56 1 2 3 a b c abc'\n",
        "pattern=re.compile(r'\\d*')\n",
        "matches=pattern.finditer(test_string)\n",
        "for match in matches:\n",
        "  print(match)\n",
        "  print(len(match.group()))"
      ],
      "metadata": {
        "colab": {
          "base_uri": "https://localhost:8080/"
        },
        "id": "AHqOxfh85eb8",
        "outputId": "1640141a-f319-41b4-86dc-f3eae3a1edb3"
      },
      "execution_count": null,
      "outputs": [
        {
          "output_type": "stream",
          "name": "stdout",
          "text": [
            "<re.Match object; span=(0, 0), match=''>\n",
            "0\n",
            "<re.Match object; span=(1, 1), match=''>\n",
            "0\n",
            "<re.Match object; span=(2, 2), match=''>\n",
            "0\n",
            "<re.Match object; span=(3, 3), match=''>\n",
            "0\n",
            "<re.Match object; span=(4, 4), match=''>\n",
            "0\n",
            "<re.Match object; span=(5, 5), match=''>\n",
            "0\n",
            "<re.Match object; span=(6, 9), match='123'>\n",
            "3\n",
            "<re.Match object; span=(9, 9), match=''>\n",
            "0\n",
            "<re.Match object; span=(10, 10), match=''>\n",
            "0\n",
            "<re.Match object; span=(11, 11), match=''>\n",
            "0\n",
            "<re.Match object; span=(12, 12), match=''>\n",
            "0\n",
            "<re.Match object; span=(13, 13), match=''>\n",
            "0\n",
            "<re.Match object; span=(14, 14), match=''>\n",
            "0\n",
            "<re.Match object; span=(15, 15), match=''>\n",
            "0\n",
            "<re.Match object; span=(16, 16), match=''>\n",
            "0\n",
            "<re.Match object; span=(17, 17), match=''>\n",
            "0\n",
            "<re.Match object; span=(18, 18), match=''>\n",
            "0\n",
            "<re.Match object; span=(19, 19), match=''>\n",
            "0\n",
            "<re.Match object; span=(20, 20), match=''>\n",
            "0\n",
            "<re.Match object; span=(21, 21), match=''>\n",
            "0\n",
            "<re.Match object; span=(22, 22), match=''>\n",
            "0\n",
            "<re.Match object; span=(23, 25), match='56'>\n",
            "2\n",
            "<re.Match object; span=(25, 25), match=''>\n",
            "0\n",
            "<re.Match object; span=(26, 27), match='1'>\n",
            "1\n",
            "<re.Match object; span=(27, 27), match=''>\n",
            "0\n",
            "<re.Match object; span=(28, 29), match='2'>\n",
            "1\n",
            "<re.Match object; span=(29, 29), match=''>\n",
            "0\n",
            "<re.Match object; span=(30, 31), match='3'>\n",
            "1\n",
            "<re.Match object; span=(31, 31), match=''>\n",
            "0\n",
            "<re.Match object; span=(32, 32), match=''>\n",
            "0\n",
            "<re.Match object; span=(33, 33), match=''>\n",
            "0\n",
            "<re.Match object; span=(34, 34), match=''>\n",
            "0\n",
            "<re.Match object; span=(35, 35), match=''>\n",
            "0\n",
            "<re.Match object; span=(36, 36), match=''>\n",
            "0\n",
            "<re.Match object; span=(37, 37), match=''>\n",
            "0\n",
            "<re.Match object; span=(38, 38), match=''>\n",
            "0\n",
            "<re.Match object; span=(39, 39), match=''>\n",
            "0\n",
            "<re.Match object; span=(40, 40), match=''>\n",
            "0\n",
            "<re.Match object; span=(41, 41), match=''>\n",
            "0\n"
          ]
        }
      ]
    },
    {
      "cell_type": "code",
      "source": [
        "dates='''\n",
        "1/1/2022\n",
        "01/01/2022\n",
        "\n",
        "2022-1-1\n",
        "2022-12-9\n",
        "2022.12.9\n",
        "2022/12/9\n",
        "\n",
        "9-12-2022\n",
        "03-12-2022\n",
        "'''\n",
        "\n",
        "pattern=re.compile(r\"\\d{1,4}[-/.]\\d{1,4}[-/.]\\d{1,4}\")\n",
        "matches=pattern.findall(dates)\n",
        "for match in matches:\n",
        "  print(match)"
      ],
      "metadata": {
        "colab": {
          "base_uri": "https://localhost:8080/"
        },
        "id": "11sWVJos6B2w",
        "outputId": "2958b3b6-00d4-4e66-b929-c69e0d373b4c"
      },
      "execution_count": null,
      "outputs": [
        {
          "output_type": "stream",
          "name": "stdout",
          "text": [
            "1/1/2022\n",
            "01/01/2022\n",
            "2022-1-1\n",
            "2022-12-9\n",
            "2022.12.9\n",
            "2022/12/9\n",
            "9-12-2022\n",
            "03-12-2022\n"
          ]
        }
      ]
    },
    {
      "cell_type": "code",
      "source": [
        "dates='''\n",
        "1/1/2022\n",
        "01/01/2022\n",
        "\n",
        "2022-1-1\n",
        "2022-12-9\n",
        "2022.12.9\n",
        "2022/12/9\n",
        "\n",
        "9-12-2022\n",
        "03-12-2022\n",
        "'''\n",
        "\n",
        "pattern=re.compile(r\"\\d{1,4}-\\d{1,4}-\\d{1,4}\")\n",
        "matches=pattern.findall(dates)\n",
        "for match in matches:\n",
        "  print(match)"
      ],
      "metadata": {
        "colab": {
          "base_uri": "https://localhost:8080/"
        },
        "id": "GC812IZQ8RNN",
        "outputId": "910be722-36f6-4eb9-e890-177f9a17d19d"
      },
      "execution_count": null,
      "outputs": [
        {
          "output_type": "stream",
          "name": "stdout",
          "text": [
            "2022-1-1\n",
            "2022-12-9\n",
            "9-12-2022\n",
            "03-12-2022\n"
          ]
        }
      ]
    },
    {
      "cell_type": "code",
      "source": [
        "dates='''\n",
        "1/1/2022\n",
        "01/01/2022\n",
        "\n",
        "2022-1-1\n",
        "2022-12-9\n",
        "2022.12.9\n",
        "2022/12/9\n",
        "\n",
        "9-12-2022\n",
        "03-12-2022\n",
        "'''\n",
        "\n",
        "pattern=re.compile(r\"\\d+[-/.]\\d+[-/.]\\d+\")\n",
        "matches=pattern.findall(dates)\n",
        "for match in matches:\n",
        "  print(match)"
      ],
      "metadata": {
        "colab": {
          "base_uri": "https://localhost:8080/"
        },
        "id": "94P26f458WgN",
        "outputId": "bfe52e47-499f-4a58-ac15-a5694c4ddb7a"
      },
      "execution_count": null,
      "outputs": [
        {
          "output_type": "stream",
          "name": "stdout",
          "text": [
            "1/1/2022\n",
            "01/01/2022\n",
            "2022-1-1\n",
            "2022-12-9\n",
            "2022.12.9\n",
            "2022/12/9\n",
            "9-12-2022\n",
            "03-12-2022\n"
          ]
        }
      ]
    },
    {
      "cell_type": "code",
      "source": [
        "my_string='''\n",
        "Mr Simpson\n",
        "Mrs Simpson\n",
        "Mr. Brown\n",
        "Ms Smith\n",
        "Mr. T\n",
        "'''\n",
        "pattern=re.compile(r\"Mr?s?\\.?\\s\\w+\")\n",
        "matches=pattern.findall(my_string)\n",
        "print(matches)"
      ],
      "metadata": {
        "colab": {
          "base_uri": "https://localhost:8080/"
        },
        "id": "ZlweKAz--T0I",
        "outputId": "fdb7c934-267a-48ca-ea2a-29ac289f022a"
      },
      "execution_count": null,
      "outputs": [
        {
          "output_type": "stream",
          "name": "stdout",
          "text": [
            "['Mr Simpson', 'Mrs Simpson', 'Mr. Brown', 'Ms Smith', 'Mr. T']\n"
          ]
        }
      ]
    },
    {
      "cell_type": "code",
      "source": [
        "emails='''\n",
        "pythonengineer@gmail.com\n",
        "Python-engineer@gmx.de\n",
        "python-engineer123@my-domain.org\n",
        "python.com\n",
        "python@123\n",
        "python@123ryahoo.com'''\n",
        "pattern=re.compile(r'\\S+@\\S+\\.\\w+')\n",
        "matches=pattern.findall(emails)\n",
        "print(matches)"
      ],
      "metadata": {
        "colab": {
          "base_uri": "https://localhost:8080/"
        },
        "id": "6sPfL7LWAdlc",
        "outputId": "d0774130-9e07-4e64-ce9e-2e276b968218"
      },
      "execution_count": null,
      "outputs": [
        {
          "output_type": "stream",
          "name": "stdout",
          "text": [
            "['pythonengineer@gmail.com', 'Python-engineer@gmx.de', 'python-engineer123@my-domain.org', 'python@123ryahoo.com']\n"
          ]
        }
      ]
    },
    {
      "cell_type": "code",
      "source": [
        "emails='''\n",
        "pythonengineer@gmail.com\n",
        "Python-engineer@gmx.de\n",
        "python-engineer123@my-domain.org\n",
        "python.com\n",
        "python@123\n",
        "python@123ryahoo.com'''\n",
        "pattern=re.compile(r'(\\S+)@(\\S+)\\.(\\w+)')\n",
        "matches=pattern.finditer(emails)\n",
        "for match in matches:\n",
        "  print(match.group(2))\n",
        "  print(match.group(3))"
      ],
      "metadata": {
        "colab": {
          "base_uri": "https://localhost:8080/"
        },
        "id": "newVnZRNDjVk",
        "outputId": "ca29dcbf-736d-4b7c-c7de-ca1b79ae3e89"
      },
      "execution_count": null,
      "outputs": [
        {
          "output_type": "stream",
          "name": "stdout",
          "text": [
            "gmail\n",
            "com\n",
            "gmx\n",
            "de\n",
            "my-domain\n",
            "org\n",
            "123ryahoo\n",
            "com\n"
          ]
        }
      ]
    },
    {
      "cell_type": "code",
      "source": [
        "urls=\"\"\"\n",
        "hello\n",
        "2020-05-20\n",
        "http://python-engineer.com\n",
        "https://www.python-engineer.com\n",
        "http://www.pyeng.net\n",
        "http://pythonmaster\"\"\"\n",
        "pattern=re.compile(r\"https?://(w{3}\\.)?(\\S+)\\.(com|net)\")\n",
        "matches=pattern.finditer(urls)\n",
        "for match in matches:\n",
        "  print(match.group())\n",
        "  print(match.group(1))\n",
        "  print(match.group(2))\n"
      ],
      "metadata": {
        "colab": {
          "base_uri": "https://localhost:8080/"
        },
        "id": "poc1CQzf_ZNg",
        "outputId": "5d815ed8-9518-43f9-be1f-88ddea0a0bb4"
      },
      "execution_count": null,
      "outputs": [
        {
          "output_type": "stream",
          "name": "stdout",
          "text": [
            "http://python-engineer.com\n",
            "None\n",
            "python-engineer\n",
            "https://www.python-engineer.com\n",
            "www.\n",
            "python-engineer\n",
            "http://www.pyeng.net\n",
            "www.\n",
            "pyeng\n"
          ]
        }
      ]
    },
    {
      "cell_type": "code",
      "source": [
        "subbed_urls=pattern.sub(r\"\\2\",urls)\n",
        "print(subbed_urls)"
      ],
      "metadata": {
        "colab": {
          "base_uri": "https://localhost:8080/"
        },
        "id": "KwZAxqJCGhKQ",
        "outputId": "ea8f8db8-73c7-43f4-8a59-c9828a7f2e53"
      },
      "execution_count": null,
      "outputs": [
        {
          "output_type": "stream",
          "name": "stdout",
          "text": [
            "\n",
            "hello\n",
            "2020-05-20\n",
            "python-engineer\n",
            "python-engineer\n",
            "pyeng\n",
            "http://pythonmaster\n"
          ]
        }
      ]
    },
    {
      "cell_type": "code",
      "source": [],
      "metadata": {
        "id": "J3FlsZxSGu44"
      },
      "execution_count": null,
      "outputs": []
    }
  ]
}