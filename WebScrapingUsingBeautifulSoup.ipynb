{
 "cells": [
  {
   "cell_type": "code",
   "execution_count": 1,
   "metadata": {},
   "outputs": [],
   "source": [
    "from bs4 import BeautifulSoup"
   ]
  },
  {
   "cell_type": "code",
   "execution_count": 2,
   "metadata": {},
   "outputs": [],
   "source": [
    "import urllib"
   ]
  },
  {
   "cell_type": "code",
   "execution_count": 3,
   "metadata": {},
   "outputs": [],
   "source": [
    "link_init=\"https://www.bankbazaar.com/reviews.html?reviewPageNumber=\""
   ]
  },
  {
   "cell_type": "code",
   "execution_count": 5,
   "metadata": {},
   "outputs": [],
   "source": [
    "url=link_init + str(1)\n",
    "\n",
    "headers={'User-Agent':\"Mozilla/5.0 (Windows NT 10.0; Win64; x64) AppleWebKit/537.36 (KHTML, like Gecko) Chrome/103.0.0.0 Safari/537.36\"}\n",
    "req=urllib.request.Request(url=url,headers=headers)\n",
    "\n"
   ]
  },
  {
   "cell_type": "code",
   "execution_count": 10,
   "metadata": {},
   "outputs": [],
   "source": [
    "doc=urllib.request.urlopen(req).read().decode('utf-8')"
   ]
  },
  {
   "cell_type": "code",
   "execution_count": null,
   "metadata": {},
   "outputs": [],
   "source": [
    "doc"
   ]
  },
  {
   "cell_type": "code",
   "execution_count": 12,
   "metadata": {},
   "outputs": [
    {
     "data": {
      "text/plain": [
       "'<!DOCTYPE html>\\n<html lang=\"en-IN\">\\n<head>\\n    <title>Reviews of Credit Cards, Loans, Insurance |Ban'"
      ]
     },
     "execution_count": 12,
     "metadata": {},
     "output_type": "execute_result"
    }
   ],
   "source": [
    "doc[:100]"
   ]
  },
  {
   "cell_type": "code",
   "execution_count": 13,
   "metadata": {},
   "outputs": [],
   "source": [
    "bsObj=BeautifulSoup(doc)"
   ]
  },
  {
   "cell_type": "code",
   "execution_count": null,
   "metadata": {},
   "outputs": [],
   "source": [
    "bsObj"
   ]
  },
  {
   "cell_type": "code",
   "execution_count": 15,
   "metadata": {},
   "outputs": [],
   "source": [
    "only_reviews=bsObj.find_all(name='div',attrs={'class':'text_here review-desc-more'})"
   ]
  },
  {
   "cell_type": "code",
   "execution_count": 17,
   "metadata": {},
   "outputs": [
    {
     "data": {
      "text/plain": [
       "<div class=\"text_here review-desc-more\" itemprop=\"description\">\n",
       "                                BAJAJ FINANCE has offered a pre approved personal loan offer and I accepted for the same. I have taken this loan 2 months back. The process was smooth and submitted required docuemtns within 1.5 hrs amount was credited to my account with 1.64L with tenure period of 4 years. The rate of interest is 18% which is high. Fee was deducted of 9K. There is pre closure option after 30 days with charge of 4%. EMI need to pay the amount of 4K. The best which I would like to say is online process was done with short term. </div>"
      ]
     },
     "execution_count": 17,
     "metadata": {},
     "output_type": "execute_result"
    }
   ],
   "source": [
    "only_reviews[0]"
   ]
  },
  {
   "cell_type": "code",
   "execution_count": 20,
   "metadata": {},
   "outputs": [
    {
     "data": {
      "text/plain": [
       "['\\n                                BAJAJ FINANCE has offered a pre approved personal loan offer and I accepted for the same. I have taken this loan 2 months back. The process was smooth and submitted required docuemtns within 1.5 hrs amount was credited to my account with 1.64L with tenure period of 4 years. The rate of interest is 18% which is high. Fee was deducted of 9K. There is pre closure option after 30 days with charge of 4%. EMI need to pay the amount of 4K. The best which I would like to say is online process was done with short term. ',\n",
       " '\\n                                I got RBL card offer from BAJAJ Finance. I have been using this card past 10 months which is a life time free card. The credit limit is sufficient of 55K. EMI conversion is avail and I can convert via mobile app whenever required with nominal charge. I use this card for general purpose. Based on usage I get points but not yet redeem it.',\n",
       " '\\n                                SBI credit card have offers and reward points but I have not redeem them yet, this is a domestic card, the credit limit is of 50000 which I am very much satisfied as per my need. I got my statement on time. I used this card for personal purposes.The card is very user friendly.',\n",
       " '\\n                                I am using SBI credit card for more than three months, there are some reward points and offers in the card. I used this card for online shopping, fuel surcharge and groceries.The credit limit of the card is sufficient and I like the most about the card is that it is a life time free card and very good to use.',\n",
       " \"\\n                                The bank agent suggest me to take credit card from INDUSIND and I have taken it because it doesn't have any annual fee. The offer and reward points are available in the card are good. I am satisfied with the limit of the card. I used the card for general purposes. But it will be nice, if the offers and reward points will be more. \",\n",
       " '\\n                                I am using INDUSIND credit card for 3 months. The card have no offers available  and also there is no rewards. The only benefit is that its a life time free card and the credit limit is only for 75000 I am not that satisfied as i expected  to get around 1.5 lakh. Apart from the limit over all experience is good.',\n",
       " '\\n                                I have got INDUSIND credit card few months ago and I have used it for two months now ,the credit limit of the card is Rs.70000 which is a life time free card. The bank have informed me every details about the reward points and offers but I have not got any time check it. I am satisfied with their card service.',\n",
       " '\\n                                I have used  SBI credit card for 2-3 months, but I have not got any time to check about the offers available in the card. The limit of the card is 38000 and I am satisfied because its a life time free card. I used to get my  card statement on time and the net banking is also working very well.',\n",
       " '\\n                                Since it is a life time free card offer from INDUSIND so I chosen it and applied through online. I received  a call on time and they have done the verification process. Hence I received the card by 7 days, the credit limit is okay for me. Its easy to use for all purposes. ',\n",
       " '\\n                                CITI has provided good offers and benefits on 2 months before. So I chosen this card and applied through online. It is annual fee chargeable of 500 rupees bu there is waiver off option if I spend 30K within a year. The credit limit is 65K. There is EMI conversion avail for this card. ',\n",
       " '\\n                                I have used credit card from HDFC bank for 1 year which is very good and  also very comfortable, its a life time free card and lots of offers are available in the card. This card was suggested to me by my colleague. Mobile banking also functions very smooth.',\n",
       " '\\n                                INDUSIND bank credit card have an credit limit of of Rs.75000, there is no offers available in the card and it also have a charges of 3000 along with GST.  I hardly receive any remainder messages for my bill payment due to that some time I could not pay my bill on time. I would advise them send my bill on time before the due date.',\n",
       " '\\n                                Through showroom got suggestion to take a car loan from AXIS bank. I taken this loan on 3 years back. I got the loan amount of 4L with tenure period of 4 years. The rate of interest was okay. I done the down payment of around 1.5L. EMI need to pay of 10,500 rupees. The car model is Swift Dzire. I taken for commercial purpose based on amount which I get on monthly doing the EMI payment.',\n",
       " '\\n                                I have been using AXIS bank credit card for 3 years, Its a life time free card  so I applied the card through bank. The agent have informed me everything about the card. I used to get offers of 10% on petrol bunk and shopping.The limit of the card is Rs.45000 and I used to pay my bill directly through bank.I am also using their net banking which is very good.',\n",
       " '\\n                                I got INDUSIND credit card from few months ago.The card have an EMI conversion. I used the card for multi purposes like shopping, online payment, ticket booking. This is annually chargeable card, I am not satisfied with the credit limit of Rs.75000 as I am expecting more than than 1 lakh.',\n",
       " '\\n                                I got a life time free card offer from INDUSIND bank hence applied through online on three months back. I received the call on time and the process was done on smooth. I got the card on exact time frame. The credit limit is sufficient  and they provided good offers and benefit as well.I use this card for shopping and  travel purpose. ',\n",
       " '\\n                                RBL credit card is a chargeable card, I always have to go to Bajaj Finance to pay my credit card bill. I am not satisfied with the customer service which has to be improved. I used this card when ever needed for shopping, fuel surcharge and bill payment.The limit of the card is fine.',\n",
       " '\\n                                I taken a consumer durable loan from BAJAJ FINSERV to purchase the air conditioner. The amount which I got was sufficient to buy this product. I use to pay EMI amount around of 3K . Some time I faced an issue for the payment.  The tenure period would be 8 months. ',\n",
       " '\\n                                HDFC credit card is very convenience to use, I have been using the card for 4.5 months for Shopping, groceries, fuel surcharge and electricity bill payment also. I pay my credit card bill through ATM. I always get my bill on time, this card was suggested to me by the bank agent.',\n",
       " '\\n                                HDFC has done their service as perfect  to get two wheeler loan. I taken this loan on 2.5 years back. The tenure period of  2 years.  On  8 months before only I closed the loan.  The amount was sufficient of  85K. The rate of interest is nominal.  EMI need to pay of  5K. The  customer service is good. Bike model is Yamaha FZ. ']"
      ]
     },
     "execution_count": 20,
     "metadata": {},
     "output_type": "execute_result"
    }
   ],
   "source": [
    "only_reviews_txts=[x.text for x in only_reviews]\n",
    "only_reviews_txts"
   ]
  },
  {
   "cell_type": "code",
   "execution_count": 21,
   "metadata": {},
   "outputs": [
    {
     "data": {
      "text/plain": [
       "['\\n                                BAJAJ FINANCE has offered a pre approved personal loan offer and I accepted for the same. I have taken this loan 2 months back. The process was smooth and submitted required docuemtns within 1.5 hrs amount was credited to my account with 1.64L with tenure period of 4 years. The rate of interest is 18% which is high. Fee was deducted of 9K. There is pre closure option after 30 days with charge of 4%. EMI need to pay the amount of 4K. The best which I would like to say is online process was done with short term. ',\n",
       " '\\n                                I got RBL card offer from BAJAJ Finance. I have been using this card past 10 months which is a life time free card. The credit limit is sufficient of 55K. EMI conversion is avail and I can convert via mobile app whenever required with nominal charge. I use this card for general purpose. Based on usage I get points but not yet redeem it.']"
      ]
     },
     "execution_count": 21,
     "metadata": {},
     "output_type": "execute_result"
    }
   ],
   "source": [
    "only_reviews_txts[:2]"
   ]
  },
  {
   "cell_type": "code",
   "execution_count": 27,
   "metadata": {},
   "outputs": [],
   "source": [
    "containers=bsObj(name='li',attrs={'class':'review-box'})"
   ]
  },
  {
   "cell_type": "code",
   "execution_count": 29,
   "metadata": {},
   "outputs": [
    {
     "data": {
      "text/plain": [
       "<li class=\"review-box\">\n",
       "<div class=\"review-bank-title\">\n",
       "<img alt=\"review\" height=\"20\" loading=\"lazy\" src=\"https://static.bankbazaar.com/images/common/bank-logo/ALL_BANKS.png\" title=\"review\" width=\"61\"/>\n",
       "</div>\n",
       "<a class=\"user-review-comment js-individual-title\" data-action=\"click:titleLink\" data-actionloc=\"reviews:ReviewCards\" href=\"/showUserReviews-1353983-BAJAJ_FINANCE-PERSONAL_LOAN.html\" target=\"_blank\" title=\"Need to decrease interest rate \">\"Need to decrease interest rate \"</a>\n",
       "<div class=\"dontshow\" itemscope=\"\" itemtype=\"http://schema.org/Brand\">\n",
       "<span itemprop=\"name\">\n",
       "                                            BAJAJ FINANCE LIMITED</span>\n",
       "</div>\n",
       "<div class=\"rating-section review-user-score\">\n",
       "<div class=\"medium-rating rating review-score-container\" id=\"review.reviewRating.customer.0\">\n",
       "<span class=\"star-rating star-rating-4-0\"></span>\n",
       "<input name=\"review.reviewRating.customer.0\" type=\"hidden\" value=\"4.0\"/>\n",
       "</div> <span> <span class=\"dontshow\">0.5</span>\n",
       "<span>4.0</span>/<span>5</span></span> \"Great!\"\n",
       "                            </div>\n",
       "<div class=\"text_here review-desc-more\" itemprop=\"description\">\n",
       "                                BAJAJ FINANCE has offered a pre approved personal loan offer and I accepted for the same. I have taken this loan 2 months back. The process was smooth and submitted required docuemtns within 1.5 hrs amount was credited to my account with 1.64L with tenure period of 4 years. The rate of interest is 18% which is high. Fee was deducted of 9K. There is pre closure option after 30 days with charge of 4%. EMI need to pay the amount of 4K. The best which I would like to say is online process was done with short term. </div>\n",
       "<div class=\"review-question js-asking\">\n",
       "                                        Was this review helpful?\n",
       "                                    <button class=\"review-yes-btn js-voteup\" data-review-id=\"1353983\" data-vote-count=\"152\">Yes</button>\n",
       "<span class=\"review-likes-box\"> 152</span>\n",
       "</div>\n",
       "<div class=\"reviewer-profile\" content=\"2020-03-21\" itemprop=\"datepublished\">\n",
       "<span class=\"js-author-name\" itemprop=\"author\">JOHN</span>\n",
       "                                    , chennai<br/>\n",
       "                                    Reviewed on Mar 21, 2020</div>\n",
       "</li>"
      ]
     },
     "execution_count": 29,
     "metadata": {},
     "output_type": "execute_result"
    }
   ],
   "source": [
    "containers[0]"
   ]
  },
  {
   "cell_type": "code",
   "execution_count": 30,
   "metadata": {},
   "outputs": [],
   "source": [
    "containers_0=containers[0]"
   ]
  },
  {
   "cell_type": "code",
   "execution_count": 31,
   "metadata": {},
   "outputs": [],
   "source": [
    "containers_0.find(name='a',attrs={\"class\":\"review-question js-asking\"})"
   ]
  },
  {
   "cell_type": "code",
   "execution_count": 32,
   "metadata": {},
   "outputs": [
    {
     "data": {
      "text/plain": [
       "<li class=\"review-box\">\n",
       "<div class=\"review-bank-title\">\n",
       "<img alt=\"review\" height=\"20\" loading=\"lazy\" src=\"https://static.bankbazaar.com/images/common/bank-logo/ALL_BANKS.png\" title=\"review\" width=\"61\"/>\n",
       "</div>\n",
       "<a class=\"user-review-comment js-individual-title\" data-action=\"click:titleLink\" data-actionloc=\"reviews:ReviewCards\" href=\"/showUserReviews-1353983-BAJAJ_FINANCE-PERSONAL_LOAN.html\" target=\"_blank\" title=\"Need to decrease interest rate \">\"Need to decrease interest rate \"</a>\n",
       "<div class=\"dontshow\" itemscope=\"\" itemtype=\"http://schema.org/Brand\">\n",
       "<span itemprop=\"name\">\n",
       "                                            BAJAJ FINANCE LIMITED</span>\n",
       "</div>\n",
       "<div class=\"rating-section review-user-score\">\n",
       "<div class=\"medium-rating rating review-score-container\" id=\"review.reviewRating.customer.0\">\n",
       "<span class=\"star-rating star-rating-4-0\"></span>\n",
       "<input name=\"review.reviewRating.customer.0\" type=\"hidden\" value=\"4.0\"/>\n",
       "</div> <span> <span class=\"dontshow\">0.5</span>\n",
       "<span>4.0</span>/<span>5</span></span> \"Great!\"\n",
       "                            </div>\n",
       "<div class=\"text_here review-desc-more\" itemprop=\"description\">\n",
       "                                BAJAJ FINANCE has offered a pre approved personal loan offer and I accepted for the same. I have taken this loan 2 months back. The process was smooth and submitted required docuemtns within 1.5 hrs amount was credited to my account with 1.64L with tenure period of 4 years. The rate of interest is 18% which is high. Fee was deducted of 9K. There is pre closure option after 30 days with charge of 4%. EMI need to pay the amount of 4K. The best which I would like to say is online process was done with short term. </div>\n",
       "<div class=\"review-question js-asking\">\n",
       "                                        Was this review helpful?\n",
       "                                    <button class=\"review-yes-btn js-voteup\" data-review-id=\"1353983\" data-vote-count=\"152\">Yes</button>\n",
       "<span class=\"review-likes-box\"> 152</span>\n",
       "</div>\n",
       "<div class=\"reviewer-profile\" content=\"2020-03-21\" itemprop=\"datepublished\">\n",
       "<span class=\"js-author-name\" itemprop=\"author\">JOHN</span>\n",
       "                                    , chennai<br/>\n",
       "                                    Reviewed on Mar 21, 2020</div>\n",
       "</li>"
      ]
     },
     "execution_count": 32,
     "metadata": {},
     "output_type": "execute_result"
    }
   ],
   "source": [
    "containers_0"
   ]
  },
  {
   "cell_type": "code",
   "execution_count": 42,
   "metadata": {},
   "outputs": [],
   "source": [
    "xx=containers_0.find(name='a',attrs={\"class\":\"user-review-comment js-individual-title\"})"
   ]
  },
  {
   "cell_type": "code",
   "execution_count": 43,
   "metadata": {},
   "outputs": [
    {
     "data": {
      "text/plain": [
       "'\"Need to decrease interest rate \"'"
      ]
     },
     "execution_count": 43,
     "metadata": {},
     "output_type": "execute_result"
    }
   ],
   "source": [
    "xx.text"
   ]
  },
  {
   "cell_type": "code",
   "execution_count": 45,
   "metadata": {},
   "outputs": [],
   "source": [
    "title=xx.get_attribute_list('title')[0].strip()"
   ]
  },
  {
   "cell_type": "code",
   "execution_count": 46,
   "metadata": {},
   "outputs": [
    {
     "data": {
      "text/plain": [
       "'Need to decrease interest rate'"
      ]
     },
     "execution_count": 46,
     "metadata": {},
     "output_type": "execute_result"
    }
   ],
   "source": [
    "title"
   ]
  },
  {
   "cell_type": "code",
   "execution_count": 55,
   "metadata": {},
   "outputs": [],
   "source": [
    "rv=containers_0.find(name='a',attrs={\"class\":\"user-review-comment js-individual-title\"})"
   ]
  },
  {
   "cell_type": "code",
   "execution_count": 56,
   "metadata": {},
   "outputs": [],
   "source": [
    "yy=containers_0.find(name='input',attrs={\"class\":\"rating-section-review final score\"})"
   ]
  },
  {
   "cell_type": "code",
   "execution_count": 58,
   "metadata": {},
   "outputs": [
    {
     "ename": "AttributeError",
     "evalue": "'NoneType' object has no attribute 'get_attribute_list'",
     "output_type": "error",
     "traceback": [
      "\u001b[1;31m---------------------------------------------------------------------------\u001b[0m",
      "\u001b[1;31mAttributeError\u001b[0m                            Traceback (most recent call last)",
      "\u001b[1;32m~\\AppData\\Local\\Temp/ipykernel_17588/1244762304.py\u001b[0m in \u001b[0;36m<module>\u001b[1;34m\u001b[0m\n\u001b[1;32m----> 1\u001b[1;33m \u001b[0myy\u001b[0m\u001b[1;33m.\u001b[0m\u001b[0mget_attribute_list\u001b[0m\u001b[1;33m(\u001b[0m\u001b[1;34m'score'\u001b[0m\u001b[1;33m)\u001b[0m\u001b[1;33m\u001b[0m\u001b[1;33m\u001b[0m\u001b[0m\n\u001b[0m",
      "\u001b[1;31mAttributeError\u001b[0m: 'NoneType' object has no attribute 'get_attribute_list'"
     ]
    }
   ],
   "source": [
    "yy.get_attribute_list('score')"
   ]
  },
  {
   "cell_type": "code",
   "execution_count": null,
   "metadata": {},
   "outputs": [],
   "source": []
  },
  {
   "cell_type": "code",
   "execution_count": null,
   "metadata": {},
   "outputs": [],
   "source": []
  },
  {
   "cell_type": "code",
   "execution_count": null,
   "metadata": {},
   "outputs": [],
   "source": []
  },
  {
   "cell_type": "code",
   "execution_count": 62,
   "metadata": {},
   "outputs": [
    {
     "ename": "AttributeError",
     "evalue": "'NoneType' object has no attribute 'text'",
     "output_type": "error",
     "traceback": [
      "\u001b[1;31m---------------------------------------------------------------------------\u001b[0m",
      "\u001b[1;31mAttributeError\u001b[0m                            Traceback (most recent call last)",
      "\u001b[1;32m~\\AppData\\Local\\Temp/ipykernel_17588/191133487.py\u001b[0m in \u001b[0;36m<module>\u001b[1;34m\u001b[0m\n\u001b[1;32m----> 1\u001b[1;33m \u001b[0muser_profile\u001b[0m\u001b[1;33m=\u001b[0m\u001b[0mcontainers_0\u001b[0m\u001b[1;33m.\u001b[0m\u001b[0mfind\u001b[0m\u001b[1;33m(\u001b[0m\u001b[0mname\u001b[0m\u001b[1;33m=\u001b[0m\u001b[1;34m'div'\u001b[0m\u001b[1;33m,\u001b[0m\u001b[0mattrs\u001b[0m\u001b[1;33m=\u001b[0m\u001b[1;33m{\u001b[0m\u001b[1;34m'class'\u001b[0m\u001b[1;33m:\u001b[0m\u001b[1;34m'review-profile'\u001b[0m\u001b[1;33m}\u001b[0m\u001b[1;33m)\u001b[0m\u001b[1;33m.\u001b[0m\u001b[0mtext\u001b[0m\u001b[1;33m\u001b[0m\u001b[1;33m\u001b[0m\u001b[0m\n\u001b[0m",
      "\u001b[1;31mAttributeError\u001b[0m: 'NoneType' object has no attribute 'text'"
     ]
    }
   ],
   "source": [
    "user_profile=container_0.find(name='div',attrs={'class':'review-profile'}).text"
   ]
  },
  {
   "cell_type": "code",
   "execution_count": 63,
   "metadata": {},
   "outputs": [],
   "source": [
    "import re"
   ]
  },
  {
   "cell_type": "code",
   "execution_count": 64,
   "metadata": {},
   "outputs": [
    {
     "ename": "NameError",
     "evalue": "name 'up' is not defined",
     "output_type": "error",
     "traceback": [
      "\u001b[1;31m---------------------------------------------------------------------------\u001b[0m",
      "\u001b[1;31mNameError\u001b[0m                                 Traceback (most recent call last)",
      "\u001b[1;32m~\\AppData\\Local\\Temp/ipykernel_17588/2346625255.py\u001b[0m in \u001b[0;36m<module>\u001b[1;34m\u001b[0m\n\u001b[1;32m----> 1\u001b[1;33m \u001b[0mre\u001b[0m\u001b[1;33m.\u001b[0m\u001b[0msub\u001b[0m\u001b[1;33m(\u001b[0m\u001b[1;34m'\\\\n'\u001b[0m\u001b[1;33m,\u001b[0m\u001b[1;34m''\u001b[0m\u001b[1;33m,\u001b[0m\u001b[0mup\u001b[0m\u001b[1;33m)\u001b[0m\u001b[1;33m\u001b[0m\u001b[1;33m\u001b[0m\u001b[0m\n\u001b[0m",
      "\u001b[1;31mNameError\u001b[0m: name 'up' is not defined"
     ]
    }
   ],
   "source": [
    "re.sub('\\\\n','',up)"
   ]
  },
  {
   "cell_type": "code",
   "execution_count": 66,
   "metadata": {},
   "outputs": [
    {
     "ename": "SyntaxError",
     "evalue": "invalid syntax (Temp/ipykernel_17588/474241292.py, line 1)",
     "output_type": "error",
     "traceback": [
      "\u001b[1;36m  File \u001b[1;32m\"C:\\Users\\antar\\AppData\\Local\\Temp/ipykernel_17588/474241292.py\"\u001b[1;36m, line \u001b[1;32m1\u001b[0m\n\u001b[1;33m    name=re.findall(\"^[A-z ]+\")up[0].strip()\u001b[0m\n\u001b[1;37m                               ^\u001b[0m\n\u001b[1;31mSyntaxError\u001b[0m\u001b[1;31m:\u001b[0m invalid syntax\n"
     ]
    }
   ],
   "source": [
    "name=re.findall(\"^[A-z ]+\",up)[0].strip()"
   ]
  },
  {
   "cell_type": "code",
   "execution_count": 67,
   "metadata": {},
   "outputs": [
    {
     "ename": "NameError",
     "evalue": "name 'up' is not defined",
     "output_type": "error",
     "traceback": [
      "\u001b[1;31m---------------------------------------------------------------------------\u001b[0m",
      "\u001b[1;31mNameError\u001b[0m                                 Traceback (most recent call last)",
      "\u001b[1;32m~\\AppData\\Local\\Temp/ipykernel_17588/1855908893.py\u001b[0m in \u001b[0;36m<module>\u001b[1;34m\u001b[0m\n\u001b[1;32m----> 1\u001b[1;33m \u001b[0mplace\u001b[0m\u001b[1;33m=\u001b[0m\u001b[0mre\u001b[0m\u001b[1;33m.\u001b[0m\u001b[0mfindall\u001b[0m\u001b[1;33m(\u001b[0m\u001b[1;34m\"?<=,)[A-Za-Z]+\"\u001b[0m\u001b[1;33m,\u001b[0m\u001b[0mup\u001b[0m\u001b[1;33m)\u001b[0m\u001b[1;33m\u001b[0m\u001b[1;33m\u001b[0m\u001b[0m\n\u001b[0m",
      "\u001b[1;31mNameError\u001b[0m: name 'up' is not defined"
     ]
    }
   ],
   "source": [
    "place=re.findall(\"?<=,)[A-Za-Z]+\",up)"
   ]
  },
  {
   "cell_type": "code",
   "execution_count": 68,
   "metadata": {},
   "outputs": [
    {
     "ename": "NameError",
     "evalue": "name 'place' is not defined",
     "output_type": "error",
     "traceback": [
      "\u001b[1;31m---------------------------------------------------------------------------\u001b[0m",
      "\u001b[1;31mNameError\u001b[0m                                 Traceback (most recent call last)",
      "\u001b[1;32m~\\AppData\\Local\\Temp/ipykernel_17588/4025378431.py\u001b[0m in \u001b[0;36m<module>\u001b[1;34m\u001b[0m\n\u001b[1;32m----> 1\u001b[1;33m \u001b[0mplace\u001b[0m\u001b[1;33m\u001b[0m\u001b[1;33m\u001b[0m\u001b[0m\n\u001b[0m",
      "\u001b[1;31mNameError\u001b[0m: name 'place' is not defined"
     ]
    }
   ],
   "source": [
    "place"
   ]
  },
  {
   "cell_type": "code",
   "execution_count": null,
   "metadata": {},
   "outputs": [],
   "source": [
    "data=re.findall(\"[A-Za-z]{3}[0-9]\"{2},[0-9]{4})\n",
    "place=re.findall(?)"
   ]
  },
  {
   "cell_type": "code",
   "execution_count": null,
   "metadata": {},
   "outputs": [],
   "source": []
  },
  {
   "cell_type": "code",
   "execution_count": null,
   "metadata": {},
   "outputs": [],
   "source": []
  },
  {
   "cell_type": "code",
   "execution_count": null,
   "metadata": {},
   "outputs": [],
   "source": []
  },
  {
   "cell_type": "code",
   "execution_count": null,
   "metadata": {},
   "outputs": [],
   "source": []
  }
 ],
 "metadata": {
  "kernelspec": {
   "display_name": "Python 3 (ipykernel)",
   "language": "python",
   "name": "python3"
  },
  "language_info": {
   "codemirror_mode": {
    "name": "ipython",
    "version": 3
   },
   "file_extension": ".py",
   "mimetype": "text/x-python",
   "name": "python",
   "nbconvert_exporter": "python",
   "pygments_lexer": "ipython3",
   "version": "3.9.7"
  },
  "vscode": {
   "interpreter": {
    "hash": "e42634819b8c191a5d07eaf23810ff32516dd8d3875f28ec3e488928fbd3c187"
   }
  }
 },
 "nbformat": 4,
 "nbformat_minor": 2
}
